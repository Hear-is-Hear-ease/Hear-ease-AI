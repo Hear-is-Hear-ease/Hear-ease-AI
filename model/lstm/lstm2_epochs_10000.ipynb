{
  "cells": [
    {
      "cell_type": "code",
      "execution_count": 1,
      "metadata": {
        "colab": {
          "base_uri": "https://localhost:8080/"
        },
        "id": "VMbPlVTocD-Q",
        "outputId": "a0e02c1c-c960-4373-efc8-283058c0278d"
      },
      "outputs": [
        {
          "output_type": "stream",
          "name": "stdout",
          "text": [
            "Mounted at /content/drive\n"
          ]
        }
      ],
      "source": [
        "from google.colab import drive\n",
        "drive.mount('/content/drive')"
      ]
    },
    {
      "cell_type": "code",
      "source": [
        "# import shutil\n",
        "# shutil.rmtree('/content/drive/MyDrive/baby_cry/data2')"
      ],
      "metadata": {
        "id": "KOvBXclZh0dV"
      },
      "execution_count": null,
      "outputs": []
    },
    {
      "cell_type": "code",
      "execution_count": 2,
      "metadata": {
        "id": "xhDBdKKtaw-V"
      },
      "outputs": [],
      "source": [
        "import tensorflow as tf\n",
        "import numpy as np\n",
        "import pandas as pd\n",
        "import os\n",
        "import librosa\n",
        "\n",
        "from scipy.stats import skew\n",
        "from scipy.stats import kurtosis, median_abs_deviation\n",
        "from typing import Optional, Union"
      ]
    },
    {
      "cell_type": "code",
      "source": [
        "# import zipfile\n",
        "\n",
        "# def unzip_file(zip_filepath, dest_directory):\n",
        "#     with zipfile.ZipFile(zip_filepath, 'r') as zip_ref:\n",
        "#         zip_ref.extractall(dest_directory)\n",
        "#     print(f\"'{zip_filepath}' has been extracted to '{dest_directory}'\")\n",
        "\n",
        "# # 사용 예제\n",
        "# zip_path = '/content/drive/MyDrive/baby_cry/data2.zip'\n",
        "# unzip_dir = '/content/drive/MyDrive/baby_cry'\n",
        "# unzip_file(zip_path,unzip_dir)"
      ],
      "metadata": {
        "colab": {
          "base_uri": "https://localhost:8080/"
        },
        "id": "73Q7Da7sehTl",
        "outputId": "4856ec63-22f4-4329-f36b-97f4a220dc1c"
      },
      "execution_count": null,
      "outputs": [
        {
          "output_type": "stream",
          "name": "stdout",
          "text": [
            "'/content/drive/MyDrive/baby_cry/data2.zip' has been extracted to '/content/drive/MyDrive/baby_cry'\n"
          ]
        }
      ]
    },
    {
      "cell_type": "code",
      "execution_count": 3,
      "metadata": {
        "id": "8s-cP0Lkegcx"
      },
      "outputs": [],
      "source": [
        "main_path = '/content/drive/MyDrive/baby_cry'\n",
        "\n",
        "# main_path = os.path.join(os.getcwd().rsplit(\n",
        "#     'baby-cry-classification')[0], 'baby-cry-classification')\n",
        "data_path = os.path.join(main_path, 'data2')\n",
        "csv_path = os.path.join(main_path, 'origin_data_info.csv')\n",
        "state_list = ['sad', 'hug', 'diaper', 'hungry', 'sleepy', 'awake', 'uncomfortable']\n",
        "\n",
        "import sys\n",
        "sys.path.append(main_path)"
      ]
    },
    {
      "cell_type": "code",
      "execution_count": 4,
      "metadata": {
        "id": "pQiJRC8cegcy"
      },
      "outputs": [],
      "source": [
        "# from utils.os import *\n",
        "# from utils.sound import *\n",
        "# from trans_data.get_state_list import get_state_file_list"
      ]
    },
    {
      "cell_type": "code",
      "execution_count": 5,
      "metadata": {
        "id": "JdvRvtGlwTxJ"
      },
      "outputs": [],
      "source": [
        "# Colab을 활용한다면 이 부분 주석 해제\n",
        "def __format_extension(extension: Optional[Union[str, list[str]]]) -> Optional[list[str]]:\n",
        "    if extension:\n",
        "        if type(extension) == str:\n",
        "            extension = [extension]\n",
        "        extension = [ex.replace('.', '') for ex in extension]\n",
        "    return extension\n",
        "\n",
        "\n",
        "def __file_itorator(path: str,\n",
        "                    include: Optional[list[str]] = None,\n",
        "                    exclude: Optional[list[str]] = None):\n",
        "    for (parent_path, dirs, files) in os.walk(path):\n",
        "        for dir in dirs:\n",
        "            __file_itorator(os.path.join(path, dir), include)\n",
        "\n",
        "        for file in files:\n",
        "            s = file.rsplit('.', 1)\n",
        "            if len(s) == 1:\n",
        "                continue\n",
        "            if include and s[1] not in include:\n",
        "                continue\n",
        "            if exclude and s[1] in exclude:\n",
        "                continue\n",
        "\n",
        "            yield [parent_path, file]\n",
        "\n",
        "\n",
        "# Itorate files with including and excluding files from path\n",
        "def file_itorator(path: str,\n",
        "                  include: Optional[Union[str, list[str]]] = None,\n",
        "                  exclude: Optional[Union[str, list[str]]] = None):\n",
        "\n",
        "    include = __format_extension(include)\n",
        "    exclude = __format_extension(exclude)\n",
        "\n",
        "    return __file_itorator(path, include, exclude)\n",
        "\n",
        "def get_state_list_from_dir_name(data_path: str, with_path: bool = False, include_etc: bool = False) -> list[str]:\n",
        "    \"\"\"\n",
        "    폴더 이름으로부터 state list를 추출한다.\n",
        "\n",
        "    Parameters:\n",
        "      data_path : state list를 추출할 폴더 경로\n",
        "\n",
        "      with_path=False : True일 경우 state 폴더의 경로를 가져온다.\n",
        "\n",
        "      include_etc=False : True일 경우 etc 폴더를 state에 포함한다.\n",
        "\n",
        "    Returns:\n",
        "      state 리스트를 반환한다.\n",
        "    \"\"\"\n",
        "    state_list = []\n",
        "    for dir in os.listdir(data_path):\n",
        "        dir_path = os.path.join(data_path, dir)\n",
        "        if os.path.isdir(dir_path):\n",
        "            state_list.append(dir_path if with_path else dir)\n",
        "\n",
        "    etc_path = os.path.join(data_path, 'etc')\n",
        "    if include_etc == False and os.path.exists(etc_path):\n",
        "        state_list.remove(etc_path if with_path else 'etc')\n",
        "    return state_list\n",
        "\n",
        "\n",
        "def get_state_file_list(data_path: str,\n",
        "                        state_list: Optional[list[str]] = None,\n",
        "                        include: Optional[Union[str, list[str]]] = None,\n",
        "                        exclude: Optional[Union[str, list[str]]] = None):\n",
        "    \"\"\"\n",
        "    각각의 state에서 n개의 무작위 파일을 선택하여 경로를 반환한다.\n",
        "\n",
        "    Parameters:\n",
        "\n",
        "        * data_path : 파일의 경로\n",
        "\n",
        "        * state_list=None : state 리스트를 받을 경우 state_list가 포함하는 state 폴더의 파일들만 이름을 변경한다.\n",
        "\n",
        "    Returns: 파일의 경로 리스트\n",
        "    \"\"\"\n",
        "    if not os.path.exists(data_path):\n",
        "        raise OSError(f'path {data_path} not exist.')\n",
        "\n",
        "    # Get state list if not exist\n",
        "    if state_list == None:\n",
        "        state_list = get_state_list_from_dir_name(data_path)\n",
        "    else:\n",
        "        for state in state_list:\n",
        "            if not os.path.exists(os.path.join(data_path, state)):\n",
        "                raise OSError(\n",
        "                    f\"The path corresponding to state '{state}' does not exist.\")\n",
        "\n",
        "    file_list = []\n",
        "    for state in state_list:\n",
        "        file_list.extend([os.path.join(path, file) for path, file in file_itorator(\n",
        "            os.path.join(data_path, state),\n",
        "            include, exclude\n",
        "        )])\n",
        "\n",
        "    return file_list\n",
        "\n",
        "# Get duration of sound file.\n",
        "def get_duration(paths: str) -> float:\n",
        "    return librosa.get_duration(path=paths)\n"
      ]
    },
    {
      "cell_type": "code",
      "execution_count": 6,
      "metadata": {
        "id": "Nxf6mKLLv-2G"
      },
      "outputs": [],
      "source": [
        "def get_mfcc(file_path,\n",
        "             sampling_freq=16000,\n",
        "             mfcc_coef=40,\n",
        "             mfcc_coef_retain=25,\n",
        "             mfcc_window_duration=0.0232):\n",
        "    \"\"\"\n",
        "    오디오 파일에 대한 MFCC를 분석한 뒤 값을 반환한다.\n",
        "\n",
        "    Parameters:\n",
        "        file_path:            오디오 파일의 경로\n",
        "        sampling_freq:        sampling rate\n",
        "        mfcc_coef:            frame의 길이를 결정하는 파라미터.\n",
        "        mfcc_coef_retain:     유지되는 MFCC 값의 길이\n",
        "        mfcc_window_duration: 데이터를 읽을 때 겹쳐 읽는 길이(sec)\n",
        "\n",
        "    Returns:\n",
        "        list[0]: 초반 mfcc_coef_retain 만큼의 MFCC 값\n",
        "        list[1]: 평균, 분산, 표준편차와 같은 MFCC의 특성값\n",
        "    \"\"\"\n",
        "\n",
        "    # load wav file and normalize\n",
        "    wave, sr = librosa.load(file_path, mono=True, sr=sampling_freq)\n",
        "    wave = librosa.util.normalize(wave)\n",
        "\n",
        "    # feature extraction\n",
        "    \"\"\"\n",
        "    ① sr: sampling rate\n",
        "    ② n_mfcc=20 : mfcc의 개수\n",
        "    ③ n_fft=25\n",
        "        frame의 길이를 결정하는 파라미터 입니다. n_fft를 설정하면 window size가 자동으로 같은 값으로 설정되는데 window size의 크기로 잘린 음성이 n_fft보다 작은 경우 0으로 padding을 붙여주는 작업을 하기 때문에 n_fft는 window size보다 크거나 같아야 한다.\n",
        "        보통 n_fft = sr * frame_length 로 설정\n",
        "    ④ hop_length=10\n",
        "        hop_length의 길이만큼 옆으로 가면서 데이터를 읽는다.\n",
        "        10ms를 기본으로 하고 있어 16000Hz인 음성에서는 160에 해당한다. (16000 * 0.01 = 160)\n",
        "        보통 hop_length는 = sr * frame_stride 로 설정한다.\n",
        "    \"\"\"\n",
        "    mfccs = librosa.feature.mfcc(y=wave, sr=sr, n_mfcc=mfcc_coef, hop_length=int(\n",
        "        mfcc_window_duration*sr/2.0), n_fft=int(mfcc_window_duration*sr))\n",
        "\n",
        "    # 정규화: 평균이 0, 표준편차 1\n",
        "    mfccs = (mfccs - np.mean(mfccs))/np.std(mfccs)\n",
        "\n",
        "    # keep the first mfcc_coef_retain coefficients\n",
        "    \"\"\"\n",
        "    일부 계수를 폐기하는 이유는 무엇입니까?\n",
        "    일반적으로 하위 MFCC는 스펙트럼의 전체 모양에 대한 더 많은 정보를 포함하고(따라서 더 중요함) 상위 MFCC는 스펙트럼에서 더 미세한 세부 사항을 나타내기 시작합니다.\n",
        "    처음 25개의 MFCC만 유지하도록 선택함으로써 작성자는 마지막 15개의 계수(26에서 40까지)가 모델의 증가된 복잡성을 정당화할 만큼 중요한 정보를 충분히 전달하지 않는다고 결정했을 가능성이 큽니다.\n",
        "    즉, 유지할 MFCC 수의 선택은 문제에 따라 다를 수 있으며 다른 응용 프로그램이나 모델에는 다른 수가 필요할 수 있습니다. 일부 응용 프로그램의 경우 처음 13개의 계수만 사용되는 반면\n",
        "    다른 응용 프로그램의 경우 40개 모두 사용될 수 있습니다. 주어진 작업에 대한 최적의 수를 찾으려면 종종 어느 정도의 실험이 필요합니다.\n",
        "    \"\"\"\n",
        "    mfccs = mfccs[:mfcc_coef_retain, :]\n",
        "\n",
        "    # calculate MFCC statistics\n",
        "    mfccs_min = mfccs.min(axis=1)\n",
        "    mfccs_max = mfccs.max(axis=1)\n",
        "    mfccs_median = np.median(mfccs, axis=1)\n",
        "    mfccs_mean = np.mean(mfccs, axis=1)\n",
        "    mfccs_var = np.var(mfccs, axis=1)\n",
        "    mfccs_skewness = skew(mfccs, axis=1)\n",
        "    mfccs_kurtosis = kurtosis(mfccs, axis=1)\n",
        "    mfccs_mad = median_abs_deviation(mfccs, axis=1)\n",
        "\n",
        "    mfccs_first_derivative = np.diff(mfccs, n=1, axis=1)\n",
        "    mfccs_first_derivative_mean = np.mean(mfccs_first_derivative, axis=1)\n",
        "    mfccs_first_derivative_var = np.var(mfccs_first_derivative, axis=1)\n",
        "\n",
        "    mfccs_second_derivative = np.diff(mfccs, n=2, axis=1)\n",
        "    mfccs_second_derivative_mean = np.mean(mfccs_second_derivative, axis=1)\n",
        "    mfccs_second_derivative_var = np.var(mfccs_second_derivative, axis=1)\n",
        "\n",
        "    mfccs_stats = np.vstack((mfccs_min, mfccs_max, mfccs_median, mfccs_mean, mfccs_var, mfccs_skewness, mfccs_kurtosis, mfccs_mad,\n",
        "                            mfccs_first_derivative_mean, mfccs_first_derivative_var, mfccs_second_derivative_mean, mfccs_second_derivative_var))\n",
        "\n",
        "    return pd.Series([mfccs, mfccs_stats.transpose()])"
      ]
    },
    {
      "cell_type": "code",
      "execution_count": null,
      "metadata": {
        "id": "QZ-71WWxwD6c"
      },
      "outputs": [],
      "source": [
        "# file_list = get_state_file_list(data_path)\n",
        "\n",
        "# df = pd.DataFrame({'file':file_list})\n",
        "# df['duration'] = df['file'].apply(lambda file: get_duration(file))\n",
        "# df['file'] = df['file'].apply(lambda file: file.rsplit('/', 1)[1])\n",
        "# df['state'] = df['file'].apply(lambda file: file.split('_', 1)[0]).astype('category')\n",
        "# df.tail(3)\n",
        "# # df.to_csv(os.path.join(main_path, 'lstm.csv'))"
      ]
    },
    {
      "cell_type": "code",
      "source": [
        "df = pd.read_csv(os.path.join(main_path, 'lstm2.csv'), index_col=0)\n",
        "df.tail(3)"
      ],
      "metadata": {
        "colab": {
          "base_uri": "https://localhost:8080/",
          "height": 143
        },
        "id": "FgsYhMY6fZEd",
        "outputId": "ea505be0-f8dc-4284-ffeb-3aadc2e383fb"
      },
      "execution_count": 9,
      "outputs": [
        {
          "output_type": "execute_result",
          "data": {
            "text/plain": [
              "                        file  duration          state\n",
              "10938  uncomfortable_135.wav       2.0  uncomfortable\n",
              "10939  uncomfortable_121.wav       2.0  uncomfortable\n",
              "10940  uncomfortable_647.wav       2.0  uncomfortable"
            ],
            "text/html": [
              "\n",
              "  <div id=\"df-7212ad71-0860-4a66-b01c-1ba3c6b0c29b\" class=\"colab-df-container\">\n",
              "    <div>\n",
              "<style scoped>\n",
              "    .dataframe tbody tr th:only-of-type {\n",
              "        vertical-align: middle;\n",
              "    }\n",
              "\n",
              "    .dataframe tbody tr th {\n",
              "        vertical-align: top;\n",
              "    }\n",
              "\n",
              "    .dataframe thead th {\n",
              "        text-align: right;\n",
              "    }\n",
              "</style>\n",
              "<table border=\"1\" class=\"dataframe\">\n",
              "  <thead>\n",
              "    <tr style=\"text-align: right;\">\n",
              "      <th></th>\n",
              "      <th>file</th>\n",
              "      <th>duration</th>\n",
              "      <th>state</th>\n",
              "    </tr>\n",
              "  </thead>\n",
              "  <tbody>\n",
              "    <tr>\n",
              "      <th>10938</th>\n",
              "      <td>uncomfortable_135.wav</td>\n",
              "      <td>2.0</td>\n",
              "      <td>uncomfortable</td>\n",
              "    </tr>\n",
              "    <tr>\n",
              "      <th>10939</th>\n",
              "      <td>uncomfortable_121.wav</td>\n",
              "      <td>2.0</td>\n",
              "      <td>uncomfortable</td>\n",
              "    </tr>\n",
              "    <tr>\n",
              "      <th>10940</th>\n",
              "      <td>uncomfortable_647.wav</td>\n",
              "      <td>2.0</td>\n",
              "      <td>uncomfortable</td>\n",
              "    </tr>\n",
              "  </tbody>\n",
              "</table>\n",
              "</div>\n",
              "    <div class=\"colab-df-buttons\">\n",
              "\n",
              "  <div class=\"colab-df-container\">\n",
              "    <button class=\"colab-df-convert\" onclick=\"convertToInteractive('df-7212ad71-0860-4a66-b01c-1ba3c6b0c29b')\"\n",
              "            title=\"Convert this dataframe to an interactive table.\"\n",
              "            style=\"display:none;\">\n",
              "\n",
              "  <svg xmlns=\"http://www.w3.org/2000/svg\" height=\"24px\" viewBox=\"0 -960 960 960\">\n",
              "    <path d=\"M120-120v-720h720v720H120Zm60-500h600v-160H180v160Zm220 220h160v-160H400v160Zm0 220h160v-160H400v160ZM180-400h160v-160H180v160Zm440 0h160v-160H620v160ZM180-180h160v-160H180v160Zm440 0h160v-160H620v160Z\"/>\n",
              "  </svg>\n",
              "    </button>\n",
              "\n",
              "  <style>\n",
              "    .colab-df-container {\n",
              "      display:flex;\n",
              "      gap: 12px;\n",
              "    }\n",
              "\n",
              "    .colab-df-convert {\n",
              "      background-color: #E8F0FE;\n",
              "      border: none;\n",
              "      border-radius: 50%;\n",
              "      cursor: pointer;\n",
              "      display: none;\n",
              "      fill: #1967D2;\n",
              "      height: 32px;\n",
              "      padding: 0 0 0 0;\n",
              "      width: 32px;\n",
              "    }\n",
              "\n",
              "    .colab-df-convert:hover {\n",
              "      background-color: #E2EBFA;\n",
              "      box-shadow: 0px 1px 2px rgba(60, 64, 67, 0.3), 0px 1px 3px 1px rgba(60, 64, 67, 0.15);\n",
              "      fill: #174EA6;\n",
              "    }\n",
              "\n",
              "    .colab-df-buttons div {\n",
              "      margin-bottom: 4px;\n",
              "    }\n",
              "\n",
              "    [theme=dark] .colab-df-convert {\n",
              "      background-color: #3B4455;\n",
              "      fill: #D2E3FC;\n",
              "    }\n",
              "\n",
              "    [theme=dark] .colab-df-convert:hover {\n",
              "      background-color: #434B5C;\n",
              "      box-shadow: 0px 1px 3px 1px rgba(0, 0, 0, 0.15);\n",
              "      filter: drop-shadow(0px 1px 2px rgba(0, 0, 0, 0.3));\n",
              "      fill: #FFFFFF;\n",
              "    }\n",
              "  </style>\n",
              "\n",
              "    <script>\n",
              "      const buttonEl =\n",
              "        document.querySelector('#df-7212ad71-0860-4a66-b01c-1ba3c6b0c29b button.colab-df-convert');\n",
              "      buttonEl.style.display =\n",
              "        google.colab.kernel.accessAllowed ? 'block' : 'none';\n",
              "\n",
              "      async function convertToInteractive(key) {\n",
              "        const element = document.querySelector('#df-7212ad71-0860-4a66-b01c-1ba3c6b0c29b');\n",
              "        const dataTable =\n",
              "          await google.colab.kernel.invokeFunction('convertToInteractive',\n",
              "                                                    [key], {});\n",
              "        if (!dataTable) return;\n",
              "\n",
              "        const docLinkHtml = 'Like what you see? Visit the ' +\n",
              "          '<a target=\"_blank\" href=https://colab.research.google.com/notebooks/data_table.ipynb>data table notebook</a>'\n",
              "          + ' to learn more about interactive tables.';\n",
              "        element.innerHTML = '';\n",
              "        dataTable['output_type'] = 'display_data';\n",
              "        await google.colab.output.renderOutput(dataTable, element);\n",
              "        const docLink = document.createElement('div');\n",
              "        docLink.innerHTML = docLinkHtml;\n",
              "        element.appendChild(docLink);\n",
              "      }\n",
              "    </script>\n",
              "  </div>\n",
              "\n",
              "\n",
              "<div id=\"df-4118b89f-ae3d-4764-982c-9a170cc79002\">\n",
              "  <button class=\"colab-df-quickchart\" onclick=\"quickchart('df-4118b89f-ae3d-4764-982c-9a170cc79002')\"\n",
              "            title=\"Suggest charts.\"\n",
              "            style=\"display:none;\">\n",
              "\n",
              "<svg xmlns=\"http://www.w3.org/2000/svg\" height=\"24px\"viewBox=\"0 0 24 24\"\n",
              "     width=\"24px\">\n",
              "    <g>\n",
              "        <path d=\"M19 3H5c-1.1 0-2 .9-2 2v14c0 1.1.9 2 2 2h14c1.1 0 2-.9 2-2V5c0-1.1-.9-2-2-2zM9 17H7v-7h2v7zm4 0h-2V7h2v10zm4 0h-2v-4h2v4z\"/>\n",
              "    </g>\n",
              "</svg>\n",
              "  </button>\n",
              "\n",
              "<style>\n",
              "  .colab-df-quickchart {\n",
              "    background-color: #E8F0FE;\n",
              "    border: none;\n",
              "    border-radius: 50%;\n",
              "    cursor: pointer;\n",
              "    display: none;\n",
              "    fill: #1967D2;\n",
              "    height: 32px;\n",
              "    padding: 0 0 0 0;\n",
              "    width: 32px;\n",
              "  }\n",
              "\n",
              "  .colab-df-quickchart:hover {\n",
              "    background-color: #E2EBFA;\n",
              "    box-shadow: 0px 1px 2px rgba(60, 64, 67, 0.3), 0px 1px 3px 1px rgba(60, 64, 67, 0.15);\n",
              "    fill: #174EA6;\n",
              "  }\n",
              "\n",
              "  [theme=dark] .colab-df-quickchart {\n",
              "    background-color: #3B4455;\n",
              "    fill: #D2E3FC;\n",
              "  }\n",
              "\n",
              "  [theme=dark] .colab-df-quickchart:hover {\n",
              "    background-color: #434B5C;\n",
              "    box-shadow: 0px 1px 3px 1px rgba(0, 0, 0, 0.15);\n",
              "    filter: drop-shadow(0px 1px 2px rgba(0, 0, 0, 0.3));\n",
              "    fill: #FFFFFF;\n",
              "  }\n",
              "</style>\n",
              "\n",
              "  <script>\n",
              "    async function quickchart(key) {\n",
              "      const charts = await google.colab.kernel.invokeFunction(\n",
              "          'suggestCharts', [key], {});\n",
              "    }\n",
              "    (() => {\n",
              "      let quickchartButtonEl =\n",
              "        document.querySelector('#df-4118b89f-ae3d-4764-982c-9a170cc79002 button');\n",
              "      quickchartButtonEl.style.display =\n",
              "        google.colab.kernel.accessAllowed ? 'block' : 'none';\n",
              "    })();\n",
              "  </script>\n",
              "</div>\n",
              "    </div>\n",
              "  </div>\n"
            ]
          },
          "metadata": {},
          "execution_count": 9
        }
      ]
    },
    {
      "cell_type": "code",
      "source": [
        "sum = 0\n",
        "for state in state_list:\n",
        "  state_path = os.path.join(data_path, state)\n",
        "  sum += len(os.listdir(state_path))\n",
        "sum"
      ],
      "metadata": {
        "colab": {
          "base_uri": "https://localhost:8080/"
        },
        "id": "jLUbkTczgYeZ",
        "outputId": "3a663120-cd03-47be-ead6-ca5a68be5940"
      },
      "execution_count": 10,
      "outputs": [
        {
          "output_type": "execute_result",
          "data": {
            "text/plain": [
              "10941"
            ]
          },
          "metadata": {},
          "execution_count": 10
        }
      ]
    },
    {
      "cell_type": "code",
      "execution_count": 11,
      "metadata": {
        "colab": {
          "base_uri": "https://localhost:8080/"
        },
        "id": "A5L_yelVwFQs",
        "outputId": "9cb69116-0801-4c0f-db33-531abb9325a5"
      },
      "outputs": [
        {
          "output_type": "stream",
          "name": "stderr",
          "text": [
            "100%|██████████| 10941/10941 [42:16<00:00,  4.31it/s]"
          ]
        },
        {
          "output_type": "stream",
          "name": "stdout",
          "text": [
            "<class 'pandas.core.frame.DataFrame'>\n",
            "Int64Index: 10941 entries, 0 to 10940\n",
            "Data columns (total 6 columns):\n",
            " #   Column       Non-Null Count  Dtype   \n",
            "---  ------       --------------  -----   \n",
            " 0   file         10941 non-null  object  \n",
            " 1   duration     10941 non-null  float64 \n",
            " 2   state        10941 non-null  category\n",
            " 3   mfccs        10941 non-null  object  \n",
            " 4   mfccs_stats  10941 non-null  object  \n",
            " 5   state_code   10941 non-null  int8    \n",
            "dtypes: category(1), float64(1), int8(1), object(3)\n",
            "memory usage: 449.1+ KB\n"
          ]
        },
        {
          "output_type": "stream",
          "name": "stderr",
          "text": [
            "\n"
          ]
        }
      ],
      "source": [
        "# Get MFCC data\n",
        "from tqdm import tqdm\n",
        "\n",
        "tqdm.pandas()\n",
        "df[['mfccs', 'mfccs_stats']] = df.progress_apply(lambda x: get_mfcc(os.path.join(data_path, x['state'], x['file'])), axis=1)\n",
        "\n",
        "# state 열을 카테고리 타입으로 변환한 다음 int 형태로 캐스팅한다.\n",
        "df.state = df.state.astype('category')\n",
        "df = df.assign(state_code=df.state.cat.codes)\n",
        "df.info()"
      ]
    },
    {
      "cell_type": "code",
      "execution_count": 12,
      "metadata": {
        "id": "ir6OjXViv8Ol"
      },
      "outputs": [],
      "source": [
        "def split_xy(df: pd.DataFrame):\n",
        "    x = np.array(df['mfccs_stats'].to_list())\n",
        "    x = x.reshape(x.shape[0], x.shape[1], x.shape[2])\n",
        "\n",
        "    y = np.array(df['state_code'].to_list())\n",
        "    y = y.reshape(y.shape[0], 1)\n",
        "\n",
        "    return x, y"
      ]
    },
    {
      "cell_type": "code",
      "execution_count": 13,
      "metadata": {
        "id": "ctqblrmIaw-e"
      },
      "outputs": [],
      "source": [
        "def get_lstm_model(num_classes):\n",
        "\n",
        "    model = tf.keras.Sequential([\n",
        "        tf.keras.layers.LSTM(256, return_sequences=True),  # 첫 번째 LSTM 레이어\n",
        "        tf.keras.layers.BatchNormalization(),\n",
        "        tf.keras.layers.Dropout(0.4),\n",
        "\n",
        "        tf.keras.layers.LSTM(128, return_sequences=False),  # 두 번째 LSTM 레이어\n",
        "        tf.keras.layers.BatchNormalization(),\n",
        "        tf.keras.layers.Dropout(0.4),\n",
        "\n",
        "        tf.keras.layers.Dense(num_classes, activation='softmax')\n",
        "    ])\n",
        "\n",
        "\n",
        "    model.compile(optimizer=tf.keras.optimizers.Adam(), loss='sparse_categorical_crossentropy', metrics=[\n",
        "                  'sparse_categorical_accuracy'])\n",
        "\n",
        "    return model"
      ]
    },
    {
      "cell_type": "code",
      "execution_count": 14,
      "metadata": {
        "id": "ap3UZHWKaw-f"
      },
      "outputs": [],
      "source": [
        "EPOCHS = 10000"
      ]
    },
    {
      "cell_type": "code",
      "execution_count": 15,
      "metadata": {
        "id": "Tw-i0R-xaw-f",
        "colab": {
          "base_uri": "https://localhost:8080/"
        },
        "outputId": "ae9d3649-3201-4a92-f92f-34b8e89727e3"
      },
      "outputs": [
        {
          "output_type": "stream",
          "name": "stdout",
          "text": [
            "44/44 [==============================] - 0s 5ms/step - loss: 2.2901 - sparse_categorical_accuracy: 0.7723\n"
          ]
        }
      ],
      "source": [
        "from sklearn.model_selection import train_test_split\n",
        "\n",
        "train, val = train_test_split(df, test_size=0.2)\n",
        "train, test = train_test_split(train, test_size=0.16)\n",
        "\n",
        "X_train, Y_train = split_xy(train)\n",
        "X_val, Y_val = split_xy(val)\n",
        "X_test, Y_test = split_xy(test)\n",
        "\n",
        "lstm_model = get_lstm_model(num_classes=10)\n",
        "\n",
        "history = lstm_model.fit(X_train, Y_train, batch_size=128, epochs=EPOCHS, validation_data=(\n",
        "    X_val, Y_val), callbacks=[], verbose=0)\n",
        "\n",
        "accuracy_score = lstm_model.evaluate(X_test, Y_test)"
      ]
    },
    {
      "cell_type": "code",
      "source": [
        "import matplotlib.pyplot as plt"
      ],
      "metadata": {
        "id": "xPsO6tZil042"
      },
      "execution_count": 18,
      "outputs": []
    },
    {
      "cell_type": "code",
      "source": [
        "history.history.keys()"
      ],
      "metadata": {
        "colab": {
          "base_uri": "https://localhost:8080/"
        },
        "id": "fJf3FxNwIPwl",
        "outputId": "6af957a3-528c-49d0-f6ab-7ce0732a45e3"
      },
      "execution_count": 20,
      "outputs": [
        {
          "output_type": "execute_result",
          "data": {
            "text/plain": [
              "dict_keys(['loss', 'sparse_categorical_accuracy', 'val_loss', 'val_sparse_categorical_accuracy'])"
            ]
          },
          "metadata": {},
          "execution_count": 20
        }
      ]
    },
    {
      "cell_type": "code",
      "source": [
        "plt.plot(history.history['sparse_categorical_accuracy'], label='training', color='pink')\n",
        "plt.plot(history.history['val_sparse_categorical_accuracy'], label='validation', color='mediumpurple')  # 검증 데이터 정확도 추가\n",
        "plt.legend(['training', 'validation'])\n",
        "plt.title('Accuracy')\n",
        "plt.xlabel('Epochs')\n",
        "plt.ylabel('Accuracy')\n",
        "plt.show()"
      ],
      "metadata": {
        "colab": {
          "base_uri": "https://localhost:8080/",
          "height": 472
        },
        "id": "CYu2Qa4rldvM",
        "outputId": "2bcd9ebf-8544-46f5-97ab-049eb5ccab16"
      },
      "execution_count": 21,
      "outputs": [
        {
          "output_type": "display_data",
          "data": {
            "text/plain": [
              "<Figure size 640x480 with 1 Axes>"
            ],
            "image/png": "[encoded data removed]"
          },
          "metadata": {}
        }
      ]
    },
    {
      "cell_type": "code",
      "execution_count": 22,
      "metadata": {
        "id": "DJ_4Tuiiaw-f",
        "colab": {
          "base_uri": "https://localhost:8080/"
        },
        "outputId": "7c251dce-f4bc-4eb5-e434-6e7f23b5b91b"
      },
      "outputs": [
        {
          "output_type": "stream",
          "name": "stdout",
          "text": [
            "44/44 [==============================] - 1s 5ms/step\n",
            "              precision    recall  f1-score   support\n",
            "\n",
            "           0       0.74      0.70      0.72       188\n",
            "           1       0.75      0.75      0.75       217\n",
            "           2       0.71      0.75      0.73       204\n",
            "           3       0.74      0.79      0.77       195\n",
            "           4       0.92      0.88      0.90       180\n",
            "           5       0.84      0.76      0.79       209\n",
            "           6       0.74      0.79      0.76       208\n",
            "\n",
            "    accuracy                           0.77      1401\n",
            "   macro avg       0.78      0.77      0.77      1401\n",
            "weighted avg       0.77      0.77      0.77      1401\n",
            "\n"
          ]
        }
      ],
      "source": [
        "from sklearn.metrics import classification_report\n",
        "lstm_test_preds = lstm_model.predict(X_test)\n",
        "lstm_test_pred_classes = np.argmax(lstm_test_preds, axis=1)\n",
        "\n",
        "print(classification_report(Y_test, lstm_test_pred_classes))"
      ]
    }
  ],
  "metadata": {
    "colab": {
      "provenance": [],
      "gpuType": "T4"
    },
    "kernelspec": {
      "display_name": "Python 3",
      "name": "python3"
    },
    "language_info": {
      "codemirror_mode": {
        "name": "ipython",
        "version": 3
      },
      "file_extension": ".py",
      "mimetype": "text/x-python",
      "name": "python",
      "nbconvert_exporter": "python",
      "pygments_lexer": "ipython3",
      "version": "3.9.0"
    },
    "orig_nbformat": 4,
    "accelerator": "GPU"
  },
  "nbformat": 4,
  "nbformat_minor": 0
}