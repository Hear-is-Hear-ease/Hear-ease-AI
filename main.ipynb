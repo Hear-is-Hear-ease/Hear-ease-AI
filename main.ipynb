{
 "cells": [
  {
   "cell_type": "code",
   "execution_count": 41,
   "metadata": {},
   "outputs": [],
   "source": [
    "# Load Packages\n",
    "import matplotlib.pyplot as plt\n",
    "import seaborn as sns\n",
    "import pandas as pd\n",
    "import numpy as np\n",
    "import os"
   ]
  },
  {
   "cell_type": "code",
   "execution_count": 42,
   "metadata": {},
   "outputs": [],
   "source": [
    "# OS setup\n",
    "main_path = os.getcwd()\n",
    "data_path = os.path.join(main_path, 'data')\n",
    "csv_path = os.path.join(main_path, 'info.csv') # csv 파일을 저장할 위치\n",
    "\n",
    "if not os.path.exists(data_path):\n",
    "    os.mkdir(data_path)"
   ]
  },
  {
   "cell_type": "code",
   "execution_count": 43,
   "metadata": {},
   "outputs": [],
   "source": [
    "# Save empty csv\n",
    "if not os.path.exists(csv_path):\n",
    "    df = pd.DataFrame(columns=['state', 'gender', 'age', 'source', 'file', 'detail'])\n",
    "    df.to_csv(csv_path)"
   ]
  },
  {
   "cell_type": "code",
   "execution_count": 46,
   "metadata": {},
   "outputs": [],
   "source": [
    "# %run donateacry_corpus_data_trans.ipynb"
   ]
  },
  {
   "cell_type": "code",
   "execution_count": 47,
   "metadata": {},
   "outputs": [],
   "source": [
    "# %run asvp-esd-data-trans.ipynb"
   ]
  },
  {
   "cell_type": "code",
   "execution_count": 82,
   "metadata": {},
   "outputs": [
    {
     "name": "stdout",
     "output_type": "stream",
     "text": [
      "<class 'pandas.core.frame.DataFrame'>\n",
      "Int64Index: 1796 entries, 0 to 1795\n",
      "Data columns (total 6 columns):\n",
      " #   Column  Non-Null Count  Dtype   \n",
      "---  ------  --------------  -----   \n",
      " 0   state   1796 non-null   category\n",
      " 1   gender  1796 non-null   category\n",
      " 2   age     1796 non-null   category\n",
      " 3   source  1796 non-null   category\n",
      " 4   file    1796 non-null   object  \n",
      " 5   detail  1796 non-null   object  \n",
      "dtypes: category(4), object(2)\n",
      "memory usage: 50.2+ KB\n"
     ]
    },
    {
     "data": {
      "text/html": [
       "<div>\n",
       "<style scoped>\n",
       "    .dataframe tbody tr th:only-of-type {\n",
       "        vertical-align: middle;\n",
       "    }\n",
       "\n",
       "    .dataframe tbody tr th {\n",
       "        vertical-align: top;\n",
       "    }\n",
       "\n",
       "    .dataframe thead th {\n",
       "        text-align: right;\n",
       "    }\n",
       "</style>\n",
       "<table border=\"1\" class=\"dataframe\">\n",
       "  <thead>\n",
       "    <tr style=\"text-align: right;\">\n",
       "      <th></th>\n",
       "      <th>state</th>\n",
       "      <th>gender</th>\n",
       "      <th>age</th>\n",
       "      <th>source</th>\n",
       "      <th>file</th>\n",
       "      <th>detail</th>\n",
       "    </tr>\n",
       "  </thead>\n",
       "  <tbody>\n",
       "    <tr>\n",
       "      <th>1786</th>\n",
       "      <td>calm</td>\n",
       "      <td>m</td>\n",
       "      <td></td>\n",
       "      <td>asvp-esd</td>\n",
       "      <td>03-01-02-01-35-200-02-02-02.wav</td>\n",
       "      <td></td>\n",
       "    </tr>\n",
       "    <tr>\n",
       "      <th>1787</th>\n",
       "      <td>sad</td>\n",
       "      <td>m</td>\n",
       "      <td></td>\n",
       "      <td>asvp-esd</td>\n",
       "      <td>03-02-04-01-05-200-05-02-01-34.wav</td>\n",
       "      <td>sad</td>\n",
       "    </tr>\n",
       "    <tr>\n",
       "      <th>1788</th>\n",
       "      <td>sad</td>\n",
       "      <td>m</td>\n",
       "      <td></td>\n",
       "      <td>asvp-esd</td>\n",
       "      <td>03-02-04-01-04-200-05-02-01-34.wav</td>\n",
       "      <td>sad</td>\n",
       "    </tr>\n",
       "    <tr>\n",
       "      <th>1789</th>\n",
       "      <td>calm</td>\n",
       "      <td>m</td>\n",
       "      <td></td>\n",
       "      <td>asvp-esd</td>\n",
       "      <td>03-01-02-01-31-200-04-02-04.wav</td>\n",
       "      <td></td>\n",
       "    </tr>\n",
       "    <tr>\n",
       "      <th>1790</th>\n",
       "      <td>calm</td>\n",
       "      <td>m</td>\n",
       "      <td></td>\n",
       "      <td>asvp-esd</td>\n",
       "      <td>03-01-02-01-07-200-05-02-01-12.wav</td>\n",
       "      <td></td>\n",
       "    </tr>\n",
       "    <tr>\n",
       "      <th>1791</th>\n",
       "      <td>sad</td>\n",
       "      <td>m</td>\n",
       "      <td></td>\n",
       "      <td>asvp-esd</td>\n",
       "      <td>03-02-04-01-07-200-05-02-01-34.wav</td>\n",
       "      <td>sad</td>\n",
       "    </tr>\n",
       "    <tr>\n",
       "      <th>1792</th>\n",
       "      <td>calm</td>\n",
       "      <td>m</td>\n",
       "      <td></td>\n",
       "      <td>asvp-esd</td>\n",
       "      <td>03-01-02-01-04-200-05-02-01-12.wav</td>\n",
       "      <td></td>\n",
       "    </tr>\n",
       "    <tr>\n",
       "      <th>1793</th>\n",
       "      <td>sad</td>\n",
       "      <td>m</td>\n",
       "      <td></td>\n",
       "      <td>asvp-esd</td>\n",
       "      <td>03-02-04-01-06-200-05-02-01-34.wav</td>\n",
       "      <td>sad</td>\n",
       "    </tr>\n",
       "    <tr>\n",
       "      <th>1794</th>\n",
       "      <td>sad</td>\n",
       "      <td>m</td>\n",
       "      <td></td>\n",
       "      <td>asvp-esd</td>\n",
       "      <td>03-01-04-01-01-200-02-02-01-34.wav</td>\n",
       "      <td>sad</td>\n",
       "    </tr>\n",
       "    <tr>\n",
       "      <th>1795</th>\n",
       "      <td>calm</td>\n",
       "      <td>m</td>\n",
       "      <td></td>\n",
       "      <td>asvp-esd</td>\n",
       "      <td>03-02-02-01-02-200-05-02-01-12.wav</td>\n",
       "      <td></td>\n",
       "    </tr>\n",
       "  </tbody>\n",
       "</table>\n",
       "</div>"
      ],
      "text/plain": [
       "     state gender age    source                                file detail\n",
       "1786  calm      m      asvp-esd     03-01-02-01-35-200-02-02-02.wav       \n",
       "1787   sad      m      asvp-esd  03-02-04-01-05-200-05-02-01-34.wav    sad\n",
       "1788   sad      m      asvp-esd  03-02-04-01-04-200-05-02-01-34.wav    sad\n",
       "1789  calm      m      asvp-esd     03-01-02-01-31-200-04-02-04.wav       \n",
       "1790  calm      m      asvp-esd  03-01-02-01-07-200-05-02-01-12.wav       \n",
       "1791   sad      m      asvp-esd  03-02-04-01-07-200-05-02-01-34.wav    sad\n",
       "1792  calm      m      asvp-esd  03-01-02-01-04-200-05-02-01-12.wav       \n",
       "1793   sad      m      asvp-esd  03-02-04-01-06-200-05-02-01-34.wav    sad\n",
       "1794   sad      m      asvp-esd  03-01-04-01-01-200-02-02-01-34.wav    sad\n",
       "1795  calm      m      asvp-esd  03-02-02-01-02-200-05-02-01-12.wav       "
      ]
     },
     "execution_count": 82,
     "metadata": {},
     "output_type": "execute_result"
    }
   ],
   "source": [
    "# Check csv\n",
    "df = pd.read_csv(csv_path, index_col=0).fillna('')\n",
    "\n",
    "df.state = df.state.astype('category')\n",
    "df.gender = df.gender.astype('category')\n",
    "df.age = df.age.astype('category')\n",
    "df.source = df.source.astype('category')\n",
    "\n",
    "df.info()\n",
    "df.tail(10)"
   ]
  },
  {
   "cell_type": "code",
   "execution_count": 81,
   "metadata": {},
   "outputs": [
    {
     "name": "stdout",
     "output_type": "stream",
     "text": [
      "상태에 따른 파일의 개수와 비율\n",
      "sad        state exists in 65.70% of  1180 files.\n",
      "hungry     state exists in 21.27% of   382 files.\n",
      "happy      state exists in 06.12% of   110 files.\n",
      "calm       state exists in 01.67% of    30 files.\n",
      "tired      state exists in 01.34% of    24 files.\n",
      "discomfort state exists in 01.11% of    20 files.\n",
      "belly_pain state exists in 00.89% of    16 files.\n",
      "fearful    state exists in 00.56% of    10 files.\n",
      "burping    state exists in 00.45% of     8 files.\n",
      "ch         state exists in 00.39% of     7 files.\n",
      "bored      state exists in 00.33% of     6 files.\n",
      "pain       state exists in 00.11% of     2 files.\n",
      "disgust    state exists in 00.06% of     1 files.\n"
     ]
    },
    {
     "data": {
      "text/plain": [
       "<Axes: xlabel='count', ylabel='state'>"
      ]
     },
     "execution_count": 81,
     "metadata": {},
     "output_type": "execute_result"
    },
    {
     "data": {
      "image/png": "[encoded data removed]",
      "text/plain": [
       "<Figure size 1440x432 with 1 Axes>"
      ]
     },
     "metadata": {
      "needs_background": "light"
     },
     "output_type": "display_data"
    }
   ],
   "source": [
    "# 상태에 따른 파일의 개수를 알아보자.\n",
    "\n",
    "print(\"상태에 따른 파일의 개수와 비율\")\n",
    "value_counts = df.state.value_counts()\n",
    "keys = value_counts.index.tolist()\n",
    "counts = value_counts.values.tolist()\n",
    "rates = list(df.state.value_counts(normalize=True).values)\n",
    "\n",
    "for i in range(len(keys)):\n",
    "    print(f\"{keys[i]:10s} state exists in {rates[i]*100:05.2f}% of {counts[i]:5d} files.\")\n",
    "\n",
    "fig, ax = plt.subplots(figsize=(20, 6))\n",
    "sns.countplot(y='state', \n",
    "              data=df,\n",
    "              order=df.state.unique())"
   ]
  },
  {
   "cell_type": "code",
   "execution_count": 80,
   "metadata": {},
   "outputs": [
    {
     "name": "stdout",
     "output_type": "stream",
     "text": [
      "NULL value counts: 0\n",
      "\n",
      "Male exists in 89.92% of 1615 files.\n",
      "Male exists in 10.08% of  181 files.\n"
     ]
    },
    {
     "data": {
      "text/plain": [
       "<Axes: xlabel='count', ylabel='gender'>"
      ]
     },
     "execution_count": 80,
     "metadata": {},
     "output_type": "execute_result"
    },
    {
     "data": {
      "image/png": "[encoded data removed]",
      "text/plain": [
       "<Figure size 432x288 with 1 Axes>"
      ]
     },
     "metadata": {
      "needs_background": "light"
     },
     "output_type": "display_data"
    }
   ],
   "source": [
    "print(f\"NULL value counts: {len(df) - (df.gender == '').value_counts().values[0]}\\n\") # NULL 값은 없다.\n",
    "\n",
    "# 남성 자료가 많다.\n",
    "gender_count = (df.gender == 'm').value_counts().values\n",
    "gender_rate = (df.gender == 'm').value_counts(normalize=True).values\n",
    "print(f\"Male exists in {gender_rate[0]*100:05.2f}% of {gender_count[0]:4d} files.\")\n",
    "print(f\"Male exists in {gender_rate[1]*100:05.2f}% of {gender_count[1]:4d} files.\")\n",
    "\n",
    "sns.countplot(y='gender',data=df)"
   ]
  }
 ],
 "metadata": {
  "kernelspec": {
   "display_name": "Python 3",
   "language": "python",
   "name": "python3"
  },
  "language_info": {
   "codemirror_mode": {
    "name": "ipython",
    "version": 3
   },
   "file_extension": ".py",
   "mimetype": "text/x-python",
   "name": "python",
   "nbconvert_exporter": "python",
   "pygments_lexer": "ipython3",
   "version": "3.9.0"
  },
  "orig_nbformat": 4
 },
 "nbformat": 4,
 "nbformat_minor": 2
}
