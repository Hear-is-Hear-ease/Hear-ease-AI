{
 "cells": [
  {
   "cell_type": "code",
   "execution_count": 36,
   "metadata": {},
   "outputs": [],
   "source": [
    "# Load Packages\n",
    "import matplotlib.pyplot as plt\n",
    "import seaborn as sns\n",
    "import pandas as pd\n",
    "import numpy as np\n",
    "import os"
   ]
  },
  {
   "cell_type": "code",
   "execution_count": 37,
   "metadata": {},
   "outputs": [],
   "source": [
    "# OS setup\n",
    "main_path = os.getcwd()\n",
    "data_path = os.path.join(main_path, 'data')\n",
    "csv_path = os.path.join(main_path, 'info.csv') # csv 파일을 저장할 위치\n",
    "\n",
    "if not os.path.exists(data_path):\n",
    "    os.mkdir(data_path)"
   ]
  },
  {
   "cell_type": "code",
   "execution_count": 38,
   "metadata": {},
   "outputs": [],
   "source": [
    "# Save empty csv\n",
    "if not os.path.exists(csv_path):\n",
    "    df = pd.DataFrame(columns=['state', 'gender', 'age', 'source', 'file', 'detail'])\n",
    "    df.to_csv(csv_path)"
   ]
  },
  {
   "cell_type": "code",
   "execution_count": 39,
   "metadata": {},
   "outputs": [],
   "source": [
    "# %run donateacry_corpus_data_trans.ipynb"
   ]
  },
  {
   "cell_type": "code",
   "execution_count": 40,
   "metadata": {},
   "outputs": [],
   "source": [
    "# %run asvp-esd-data-trans.ipynb"
   ]
  },
  {
   "cell_type": "code",
   "execution_count": 41,
   "metadata": {},
   "outputs": [],
   "source": [
    "# % run giulbia-data-trans.ipynb"
   ]
  },
  {
   "cell_type": "code",
   "execution_count": 42,
   "metadata": {},
   "outputs": [
    {
     "name": "stdout",
     "output_type": "stream",
     "text": [
      "<class 'pandas.core.frame.DataFrame'>\n",
      "Int64Index: 1904 entries, 0 to 1903\n",
      "Data columns (total 6 columns):\n",
      " #   Column  Non-Null Count  Dtype   \n",
      "---  ------  --------------  -----   \n",
      " 0   state   1904 non-null   category\n",
      " 1   gender  1904 non-null   category\n",
      " 2   age     1904 non-null   category\n",
      " 3   source  1904 non-null   category\n",
      " 4   file    1904 non-null   object  \n",
      " 5   detail  1904 non-null   object  \n",
      "dtypes: category(4), object(2)\n",
      "memory usage: 53.2+ KB\n"
     ]
    },
    {
     "data": {
      "text/html": [
       "<div>\n",
       "<style scoped>\n",
       "    .dataframe tbody tr th:only-of-type {\n",
       "        vertical-align: middle;\n",
       "    }\n",
       "\n",
       "    .dataframe tbody tr th {\n",
       "        vertical-align: top;\n",
       "    }\n",
       "\n",
       "    .dataframe thead th {\n",
       "        text-align: right;\n",
       "    }\n",
       "</style>\n",
       "<table border=\"1\" class=\"dataframe\">\n",
       "  <thead>\n",
       "    <tr style=\"text-align: right;\">\n",
       "      <th></th>\n",
       "      <th>state</th>\n",
       "      <th>gender</th>\n",
       "      <th>age</th>\n",
       "      <th>source</th>\n",
       "      <th>file</th>\n",
       "      <th>detail</th>\n",
       "    </tr>\n",
       "  </thead>\n",
       "  <tbody>\n",
       "    <tr>\n",
       "      <th>1894</th>\n",
       "      <td>happy</td>\n",
       "      <td></td>\n",
       "      <td></td>\n",
       "      <td>giulbia</td>\n",
       "      <td>laugh_1.m4a_64.wav</td>\n",
       "      <td></td>\n",
       "    </tr>\n",
       "    <tr>\n",
       "      <th>1895</th>\n",
       "      <td>happy</td>\n",
       "      <td></td>\n",
       "      <td></td>\n",
       "      <td>giulbia</td>\n",
       "      <td>laugh_1.m4a_70.wav</td>\n",
       "      <td></td>\n",
       "    </tr>\n",
       "    <tr>\n",
       "      <th>1896</th>\n",
       "      <td>happy</td>\n",
       "      <td></td>\n",
       "      <td></td>\n",
       "      <td>giulbia</td>\n",
       "      <td>laugh_1.m4a_58.wav</td>\n",
       "      <td></td>\n",
       "    </tr>\n",
       "    <tr>\n",
       "      <th>1897</th>\n",
       "      <td>happy</td>\n",
       "      <td></td>\n",
       "      <td></td>\n",
       "      <td>giulbia</td>\n",
       "      <td>laugh_1.m4a_9.wav</td>\n",
       "      <td></td>\n",
       "    </tr>\n",
       "    <tr>\n",
       "      <th>1898</th>\n",
       "      <td>happy</td>\n",
       "      <td></td>\n",
       "      <td></td>\n",
       "      <td>giulbia</td>\n",
       "      <td>laugh_2.m4a_1.wav</td>\n",
       "      <td></td>\n",
       "    </tr>\n",
       "    <tr>\n",
       "      <th>1899</th>\n",
       "      <td>happy</td>\n",
       "      <td></td>\n",
       "      <td></td>\n",
       "      <td>giulbia</td>\n",
       "      <td>laugh_2.m4a_0.wav</td>\n",
       "      <td></td>\n",
       "    </tr>\n",
       "    <tr>\n",
       "      <th>1900</th>\n",
       "      <td>happy</td>\n",
       "      <td></td>\n",
       "      <td></td>\n",
       "      <td>giulbia</td>\n",
       "      <td>laugh_1.m4a_8.wav</td>\n",
       "      <td></td>\n",
       "    </tr>\n",
       "    <tr>\n",
       "      <th>1901</th>\n",
       "      <td>happy</td>\n",
       "      <td></td>\n",
       "      <td></td>\n",
       "      <td>giulbia</td>\n",
       "      <td>laugh_1.m4a_59.wav</td>\n",
       "      <td></td>\n",
       "    </tr>\n",
       "    <tr>\n",
       "      <th>1902</th>\n",
       "      <td>happy</td>\n",
       "      <td></td>\n",
       "      <td></td>\n",
       "      <td>giulbia</td>\n",
       "      <td>laugh_1.m4a_71.wav</td>\n",
       "      <td></td>\n",
       "    </tr>\n",
       "    <tr>\n",
       "      <th>1903</th>\n",
       "      <td>happy</td>\n",
       "      <td></td>\n",
       "      <td></td>\n",
       "      <td>giulbia</td>\n",
       "      <td>laugh_1.m4a_65.wav</td>\n",
       "      <td></td>\n",
       "    </tr>\n",
       "  </tbody>\n",
       "</table>\n",
       "</div>"
      ],
      "text/plain": [
       "      state gender age   source                file detail\n",
       "1894  happy             giulbia  laugh_1.m4a_64.wav       \n",
       "1895  happy             giulbia  laugh_1.m4a_70.wav       \n",
       "1896  happy             giulbia  laugh_1.m4a_58.wav       \n",
       "1897  happy             giulbia   laugh_1.m4a_9.wav       \n",
       "1898  happy             giulbia   laugh_2.m4a_1.wav       \n",
       "1899  happy             giulbia   laugh_2.m4a_0.wav       \n",
       "1900  happy             giulbia   laugh_1.m4a_8.wav       \n",
       "1901  happy             giulbia  laugh_1.m4a_59.wav       \n",
       "1902  happy             giulbia  laugh_1.m4a_71.wav       \n",
       "1903  happy             giulbia  laugh_1.m4a_65.wav       "
      ]
     },
     "execution_count": 42,
     "metadata": {},
     "output_type": "execute_result"
    }
   ],
   "source": [
    "# Check csv\n",
    "df = pd.read_csv(csv_path, index_col=0).fillna('')\n",
    "\n",
    "df.state = df.state.astype('category')\n",
    "df.gender = df.gender.astype('category')\n",
    "df.age = df.age.astype('category')\n",
    "df.source = df.source.astype('category')\n",
    "\n",
    "df.info()\n",
    "df.tail(10)"
   ]
  },
  {
   "cell_type": "code",
   "execution_count": 43,
   "metadata": {},
   "outputs": [
    {
     "name": "stdout",
     "output_type": "stream",
     "text": [
      "state 에 따른 파일의 개수와 비율\n",
      "sad        state exists in 61.97% of  1180 files.\n",
      "hungry     state exists in 20.06% of   382 files.\n",
      "happy      state exists in 11.45% of   218 files.\n",
      "calm       state exists in 01.58% of    30 files.\n",
      "tired      state exists in 01.26% of    24 files.\n",
      "discomfort state exists in 01.05% of    20 files.\n",
      "belly_pain state exists in 00.84% of    16 files.\n",
      "fearful    state exists in 00.53% of    10 files.\n",
      "burping    state exists in 00.42% of     8 files.\n",
      "ch         state exists in 00.37% of     7 files.\n",
      "bored      state exists in 00.32% of     6 files.\n",
      "pain       state exists in 00.11% of     2 files.\n",
      "disgust    state exists in 00.05% of     1 files.\n"
     ]
    },
    {
     "data": {
      "image/png": "[encoded data removed]",
      "text/plain": [
       "<Figure size 1440x432 with 1 Axes>"
      ]
     },
     "metadata": {
      "needs_background": "light"
     },
     "output_type": "display_data"
    }
   ],
   "source": [
    "# 상태에 따른 파일의 개수를 알아보자.\n",
    "\n",
    "def print_category_info(category: str, sub=None):\n",
    "    print(f\"{category} 에 따른 파일의 개수와 비율\")\n",
    "    value_counts = df[category].value_counts()\n",
    "    keys = value_counts.index.tolist()\n",
    "    counts = value_counts.values.tolist()\n",
    "    rates = list(df[category].value_counts(normalize=True).values)\n",
    "\n",
    "    for i in range(len(keys)):\n",
    "        print(f\"{keys[i]:10s} state exists in {rates[i]*100:05.2f}% of {counts[i]:5d} files.\")\n",
    "\n",
    "    fig, ax = plt.subplots(figsize=(20, 6))\n",
    "    sns.countplot(y=category, \n",
    "                data=df,\n",
    "                order=df[category].unique(),\n",
    "                hue=sub,\n",
    "                dodge=False)\n",
    "\n",
    "print_category_info('state')"
   ]
  },
  {
   "cell_type": "code",
   "execution_count": 44,
   "metadata": {},
   "outputs": [
    {
     "name": "stdout",
     "output_type": "stream",
     "text": [
      "source 에 따른 파일의 개수와 비율\n",
      "asvp-esd   state exists in 70.33% of  1339 files.\n",
      "donate_a_cry state exists in 24.00% of   457 files.\n",
      "giulbia    state exists in 05.67% of   108 files.\n"
     ]
    },
    {
     "data": {
      "image/png": "[encoded data removed]",
      "text/plain": [
       "<Figure size 1440x432 with 1 Axes>"
      ]
     },
     "metadata": {
      "needs_background": "light"
     },
     "output_type": "display_data"
    }
   ],
   "source": [
    "# 출처에 따른 파일의 개수를 알아보자.\n",
    "\n",
    "print_category_info('source', sub='state')"
   ]
  },
  {
   "cell_type": "code",
   "execution_count": 45,
   "metadata": {},
   "outputs": [
    {
     "name": "stdout",
     "output_type": "stream",
     "text": [
      "NULL value counts: 108\n",
      "\n",
      "Male exists in 84.82% of 1615 files.\n",
      "Male exists in 15.18% of  289 files.\n"
     ]
    },
    {
     "data": {
      "text/plain": [
       "<Axes: xlabel='count', ylabel='gender'>"
      ]
     },
     "execution_count": 45,
     "metadata": {},
     "output_type": "execute_result"
    },
    {
     "data": {
      "image/png": "[encoded data removed]",
      "text/plain": [
       "<Figure size 432x288 with 1 Axes>"
      ]
     },
     "metadata": {
      "needs_background": "light"
     },
     "output_type": "display_data"
    }
   ],
   "source": [
    "print(f\"NULL value counts: {len(df) - (df.gender == '').value_counts().values[0]}\\n\") # NULL 값은 없다.\n",
    "\n",
    "# 남성 자료가 많다.\n",
    "gender_count = (df.gender == 'm').value_counts().values\n",
    "gender_rate = (df.gender == 'm').value_counts(normalize=True).values\n",
    "print(f\"Male exists in {gender_rate[0]*100:05.2f}% of {gender_count[0]:4d} files.\")\n",
    "print(f\"Male exists in {gender_rate[1]*100:05.2f}% of {gender_count[1]:4d} files.\")\n",
    "\n",
    "sns.countplot(y='gender',data=df)"
   ]
  }
 ],
 "metadata": {
  "kernelspec": {
   "display_name": "Python 3",
   "language": "python",
   "name": "python3"
  },
  "language_info": {
   "codemirror_mode": {
    "name": "ipython",
    "version": 3
   },
   "file_extension": ".py",
   "mimetype": "text/x-python",
   "name": "python",
   "nbconvert_exporter": "python",
   "pygments_lexer": "ipython3",
   "version": "3.9.0"
  },
  "orig_nbformat": 4
 },
 "nbformat": 4,
 "nbformat_minor": 2
}
