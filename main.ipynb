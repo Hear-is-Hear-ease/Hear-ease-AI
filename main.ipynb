{
 "cells": [
  {
   "cell_type": "code",
   "execution_count": 1,
   "metadata": {},
   "outputs": [],
   "source": [
    "# Load packages\n",
    "import os\n",
    "import sys\n",
    "import numpy as np\n",
    "import pandas as pd\n",
    "from tqdm import tqdm"
   ]
  },
  {
   "cell_type": "code",
   "execution_count": 2,
   "metadata": {},
   "outputs": [],
   "source": [
    "# Set project path : 본인의 프로젝트가 있는 절대 경로를 append를 통해 추가한다.\n",
    "main_path = '/Users/jaewone/developer/tensorflow/baby-cry-classification'\n",
    "\n",
    "sys.path.append(main_path)\n",
    "data_path = os.path.join(main_path, 'data')\n",
    "sample_data_path = os.path.join(data_path, 'sample_data')\n",
    "csv_path = os.path.join(main_path, 'info.csv')"
   ]
  },
  {
   "cell_type": "code",
   "execution_count": 3,
   "metadata": {},
   "outputs": [],
   "source": [
    "# Load custon packages\n",
    "from utils.os import *\n",
    "from utils.sound import *\n",
    "from trans_data.get_sample_data import extract_data_sample"
   ]
  },
  {
   "cell_type": "code",
   "execution_count": 4,
   "metadata": {},
   "outputs": [],
   "source": [
    "sample_data_path = os.path.join(main_path, 'sample_data')\n",
    "split_test_data_path = os.path.join(main_path, 'split_test_data')"
   ]
  },
  {
   "cell_type": "code",
   "execution_count": 5,
   "metadata": {},
   "outputs": [],
   "source": [
    "if os.path.exists(sample_data_path):\n",
    "  remove_path_with_files(sample_data_path)\n",
    "if os.path.exists(split_test_data_path):\n",
    "  remove_path_with_files(split_test_data_path)"
   ]
  }
 ],
 "metadata": {
  "kernelspec": {
   "display_name": "Python 3",
   "language": "python",
   "name": "python3"
  },
  "language_info": {
   "codemirror_mode": {
    "name": "ipython",
    "version": 3
   },
   "file_extension": ".py",
   "mimetype": "text/x-python",
   "name": "python",
   "nbconvert_exporter": "python",
   "pygments_lexer": "ipython3",
   "version": "3.9.0"
  },
  "orig_nbformat": 4
 },
 "nbformat": 4,
 "nbformat_minor": 2
}
