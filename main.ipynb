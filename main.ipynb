{
 "cells": [
  {
   "cell_type": "code",
   "execution_count": 129,
   "metadata": {},
   "outputs": [],
   "source": [
    "# Load Packages\n",
    "import matplotlib.pyplot as plt\n",
    "import seaborn as sns\n",
    "import pandas as pd\n",
    "import numpy as np\n",
    "import os"
   ]
  },
  {
   "cell_type": "code",
   "execution_count": 130,
   "metadata": {},
   "outputs": [],
   "source": [
    "# OS setup\n",
    "main_path = os.getcwd()\n",
    "data_path = os.path.join(main_path, 'data')\n",
    "csv_path = os.path.join(main_path, 'info.csv') # csv 파일을 저장할 위치\n",
    "\n",
    "if not os.path.exists(data_path):\n",
    "    os.mkdir(data_path)"
   ]
  },
  {
   "cell_type": "code",
   "execution_count": 131,
   "metadata": {},
   "outputs": [],
   "source": [
    "# Save empty csv\n",
    "if not os.path.exists(csv_path):\n",
    "    df = pd.DataFrame(columns=['state', 'gender', 'age', 'source', 'file', 'detail'])\n",
    "    df.to_csv(csv_path)"
   ]
  },
  {
   "cell_type": "code",
   "execution_count": 132,
   "metadata": {},
   "outputs": [],
   "source": [
    "# %run donateacry_corpus_data_trans.ipynb"
   ]
  },
  {
   "cell_type": "code",
   "execution_count": 133,
   "metadata": {},
   "outputs": [],
   "source": [
    "# %run asvp-esd-data-trans.ipynb"
   ]
  },
  {
   "cell_type": "code",
   "execution_count": 134,
   "metadata": {},
   "outputs": [],
   "source": [
    "# % run giulbia-data-trans.ipynb"
   ]
  },
  {
   "cell_type": "code",
   "execution_count": 135,
   "metadata": {},
   "outputs": [],
   "source": [
    "# Get duration of sounds\n",
    "# %run add_duration.ipynb"
   ]
  },
  {
   "cell_type": "code",
   "execution_count": 136,
   "metadata": {},
   "outputs": [
    {
     "name": "stdout",
     "output_type": "stream",
     "text": [
      "<class 'pandas.core.frame.DataFrame'>\n",
      "Int64Index: 1904 entries, 0 to 1903\n",
      "Data columns (total 7 columns):\n",
      " #   Column    Non-Null Count  Dtype   \n",
      "---  ------    --------------  -----   \n",
      " 0   state     1904 non-null   category\n",
      " 1   gender    1796 non-null   category\n",
      " 2   age       457 non-null    category\n",
      " 3   source    1904 non-null   category\n",
      " 4   file      1904 non-null   object  \n",
      " 5   detail    1208 non-null   object  \n",
      " 6   duration  1904 non-null   float64 \n",
      "dtypes: category(4), float64(1), object(2)\n",
      "memory usage: 68.0+ KB\n"
     ]
    },
    {
     "data": {
      "text/html": [
       "<div>\n",
       "<style scoped>\n",
       "    .dataframe tbody tr th:only-of-type {\n",
       "        vertical-align: middle;\n",
       "    }\n",
       "\n",
       "    .dataframe tbody tr th {\n",
       "        vertical-align: top;\n",
       "    }\n",
       "\n",
       "    .dataframe thead th {\n",
       "        text-align: right;\n",
       "    }\n",
       "</style>\n",
       "<table border=\"1\" class=\"dataframe\">\n",
       "  <thead>\n",
       "    <tr style=\"text-align: right;\">\n",
       "      <th></th>\n",
       "      <th>state</th>\n",
       "      <th>gender</th>\n",
       "      <th>age</th>\n",
       "      <th>source</th>\n",
       "      <th>file</th>\n",
       "      <th>detail</th>\n",
       "      <th>duration</th>\n",
       "    </tr>\n",
       "  </thead>\n",
       "  <tbody>\n",
       "    <tr>\n",
       "      <th>1901</th>\n",
       "      <td>happy</td>\n",
       "      <td>NaN</td>\n",
       "      <td>NaN</td>\n",
       "      <td>giulbia</td>\n",
       "      <td>laugh_1.m4a_59.wav</td>\n",
       "      <td>NaN</td>\n",
       "      <td>5.0</td>\n",
       "    </tr>\n",
       "    <tr>\n",
       "      <th>1902</th>\n",
       "      <td>happy</td>\n",
       "      <td>NaN</td>\n",
       "      <td>NaN</td>\n",
       "      <td>giulbia</td>\n",
       "      <td>laugh_1.m4a_71.wav</td>\n",
       "      <td>NaN</td>\n",
       "      <td>5.0</td>\n",
       "    </tr>\n",
       "    <tr>\n",
       "      <th>1903</th>\n",
       "      <td>happy</td>\n",
       "      <td>NaN</td>\n",
       "      <td>NaN</td>\n",
       "      <td>giulbia</td>\n",
       "      <td>laugh_1.m4a_65.wav</td>\n",
       "      <td>NaN</td>\n",
       "      <td>5.0</td>\n",
       "    </tr>\n",
       "  </tbody>\n",
       "</table>\n",
       "</div>"
      ],
      "text/plain": [
       "      state gender age   source                file detail  duration\n",
       "1901  happy    NaN NaN  giulbia  laugh_1.m4a_59.wav    NaN       5.0\n",
       "1902  happy    NaN NaN  giulbia  laugh_1.m4a_71.wav    NaN       5.0\n",
       "1903  happy    NaN NaN  giulbia  laugh_1.m4a_65.wav    NaN       5.0"
      ]
     },
     "execution_count": 136,
     "metadata": {},
     "output_type": "execute_result"
    }
   ],
   "source": [
    "# Check csv\n",
    "df = pd.read_csv(csv_path, index_col=0)\n",
    "df.state = df.state.astype('category')\n",
    "df.gender = df.gender.astype('category')\n",
    "df.age = df.age.astype('category')\n",
    "df.source = df.source.astype('category')\n",
    "\n",
    "df.info()\n",
    "df.tail(3)"
   ]
  },
  {
   "cell_type": "code",
   "execution_count": 137,
   "metadata": {},
   "outputs": [
    {
     "name": "stdout",
     "output_type": "stream",
     "text": [
      "float values\n"
     ]
    },
    {
     "data": {
      "text/html": [
       "<div>\n",
       "<style scoped>\n",
       "    .dataframe tbody tr th:only-of-type {\n",
       "        vertical-align: middle;\n",
       "    }\n",
       "\n",
       "    .dataframe tbody tr th {\n",
       "        vertical-align: top;\n",
       "    }\n",
       "\n",
       "    .dataframe thead th {\n",
       "        text-align: right;\n",
       "    }\n",
       "</style>\n",
       "<table border=\"1\" class=\"dataframe\">\n",
       "  <thead>\n",
       "    <tr style=\"text-align: right;\">\n",
       "      <th></th>\n",
       "      <th>count</th>\n",
       "      <th>mean</th>\n",
       "      <th>std</th>\n",
       "      <th>min</th>\n",
       "      <th>25%</th>\n",
       "      <th>50%</th>\n",
       "      <th>75%</th>\n",
       "      <th>max</th>\n",
       "    </tr>\n",
       "  </thead>\n",
       "  <tbody>\n",
       "    <tr>\n",
       "      <th>duration</th>\n",
       "      <td>1904.0</td>\n",
       "      <td>7.437606</td>\n",
       "      <td>3.298063</td>\n",
       "      <td>0.522437</td>\n",
       "      <td>6.0</td>\n",
       "      <td>7.0</td>\n",
       "      <td>9.0</td>\n",
       "      <td>86.387375</td>\n",
       "    </tr>\n",
       "  </tbody>\n",
       "</table>\n",
       "</div>"
      ],
      "text/plain": [
       "           count      mean       std       min  25%  50%  75%        max\n",
       "duration  1904.0  7.437606  3.298063  0.522437  6.0  7.0  9.0  86.387375"
      ]
     },
     "execution_count": 137,
     "metadata": {},
     "output_type": "execute_result"
    }
   ],
   "source": [
    "# data Overview\n",
    "print('float values')\n",
    "df.describe().T"
   ]
  },
  {
   "cell_type": "code",
   "execution_count": 138,
   "metadata": {},
   "outputs": [
    {
     "name": "stdout",
     "output_type": "stream",
     "text": [
      "string values\n"
     ]
    },
    {
     "data": {
      "text/html": [
       "<div>\n",
       "<style scoped>\n",
       "    .dataframe tbody tr th:only-of-type {\n",
       "        vertical-align: middle;\n",
       "    }\n",
       "\n",
       "    .dataframe tbody tr th {\n",
       "        vertical-align: top;\n",
       "    }\n",
       "\n",
       "    .dataframe thead th {\n",
       "        text-align: right;\n",
       "    }\n",
       "</style>\n",
       "<table border=\"1\" class=\"dataframe\">\n",
       "  <thead>\n",
       "    <tr style=\"text-align: right;\">\n",
       "      <th></th>\n",
       "      <th>count</th>\n",
       "      <th>unique</th>\n",
       "      <th>top</th>\n",
       "      <th>freq</th>\n",
       "    </tr>\n",
       "  </thead>\n",
       "  <tbody>\n",
       "    <tr>\n",
       "      <th>file</th>\n",
       "      <td>1904</td>\n",
       "      <td>1904</td>\n",
       "      <td>999bf14b-e417-4b44-b746-9253f81efe38-143097400...</td>\n",
       "      <td>1</td>\n",
       "    </tr>\n",
       "    <tr>\n",
       "      <th>detail</th>\n",
       "      <td>1208</td>\n",
       "      <td>11</td>\n",
       "      <td>sad</td>\n",
       "      <td>1052</td>\n",
       "    </tr>\n",
       "  </tbody>\n",
       "</table>\n",
       "</div>"
      ],
      "text/plain": [
       "       count unique                                                top  freq\n",
       "file    1904   1904  999bf14b-e417-4b44-b746-9253f81efe38-143097400...     1\n",
       "detail  1208     11                                                sad  1052"
      ]
     },
     "execution_count": 138,
     "metadata": {},
     "output_type": "execute_result"
    }
   ],
   "source": [
    "print('string values')\n",
    "df.describe(include='O').T"
   ]
  },
  {
   "cell_type": "code",
   "execution_count": 139,
   "metadata": {},
   "outputs": [
    {
     "name": "stdout",
     "output_type": "stream",
     "text": [
      "category values\n"
     ]
    },
    {
     "data": {
      "text/html": [
       "<div>\n",
       "<style scoped>\n",
       "    .dataframe tbody tr th:only-of-type {\n",
       "        vertical-align: middle;\n",
       "    }\n",
       "\n",
       "    .dataframe tbody tr th {\n",
       "        vertical-align: top;\n",
       "    }\n",
       "\n",
       "    .dataframe thead th {\n",
       "        text-align: right;\n",
       "    }\n",
       "</style>\n",
       "<table border=\"1\" class=\"dataframe\">\n",
       "  <thead>\n",
       "    <tr style=\"text-align: right;\">\n",
       "      <th></th>\n",
       "      <th>count</th>\n",
       "      <th>unique</th>\n",
       "      <th>top</th>\n",
       "      <th>freq</th>\n",
       "    </tr>\n",
       "  </thead>\n",
       "  <tbody>\n",
       "    <tr>\n",
       "      <th>state</th>\n",
       "      <td>1904</td>\n",
       "      <td>13</td>\n",
       "      <td>sad</td>\n",
       "      <td>1180</td>\n",
       "    </tr>\n",
       "    <tr>\n",
       "      <th>gender</th>\n",
       "      <td>1796</td>\n",
       "      <td>2</td>\n",
       "      <td>m</td>\n",
       "      <td>1615</td>\n",
       "    </tr>\n",
       "    <tr>\n",
       "      <th>age</th>\n",
       "      <td>457.0</td>\n",
       "      <td>5.0</td>\n",
       "      <td>26.0</td>\n",
       "      <td>162.0</td>\n",
       "    </tr>\n",
       "    <tr>\n",
       "      <th>source</th>\n",
       "      <td>1904</td>\n",
       "      <td>3</td>\n",
       "      <td>asvp-esd</td>\n",
       "      <td>1339</td>\n",
       "    </tr>\n",
       "  </tbody>\n",
       "</table>\n",
       "</div>"
      ],
      "text/plain": [
       "        count unique       top   freq\n",
       "state    1904     13       sad   1180\n",
       "gender   1796      2         m   1615\n",
       "age     457.0    5.0      26.0  162.0\n",
       "source   1904      3  asvp-esd   1339"
      ]
     },
     "execution_count": 139,
     "metadata": {},
     "output_type": "execute_result"
    }
   ],
   "source": [
    "print('category values')\n",
    "df.describe(include='category').T"
   ]
  },
  {
   "cell_type": "code",
   "execution_count": 140,
   "metadata": {},
   "outputs": [
    {
     "name": "stdout",
     "output_type": "stream",
     "text": [
      "category values\n"
     ]
    },
    {
     "data": {
      "text/html": [
       "<div>\n",
       "<style scoped>\n",
       "    .dataframe tbody tr th:only-of-type {\n",
       "        vertical-align: middle;\n",
       "    }\n",
       "\n",
       "    .dataframe tbody tr th {\n",
       "        vertical-align: top;\n",
       "    }\n",
       "\n",
       "    .dataframe thead th {\n",
       "        text-align: right;\n",
       "    }\n",
       "</style>\n",
       "<table border=\"1\" class=\"dataframe\">\n",
       "  <thead>\n",
       "    <tr style=\"text-align: right;\">\n",
       "      <th></th>\n",
       "      <th>state</th>\n",
       "      <th>gender</th>\n",
       "      <th>age</th>\n",
       "      <th>source</th>\n",
       "    </tr>\n",
       "  </thead>\n",
       "  <tbody>\n",
       "    <tr>\n",
       "      <th>count</th>\n",
       "      <td>1904</td>\n",
       "      <td>1796</td>\n",
       "      <td>457.0</td>\n",
       "      <td>1904</td>\n",
       "    </tr>\n",
       "    <tr>\n",
       "      <th>unique</th>\n",
       "      <td>13</td>\n",
       "      <td>2</td>\n",
       "      <td>5.0</td>\n",
       "      <td>3</td>\n",
       "    </tr>\n",
       "    <tr>\n",
       "      <th>top</th>\n",
       "      <td>sad</td>\n",
       "      <td>m</td>\n",
       "      <td>26.0</td>\n",
       "      <td>asvp-esd</td>\n",
       "    </tr>\n",
       "    <tr>\n",
       "      <th>freq</th>\n",
       "      <td>1180</td>\n",
       "      <td>1615</td>\n",
       "      <td>162.0</td>\n",
       "      <td>1339</td>\n",
       "    </tr>\n",
       "  </tbody>\n",
       "</table>\n",
       "</div>"
      ],
      "text/plain": [
       "       state gender    age    source\n",
       "count   1904   1796  457.0      1904\n",
       "unique    13      2    5.0         3\n",
       "top      sad      m   26.0  asvp-esd\n",
       "freq    1180   1615  162.0      1339"
      ]
     },
     "execution_count": 140,
     "metadata": {},
     "output_type": "execute_result"
    }
   ],
   "source": [
    "('string values')\n",
    "df.describe(include='O')\n",
    "\n",
    "print('category values')\n",
    "df.describe(include='category')"
   ]
  },
  {
   "cell_type": "code",
   "execution_count": 141,
   "metadata": {},
   "outputs": [
    {
     "name": "stdout",
     "output_type": "stream",
     "text": [
      "state 에 따른 파일의 개수와 비율\n",
      "sad        state exists in 61.97% of  1180 files.\n",
      "hungry     state exists in 20.06% of   382 files.\n",
      "happy      state exists in 11.45% of   218 files.\n",
      "calm       state exists in 01.58% of    30 files.\n",
      "tired      state exists in 01.26% of    24 files.\n",
      "discomfort state exists in 01.05% of    20 files.\n",
      "belly_pain state exists in 00.84% of    16 files.\n",
      "fearful    state exists in 00.53% of    10 files.\n",
      "burping    state exists in 00.42% of     8 files.\n",
      "ch         state exists in 00.37% of     7 files.\n",
      "bored      state exists in 00.32% of     6 files.\n",
      "pain       state exists in 00.11% of     2 files.\n",
      "disgust    state exists in 00.05% of     1 files.\n"
     ]
    },
    {
     "data": {
      "image/png": "[encoded data removed]",
      "text/plain": [
       "<Figure size 1440x432 with 1 Axes>"
      ]
     },
     "metadata": {
      "needs_background": "light"
     },
     "output_type": "display_data"
    }
   ],
   "source": [
    "# 상태에 따른 파일의 개수를 알아보자.\n",
    "\n",
    "def print_category_info(category: str, sub=None):\n",
    "    print(f\"{category} 에 따른 파일의 개수와 비율\")\n",
    "    value_counts = df[category].value_counts()\n",
    "    keys = value_counts.index.tolist()\n",
    "    counts = value_counts.values.tolist()\n",
    "    rates = list(df[category].value_counts(normalize=True).values)\n",
    "\n",
    "    for i in range(len(keys)):\n",
    "        print(f\"{keys[i]:10s} state exists in {rates[i]*100:05.2f}% of {counts[i]:5d} files.\")\n",
    "\n",
    "    fig, ax = plt.subplots(figsize=(20, 6))\n",
    "    sns.countplot(y=category, \n",
    "                data=df,\n",
    "                order=keys,\n",
    "                hue=sub,\n",
    "                dodge=False)\n",
    "\n",
    "print_category_info('state')"
   ]
  },
  {
   "cell_type": "code",
   "execution_count": 142,
   "metadata": {},
   "outputs": [
    {
     "name": "stdout",
     "output_type": "stream",
     "text": [
      "source 에 따른 파일의 개수와 비율\n",
      "asvp-esd   state exists in 70.33% of  1339 files.\n",
      "donate_a_cry state exists in 24.00% of   457 files.\n",
      "giulbia    state exists in 05.67% of   108 files.\n"
     ]
    },
    {
     "data": {
      "image/png": "[encoded data removed]",
      "text/plain": [
       "<Figure size 1440x432 with 1 Axes>"
      ]
     },
     "metadata": {
      "needs_background": "light"
     },
     "output_type": "display_data"
    }
   ],
   "source": [
    "# 출처에 따른 파일의 개수를 알아보자.\n",
    "print_category_info('source', sub='state')"
   ]
  },
  {
   "cell_type": "code",
   "execution_count": 143,
   "metadata": {},
   "outputs": [
    {
     "name": "stdout",
     "output_type": "stream",
     "text": [
      "NULL value counts: 108\n",
      "\n",
      "Male exists in 84.82% of 1615 files.\n",
      "Male exists in 15.18% of  289 files.\n"
     ]
    },
    {
     "data": {
      "text/plain": [
       "<Axes: xlabel='count', ylabel='gender'>"
      ]
     },
     "execution_count": 143,
     "metadata": {},
     "output_type": "execute_result"
    },
    {
     "data": {
      "image/png": "[encoded data removed]",
      "text/plain": [
       "<Figure size 432x288 with 1 Axes>"
      ]
     },
     "metadata": {
      "needs_background": "light"
     },
     "output_type": "display_data"
    }
   ],
   "source": [
    "print(f\"NULL value counts: {df.gender.isna().sum()}\\n\")\n",
    "\n",
    "# 남성 자료가 많다.\n",
    "gender_count = (df.gender == 'm').value_counts().values\n",
    "gender_rate = (df.gender == 'm').value_counts(normalize=True).values\n",
    "print(f\"Male exists in {gender_rate[0]*100:05.2f}% of {gender_count[0]:4d} files.\")\n",
    "print(f\"Male exists in {gender_rate[1]*100:05.2f}% of {gender_count[1]:4d} files.\")\n",
    "\n",
    "sns.countplot(y='gender',data=df)"
   ]
  },
  {
   "cell_type": "code",
   "execution_count": 144,
   "metadata": {},
   "outputs": [
    {
     "data": {
      "text/plain": [
       "<Axes: xlabel='Count', ylabel='duration'>"
      ]
     },
     "execution_count": 144,
     "metadata": {},
     "output_type": "execute_result"
    },
    {
     "data": {
      "image/png": "[encoded data removed]",
      "text/plain": [
       "<Figure size 1008x432 with 1 Axes>"
      ]
     },
     "metadata": {
      "needs_background": "light"
     },
     "output_type": "display_data"
    }
   ],
   "source": [
    "# 자료의 시간 비율에 대해 알아보자.\n",
    "\n",
    "fig, ax = plt.subplots(figsize=(14, 6))\n",
    "sns.histplot(y='duration',\n",
    "             binwidth=5,\n",
    "             data=df,\n",
    "             hue='state')"
   ]
  },
  {
   "cell_type": "code",
   "execution_count": 145,
   "metadata": {},
   "outputs": [
    {
     "data": {
      "text/plain": [
       "<Axes: xlabel='count', ylabel='duration'>"
      ]
     },
     "execution_count": 145,
     "metadata": {},
     "output_type": "execute_result"
    },
    {
     "data": {
      "image/png": "[encoded data removed]",
      "text/plain": [
       "<Figure size 1008x720 with 1 Axes>"
      ]
     },
     "metadata": {
      "needs_background": "light"
     },
     "output_type": "display_data"
    }
   ],
   "source": [
    "# 소수점 내림을 통해 더 자세히 알아보자\n",
    "\n",
    "fig, ax = plt.subplots(figsize=(14, 10))\n",
    "sns.countplot(y='duration', \n",
    "              data=pd.DataFrame(df['duration'].apply(np.ceil)),\n",
    "              width=0.5)"
   ]
  }
 ],
 "metadata": {
  "kernelspec": {
   "display_name": "Python 3",
   "language": "python",
   "name": "python3"
  },
  "language_info": {
   "codemirror_mode": {
    "name": "ipython",
    "version": 3
   },
   "file_extension": ".py",
   "mimetype": "text/x-python",
   "name": "python",
   "nbconvert_exporter": "python",
   "pygments_lexer": "ipython3",
   "version": "3.9.0"
  },
  "orig_nbformat": 4
 },
 "nbformat": 4,
 "nbformat_minor": 2
}
