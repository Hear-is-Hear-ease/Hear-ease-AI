{
 "cells": [
  {
   "cell_type": "code",
   "execution_count": 13,
   "metadata": {},
   "outputs": [],
   "source": [
    "# Load Packages\n",
    "import matplotlib.pyplot as plt\n",
    "import seaborn as sns\n",
    "import pandas as pd\n",
    "import numpy as np\n",
    "import os"
   ]
  },
  {
   "cell_type": "code",
   "execution_count": 14,
   "metadata": {},
   "outputs": [],
   "source": [
    "# OS setup\n",
    "main_path = os.getcwd()\n",
    "data_path = os.path.join(main_path, 'data')\n",
    "csv_path = os.path.join(main_path, 'info.csv') # csv 파일을 저장할 위치\n",
    "\n",
    "if not os.path.exists(data_path):\n",
    "    os.mkdir(data_path)"
   ]
  },
  {
   "cell_type": "code",
   "execution_count": 15,
   "metadata": {},
   "outputs": [],
   "source": [
    "# Save empty csv\n",
    "if not os.path.exists(csv_path):\n",
    "    df = pd.DataFrame(columns=['state', 'gender', 'age', 'source', 'file'])\n",
    "    df.to_csv(csv_path)"
   ]
  },
  {
   "cell_type": "code",
   "execution_count": 16,
   "metadata": {},
   "outputs": [
    {
     "name": "stdout",
     "output_type": "stream",
     "text": [
      "belly_pain: 16\n",
      "discomfort: 27\n",
      "burping: 8\n",
      "tired: 24\n",
      "hungry: 382\n",
      "\n",
      "Count total: 457\n",
      "Column: gender\n",
      "Value \"m\" with counts 276\n",
      "Value \"f\" with counts 181\n",
      "\n",
      "Column: age\n",
      "Value \"26\" with counts 162\n",
      "Value \"04\" with counts 149\n",
      "Value \"72\" with counts 81\n",
      "Value \"48\" with counts 55\n",
      "Value \"22\" with counts 10\n",
      "\n",
      "Column: state\n",
      "Value \"bp\" with counts 16\n",
      "Value \"dc\" with counts 20\n",
      "Value \"ch\" with counts 7\n",
      "Value \"bu\" with counts 8\n",
      "Value \"ti\" with counts 24\n",
      "Value \"hu\" with counts 382\n",
      "\n"
     ]
    },
    {
     "name": "stderr",
     "output_type": "stream",
     "text": [
      "/var/folders/10/9_p98m6j42n84y4wmf_k0krc0000gn/T/ipykernel_60910/212709108.py:2: FutureWarning: The default value of regex will change from True to False in a future version.\n",
      "  origin_df['file'] = origin_df['file'].str.replace(origin_file_path, '').str.replace(\n"
     ]
    }
   ],
   "source": [
    "%run /Users/jaewone/developer/tensorflow/baby-cry-classification/donateacry_corpus_data_trans.ipynb"
   ]
  }
 ],
 "metadata": {
  "kernelspec": {
   "display_name": "Python 3",
   "language": "python",
   "name": "python3"
  },
  "language_info": {
   "codemirror_mode": {
    "name": "ipython",
    "version": 3
   },
   "file_extension": ".py",
   "mimetype": "text/x-python",
   "name": "python",
   "nbconvert_exporter": "python",
   "pygments_lexer": "ipython3",
   "version": "3.9.0"
  },
  "orig_nbformat": 4
 },
 "nbformat": 4,
 "nbformat_minor": 2
}
