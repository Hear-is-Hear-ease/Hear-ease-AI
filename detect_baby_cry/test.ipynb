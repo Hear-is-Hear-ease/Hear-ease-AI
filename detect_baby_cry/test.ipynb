{
 "cells": [
  {
   "cell_type": "code",
   "execution_count": 1,
   "metadata": {},
   "outputs": [],
   "source": [
    "# Load packages\n",
    "import sys\n",
    "import os\n",
    "import librosa\n",
    "from tqdm import tqdm"
   ]
  },
  {
   "cell_type": "code",
   "execution_count": 2,
   "metadata": {},
   "outputs": [],
   "source": [
    "# Set path\n",
    "main_path = '/Users/jaewone/developer/tensorflow/baby-cry-classification'\n",
    "data_path = os.path.join(main_path, 'data')\n",
    "model_path = os.path.join(main_path, 'detect_baby_cry', 'lite-model_yamnet_tflite_1.tflite')\n",
    "csv_path = os.path.join(main_path, 'detect_baby_cry', 'yamnet_class_map.csv')\n",
    "sys.path.append(main_path)"
   ]
  },
  {
   "cell_type": "code",
   "execution_count": 3,
   "metadata": {},
   "outputs": [],
   "source": [
    "# Load custom packages\n",
    "from detect_baby_cry.main import YamNet\n",
    "from utils.os import file_itorator"
   ]
  },
  {
   "cell_type": "code",
   "execution_count": 4,
   "metadata": {},
   "outputs": [],
   "source": [
    "# Get Model\n",
    "yamNet = YamNet(model_path, csv_path)"
   ]
  },
  {
   "cell_type": "code",
   "execution_count": 5,
   "metadata": {},
   "outputs": [
    {
     "name": "stdout",
     "output_type": "stream",
     "text": [
      "/Users/jaewone/developer/tensorflow/baby-cry-classification/data/sad/sad_737.wav\n",
      "10941\n"
     ]
    }
   ],
   "source": [
    "# Get file path list\n",
    "file_list = [os.path.join(path, file) for path, file in file_itorator(data_path, include='wav')]\n",
    "print(file_list[0])\n",
    "print(len(file_list))"
   ]
  },
  {
   "cell_type": "code",
   "execution_count": null,
   "metadata": {},
   "outputs": [],
   "source": [
    "true_file_list = []\n",
    "false_file_list = []\n",
    "error_file_list = []\n",
    "\n",
    "for i in tqdm(range(len(file_list))):\n",
    "    try:\n",
    "      waveform = librosa.load(file_list[i], sr=16000)[0]\n",
    "      if yamNet(waveform):\n",
    "          true_file_list.append(file_list[i])\n",
    "      else:\n",
    "          false_file_list.append(file_list[i])\n",
    "    except Exception as e:\n",
    "        error_file_list.append(file_list[i])\n",
    "        print(e)"
   ]
  },
  {
   "cell_type": "code",
   "execution_count": 7,
   "metadata": {},
   "outputs": [
    {
     "name": "stdout",
     "output_type": "stream",
     "text": [
      "True  file length: 9027\n",
      "False file length: 1914\n",
      "Error  file length: 0\n",
      "Total  file length: 10941\n",
      "\n",
      "아이 울음소리 판단 비율: 0.8250616945434603\n"
     ]
    }
   ],
   "source": [
    "file_list_length = len(file_list)\n",
    "true_file_list_length = len(true_file_list)\n",
    "false_file_list_length = len(false_file_list)\n",
    "error_file_list_length = len(error_file_list)\n",
    "\n",
    "print(f'True  file length: {true_file_list_length}')\n",
    "print(f'False file length: {false_file_list_length}')\n",
    "print(f'Error  file length: {error_file_list_length}')\n",
    "print(f'Total  file length: {file_list_length}')\n",
    "\n",
    "if file_list_length != true_file_list_length + false_file_list_length + error_file_list_length:\n",
    "    raise Exception('ERROR: 전체 파일의 개수가 분석된 파일의 개수와 다름')\n",
    "\n",
    "print(f'\\n아이 울음소리 판단 비율: {true_file_list_length / file_list_length}')"
   ]
  }
 ],
 "metadata": {
  "kernelspec": {
   "display_name": "Python 3",
   "language": "python",
   "name": "python3"
  },
  "language_info": {
   "codemirror_mode": {
    "name": "ipython",
    "version": 3
   },
   "file_extension": ".py",
   "mimetype": "text/x-python",
   "name": "python",
   "nbconvert_exporter": "python",
   "pygments_lexer": "ipython3",
   "version": "3.9.0"
  },
  "orig_nbformat": 4
 },
 "nbformat": 4,
 "nbformat_minor": 2
}
