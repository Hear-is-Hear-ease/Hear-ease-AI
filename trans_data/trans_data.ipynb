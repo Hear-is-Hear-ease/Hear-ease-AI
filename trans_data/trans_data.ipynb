{
 "cells": [
  {
   "cell_type": "markdown",
   "metadata": {},
   "source": [
    "## 원본 데이터로부터 모델 학습에 사용할 수 있는 데이터를 추출해보자.\n",
    "\n",
    "프로세싱 순서는 아래와 같다.\n",
    "\n",
    "1. 사용할 수 없는 데이터는 제외한 다음 상위 7개의 state를 가지는 음성만을 가져온다. \n",
    "\n",
    "2. sample rate를 16000으로 통일한다.\n",
    "\n",
    "3. 파일의 이름을 통해 state를 설정하기 위해 파일 이름을 모두 변경한다.\n",
    "\n",
    "4. 음성 파일 앞뒤의 화이트 노이즈(또는 특정 임계값 이하의 에너지를 가지는 시점)를 제거한다.\n",
    "\n",
    "5. 음성이 5초 단위로 분할하여 모두 동일한 길이를 가지도록 조정한다.\n",
    "\n",
    "6. 음성의 노이즈를 제거한다.\n",
    "\n",
    "7. 음성의 유사도를 분석하여 가장 유사한 n개의 데이터만 사용한다.\n",
    "\n",
    "8. 모델의 학습 데이터로 사용한다."
   ]
  },
  {
   "cell_type": "code",
   "execution_count": 7,
   "metadata": {},
   "outputs": [],
   "source": [
    "# Load packages\n",
    "import os\n",
    "import sys\n",
    "import numpy as np\n",
    "import pandas as pd\n",
    "from tqdm import tqdm"
   ]
  },
  {
   "cell_type": "code",
   "execution_count": 8,
   "metadata": {},
   "outputs": [],
   "source": [
    "# Set Path\n",
    "main_path = os.path.join(os.getcwd().rsplit(\n",
    "    'baby-cry-classification')[0], 'baby-cry-classification')\n",
    "data_path = os.path.join(main_path, 'data2')\n",
    "csv_path = os.path.join(main_path, 'origin_data_info.csv')\n",
    "origin_data_path = os.path.join(main_path, 'origin_data')\n",
    "sample_data_path = os.path.join(data_path, 'sample_data')\n",
    "\n",
    "import sys\n",
    "sys.path.append(main_path)"
   ]
  },
  {
   "cell_type": "code",
   "execution_count": 9,
   "metadata": {},
   "outputs": [],
   "source": [
    "# Load custon packages\n",
    "from utils.os import *\n",
    "from utils.sound import *\n",
    "\n",
    "from trans_data import (get_state_list_from_dir_name,\n",
    "                        create_state_folder,\n",
    "                        rename_files_by_state,\n",
    "                        trim_audio,\n",
    "                        split_audio_list_in_sec,\n",
    "                        reduced_base_noise)"
   ]
  },
  {
   "cell_type": "code",
   "execution_count": 10,
   "metadata": {},
   "outputs": [
    {
     "name": "stdout",
     "output_type": "stream",
     "text": [
      "전체 3688개의 데이터 중 사용할 수 없는 216개의 데이터가 제외되었다.\n"
     ]
    }
   ],
   "source": [
    "# 1. 사용할 수 없는 데이터는 제외한 다음 상위 7개의 state를 가지는 음성만을 가져온다. \n",
    "# 2. sample rate를 16000으로 통일한다.\n",
    "create_state_folder(origin_data_path, csv_path, data_path)"
   ]
  },
  {
   "cell_type": "code",
   "execution_count": 11,
   "metadata": {},
   "outputs": [],
   "source": [
    "# 3. 파일의 이름을 통해 state를 설정하기 위해 파일 이름을 모두 변경한다.\n",
    "file_list = rename_files_by_state(data_path)"
   ]
  },
  {
   "cell_type": "code",
   "execution_count": 12,
   "metadata": {},
   "outputs": [
    {
     "name": "stderr",
     "output_type": "stream",
     "text": [
      "  0%|          | 0/3238 [00:00<?, ?it/s]"
     ]
    },
    {
     "name": "stderr",
     "output_type": "stream",
     "text": [
      "100%|██████████| 3238/3238 [23:36<00:00,  2.29it/s]"
     ]
    },
    {
     "name": "stdout",
     "output_type": "stream",
     "text": [
      "trimming에 실패한 5개의 파일이 삭제됨.\n"
     ]
    },
    {
     "name": "stderr",
     "output_type": "stream",
     "text": [
      "\n"
     ]
    }
   ],
   "source": [
    "# 4. 음성 파일 앞뒤의 화이트 노이즈(또는 특정 임계값 이하의 에너지를 가지는 시점)를 제거한다.\n",
    "failed_file_list = []\n",
    "for i in tqdm(range(len(file_list))):\n",
    "    try:\n",
    "        trim_audio(file_list[i], inplace=True)\n",
    "    except:\n",
    "        failed_file_list.append(file_list[i])\n",
    "\n",
    "print(f'trimming에 실패한 {len(failed_file_list)}개의 파일이 삭제됨.')\n",
    "for file in failed_file_list:\n",
    "    file_list.remove(file)\n",
    "    remove_file(file)"
   ]
  },
  {
   "cell_type": "code",
   "execution_count": 13,
   "metadata": {},
   "outputs": [],
   "source": [
    "# 5. 음성이 2초 단위로 분할하여 모두 동일한 길이를 가지도록 조정한다.\n",
    "split_audio_list = split_audio_list_in_sec(file_list, 1.5, inplace=True)\n",
    "\n",
    "# renaming\n",
    "file_list = rename_files_by_state(data_path)"
   ]
  },
  {
   "cell_type": "code",
   "execution_count": 23,
   "metadata": {},
   "outputs": [
    {
     "name": "stdout",
     "output_type": "stream",
     "text": [
      "2.0    17201\n",
      "Name: duration, dtype: int64\n",
      "\n",
      "diaper이 1737로 가장 적게 존재하며 sad가 3915로 가장 많이 존재한다.\n"
     ]
    },
    {
     "data": {
      "text/html": [
       "<div>\n",
       "<style scoped>\n",
       "    .dataframe tbody tr th:only-of-type {\n",
       "        vertical-align: middle;\n",
       "    }\n",
       "\n",
       "    .dataframe tbody tr th {\n",
       "        vertical-align: top;\n",
       "    }\n",
       "\n",
       "    .dataframe thead th {\n",
       "        text-align: right;\n",
       "    }\n",
       "</style>\n",
       "<table border=\"1\" class=\"dataframe\">\n",
       "  <thead>\n",
       "    <tr style=\"text-align: right;\">\n",
       "      <th></th>\n",
       "      <th>state</th>\n",
       "      <th>file</th>\n",
       "    </tr>\n",
       "  </thead>\n",
       "  <tbody>\n",
       "    <tr>\n",
       "      <th>0</th>\n",
       "      <td>diaper</td>\n",
       "      <td>1737</td>\n",
       "    </tr>\n",
       "    <tr>\n",
       "      <th>1</th>\n",
       "      <td>uncomfortable</td>\n",
       "      <td>1846</td>\n",
       "    </tr>\n",
       "    <tr>\n",
       "      <th>2</th>\n",
       "      <td>sleepy</td>\n",
       "      <td>1991</td>\n",
       "    </tr>\n",
       "    <tr>\n",
       "      <th>3</th>\n",
       "      <td>awake</td>\n",
       "      <td>2030</td>\n",
       "    </tr>\n",
       "    <tr>\n",
       "      <th>4</th>\n",
       "      <td>hug</td>\n",
       "      <td>2435</td>\n",
       "    </tr>\n",
       "    <tr>\n",
       "      <th>5</th>\n",
       "      <td>hungry</td>\n",
       "      <td>3247</td>\n",
       "    </tr>\n",
       "    <tr>\n",
       "      <th>6</th>\n",
       "      <td>sad</td>\n",
       "      <td>3915</td>\n",
       "    </tr>\n",
       "  </tbody>\n",
       "</table>\n",
       "</div>"
      ],
      "text/plain": [
       "           state  file\n",
       "0         diaper  1737\n",
       "1  uncomfortable  1846\n",
       "2         sleepy  1991\n",
       "3          awake  2030\n",
       "4            hug  2435\n",
       "5         hungry  3247\n",
       "6            sad  3915"
      ]
     },
     "execution_count": 23,
     "metadata": {},
     "output_type": "execute_result"
    }
   ],
   "source": [
    "# 데이터프레임을 생성하여 파일을 분석해 유사도분석을 통해 제거할 음성의 개수를 정하자.\n",
    "df = pd.DataFrame({'file':file_list})\n",
    "df['duration'] = df['file'].apply(lambda file: get_duration(file))\n",
    "df['file'] = df['file'].apply(lambda file: file.rsplit('/', 1)[1])\n",
    "df['state'] = df['file'].apply(lambda file: file.split('_', 1)[0]).astype('category')\n",
    "\n",
    "# 모든 파일들은 2초의 값을 가짐을 확인할 수 있다.\n",
    "count_by_state = df[['file', 'state']].groupby('state').count().reset_index().sort_values('file').reset_index(drop=True)\n",
    "print(df['duration'].value_counts())\n",
    "print(f'\\n{count_by_state.state[0]}이 {count_by_state.file[0]}로 가장 적게 존재하며 {count_by_state.state[len(count_by_state) - 1]}가 {count_by_state.file[len(count_by_state) - 1]}로 가장 많이 존재한다.')\n",
    "count_by_state"
   ]
  },
  {
   "cell_type": "code",
   "execution_count": 29,
   "metadata": {},
   "outputs": [
    {
     "name": "stderr",
     "output_type": "stream",
     "text": [
      "100%|██████████| 17201/17201 [04:06<00:00, 69.87it/s]\n"
     ]
    }
   ],
   "source": [
    "# 6. 음성의 노이즈를 제거한다.\n",
    "for i in tqdm(range(len(file_list))):\n",
    "    reduced_base_noise(file_list[i], inplace=True)"
   ]
  },
  {
   "cell_type": "code",
   "execution_count": 30,
   "metadata": {},
   "outputs": [
    {
     "name": "stdout",
     "output_type": "stream",
     "text": [
      "가장 적은 state의 파일 개수: 1737\n",
      "유사도 분석을 통해 사용할 상위 90%의 파일의 개수: 1563\n"
     ]
    }
   ],
   "source": [
    "min_file_count = count_by_state.file[0]\n",
    "use_file_count = round(min_file_count - (min_file_count / 10))\n",
    "print(f'가장 적은 state의 파일 개수: {min_file_count}')\n",
    "print(f'유사도 분석을 통해 사용할 상위 90%의 파일의 개수: {use_file_count}')"
   ]
  },
  {
   "cell_type": "code",
   "execution_count": 32,
   "metadata": {},
   "outputs": [
    {
     "name": "stderr",
     "output_type": "stream",
     "text": [
      "Processing: 100%|██████████| 3915/3915 [23:41<00:00,  2.75it/s]\n"
     ]
    },
    {
     "name": "stdout",
     "output_type": "stream",
     "text": [
      "State sad Done.\n",
      "\n"
     ]
    },
    {
     "name": "stderr",
     "output_type": "stream",
     "text": [
      "Processing: 100%|██████████| 2435/2435 [09:09<00:00,  4.43it/s]\n"
     ]
    },
    {
     "name": "stdout",
     "output_type": "stream",
     "text": [
      "State hug Done.\n",
      "\n"
     ]
    },
    {
     "name": "stderr",
     "output_type": "stream",
     "text": [
      "Processing: 100%|██████████| 1737/1737 [04:41<00:00,  6.18it/s]\n"
     ]
    },
    {
     "name": "stdout",
     "output_type": "stream",
     "text": [
      "State diaper Done.\n",
      "\n"
     ]
    },
    {
     "name": "stderr",
     "output_type": "stream",
     "text": [
      "Processing: 100%|██████████| 3247/3247 [16:23<00:00,  3.30it/s]\n"
     ]
    },
    {
     "name": "stdout",
     "output_type": "stream",
     "text": [
      "State hungry Done.\n",
      "\n"
     ]
    },
    {
     "name": "stderr",
     "output_type": "stream",
     "text": [
      "Processing: 100%|██████████| 1991/1991 [06:10<00:00,  5.37it/s]\n"
     ]
    },
    {
     "name": "stdout",
     "output_type": "stream",
     "text": [
      "State sleepy Done.\n",
      "\n"
     ]
    },
    {
     "name": "stderr",
     "output_type": "stream",
     "text": [
      "Processing: 100%|██████████| 2030/2030 [06:24<00:00,  5.28it/s]\n"
     ]
    },
    {
     "name": "stdout",
     "output_type": "stream",
     "text": [
      "State awake Done.\n",
      "\n"
     ]
    },
    {
     "name": "stderr",
     "output_type": "stream",
     "text": [
      "Processing: 100%|██████████| 1846/1846 [05:17<00:00,  5.82it/s]\n"
     ]
    },
    {
     "name": "stdout",
     "output_type": "stream",
     "text": [
      "State uncomfortable Done.\n",
      "\n"
     ]
    }
   ],
   "source": [
    "# 7. 음성의 유사도를 분석하여 가장 유사한 n개의 데이터만 사용한다.\n",
    "\n",
    "def delete_dissimilar_wavs(data_path:str, n_limit:int):\n",
    "  state_list = ['sad', 'hug', 'diaper', 'hungry', 'sleepy', 'awake', 'uncomfortable']\n",
    "  for state in state_list:\n",
    "      state_path = os.path.join(data_path, state)\n",
    "      state_file_list = [os.path.join(state_path, file) for file in os.listdir(state_path)]\n",
    "\n",
    "      # get similarities\n",
    "      sim_file_list = get_similarities(state_file_list)\n",
    "\n",
    "      # 상위 90%를 제외하고 모두 제거한다.\n",
    "      del_file_list = sim_file_list[n_limit:]\n",
    "      for file in del_file_list:\n",
    "          remove_file(file)\n",
    "      print(f'State {state} Done.\\n')\n",
    "\n",
    "delete_dissimilar_wavs(data_path, use_file_count)"
   ]
  },
  {
   "cell_type": "code",
   "execution_count": 33,
   "metadata": {},
   "outputs": [],
   "source": [
    "_ = rename_files_by_state(data_path)"
   ]
  }
 ],
 "metadata": {
  "kernelspec": {
   "display_name": "Python 3",
   "language": "python",
   "name": "python3"
  },
  "language_info": {
   "codemirror_mode": {
    "name": "ipython",
    "version": 3
   },
   "file_extension": ".py",
   "mimetype": "text/x-python",
   "name": "python",
   "nbconvert_exporter": "python",
   "pygments_lexer": "ipython3",
   "version": "3.9.0"
  },
  "orig_nbformat": 4
 },
 "nbformat": 4,
 "nbformat_minor": 2
}
