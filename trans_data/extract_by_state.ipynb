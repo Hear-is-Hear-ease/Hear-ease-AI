{
 "cells": [
  {
   "cell_type": "code",
   "execution_count": 1,
   "metadata": {},
   "outputs": [],
   "source": [
    "import pandas as pd\n",
    "import numpy as np\n",
    "import os\n",
    "import matplotlib.pyplot as plt\n",
    "import seaborn as sns\n",
    "\n",
    "\n",
    "import sys\n",
    "sys.path.append('/Users/jaewone/developer/tensorflow/baby-cry-classification')\n",
    "from constant.os import *\n",
    "from utils.os import *\n",
    "from utils.sound import *"
   ]
  },
  {
   "cell_type": "code",
   "execution_count": 4,
   "metadata": {},
   "outputs": [
    {
     "data": {
      "text/html": [
       "<div>\n",
       "<style scoped>\n",
       "    .dataframe tbody tr th:only-of-type {\n",
       "        vertical-align: middle;\n",
       "    }\n",
       "\n",
       "    .dataframe tbody tr th {\n",
       "        vertical-align: top;\n",
       "    }\n",
       "\n",
       "    .dataframe thead th {\n",
       "        text-align: right;\n",
       "    }\n",
       "</style>\n",
       "<table border=\"1\" class=\"dataframe\">\n",
       "  <thead>\n",
       "    <tr style=\"text-align: right;\">\n",
       "      <th></th>\n",
       "      <th>state</th>\n",
       "      <th>gender</th>\n",
       "      <th>age</th>\n",
       "      <th>source</th>\n",
       "      <th>file</th>\n",
       "      <th>detail</th>\n",
       "      <th>duration</th>\n",
       "    </tr>\n",
       "  </thead>\n",
       "  <tbody>\n",
       "    <tr>\n",
       "      <th>3687</th>\n",
       "      <td>uncomfortable</td>\n",
       "      <td>NaN</td>\n",
       "      <td>NaN</td>\n",
       "      <td>iFLYTEK</td>\n",
       "      <td>uncomfortable_121.wav</td>\n",
       "      <td>NaN</td>\n",
       "      <td>15.53</td>\n",
       "    </tr>\n",
       "  </tbody>\n",
       "</table>\n",
       "</div>"
      ],
      "text/plain": [
       "              state gender  age   source                   file detail  \\\n",
       "3687  uncomfortable    NaN  NaN  iFLYTEK  uncomfortable_121.wav    NaN   \n",
       "\n",
       "      duration  \n",
       "3687     15.53  "
      ]
     },
     "execution_count": 4,
     "metadata": {},
     "output_type": "execute_result"
    }
   ],
   "source": [
    "df = pd.read_csv(csv_path, index_col=0)\n",
    "df.tail(1)"
   ]
  },
  {
   "cell_type": "code",
   "execution_count": 15,
   "metadata": {},
   "outputs": [
    {
     "data": {
      "text/html": [
       "<div>\n",
       "<style scoped>\n",
       "    .dataframe tbody tr th:only-of-type {\n",
       "        vertical-align: middle;\n",
       "    }\n",
       "\n",
       "    .dataframe tbody tr th {\n",
       "        vertical-align: top;\n",
       "    }\n",
       "\n",
       "    .dataframe thead th {\n",
       "        text-align: right;\n",
       "    }\n",
       "</style>\n",
       "<table border=\"1\" class=\"dataframe\">\n",
       "  <thead>\n",
       "    <tr style=\"text-align: right;\">\n",
       "      <th></th>\n",
       "      <th>14</th>\n",
       "      <th>12</th>\n",
       "      <th>11</th>\n",
       "      <th>0</th>\n",
       "      <th>16</th>\n",
       "      <th>18</th>\n",
       "      <th>6</th>\n",
       "      <th>10</th>\n",
       "      <th>15</th>\n",
       "      <th>4</th>\n",
       "      <th>17</th>\n",
       "      <th>7</th>\n",
       "      <th>1</th>\n",
       "      <th>9</th>\n",
       "      <th>3</th>\n",
       "      <th>5</th>\n",
       "      <th>2</th>\n",
       "      <th>13</th>\n",
       "      <th>8</th>\n",
       "    </tr>\n",
       "  </thead>\n",
       "  <tbody>\n",
       "    <tr>\n",
       "      <th>state</th>\n",
       "      <td>sad</td>\n",
       "      <td>hungry</td>\n",
       "      <td>hug</td>\n",
       "      <td>awake</td>\n",
       "      <td>sleepy</td>\n",
       "      <td>uncomfortable</td>\n",
       "      <td>diaper</td>\n",
       "      <td>happy</td>\n",
       "      <td>silence</td>\n",
       "      <td>calm</td>\n",
       "      <td>tired</td>\n",
       "      <td>discomfort</td>\n",
       "      <td>belly_pain</td>\n",
       "      <td>fearful</td>\n",
       "      <td>burping</td>\n",
       "      <td>ch</td>\n",
       "      <td>bored</td>\n",
       "      <td>pain</td>\n",
       "      <td>disgust</td>\n",
       "    </tr>\n",
       "    <tr>\n",
       "      <th>file</th>\n",
       "      <td>1180</td>\n",
       "      <td>678</td>\n",
       "      <td>315</td>\n",
       "      <td>280</td>\n",
       "      <td>277</td>\n",
       "      <td>266</td>\n",
       "      <td>248</td>\n",
       "      <td>218</td>\n",
       "      <td>102</td>\n",
       "      <td>30</td>\n",
       "      <td>24</td>\n",
       "      <td>20</td>\n",
       "      <td>16</td>\n",
       "      <td>10</td>\n",
       "      <td>8</td>\n",
       "      <td>7</td>\n",
       "      <td>6</td>\n",
       "      <td>2</td>\n",
       "      <td>1</td>\n",
       "    </tr>\n",
       "  </tbody>\n",
       "</table>\n",
       "</div>"
      ],
      "text/plain": [
       "         14      12   11     0       16             18      6      10  \\\n",
       "state   sad  hungry  hug  awake  sleepy  uncomfortable  diaper  happy   \n",
       "file   1180     678  315    280     277            266     248    218   \n",
       "\n",
       "            15    4      17          7           1        9        3   5   \\\n",
       "state  silence  calm  tired  discomfort  belly_pain  fearful  burping  ch   \n",
       "file       102    30     24          20          16       10        8   7   \n",
       "\n",
       "          2     13       8   \n",
       "state  bored  pain  disgust  \n",
       "file       6     2        1  "
      ]
     },
     "execution_count": 15,
     "metadata": {},
     "output_type": "execute_result"
    }
   ],
   "source": [
    "# state에 따른 파일의 개수 확인\n",
    "count_by_state = df[['state', 'file']].groupby('state').count().reset_index()\n",
    "count_by_state = count_by_state.sort_values('file', ascending=False)\n",
    "count_by_state.T"
   ]
  },
  {
   "cell_type": "code",
   "execution_count": 20,
   "metadata": {},
   "outputs": [
    {
     "data": {
      "text/plain": [
       "['sad', 'hungry', 'hug', 'awake', 'sleepy', 'uncomfortable', 'diaper']"
      ]
     },
     "execution_count": 20,
     "metadata": {},
     "output_type": "execute_result"
    }
   ],
   "source": [
    "use_state_list = count_by_state['state'].tolist()[:7]\n",
    "use_state_list"
   ]
  }
 ],
 "metadata": {
  "kernelspec": {
   "display_name": "Python 3",
   "language": "python",
   "name": "python3"
  },
  "language_info": {
   "codemirror_mode": {
    "name": "ipython",
    "version": 3
   },
   "file_extension": ".py",
   "mimetype": "text/x-python",
   "name": "python",
   "nbconvert_exporter": "python",
   "pygments_lexer": "ipython3",
   "version": "3.9.0"
  },
  "orig_nbformat": 4
 },
 "nbformat": 4,
 "nbformat_minor": 2
}
