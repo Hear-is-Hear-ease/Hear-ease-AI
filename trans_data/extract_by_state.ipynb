{
 "cells": [
  {
   "cell_type": "code",
   "execution_count": 18,
   "metadata": {},
   "outputs": [],
   "source": [
    "import pandas as pd\n",
    "import numpy as np\n",
    "import os\n",
    "import matplotlib.pyplot as plt\n",
    "import seaborn as sns\n",
    "import wave\n",
    "import librosa\n",
    "from scipy.io import wavfile\n",
    "from typing import Union, Optional"
   ]
  },
  {
   "cell_type": "code",
   "execution_count": 19,
   "metadata": {},
   "outputs": [],
   "source": [
    "import sys\n",
    "sys.path.append('/Users/jaewone/developer/tensorflow/baby-cry-classification')\n",
    "\n",
    "from utils.sound import *\n",
    "from utils.os import *\n",
    "from constant.os import *"
   ]
  },
  {
   "cell_type": "code",
   "execution_count": 20,
   "metadata": {},
   "outputs": [
    {
     "data": {
      "text/html": [
       "<div>\n",
       "<style scoped>\n",
       "    .dataframe tbody tr th:only-of-type {\n",
       "        vertical-align: middle;\n",
       "    }\n",
       "\n",
       "    .dataframe tbody tr th {\n",
       "        vertical-align: top;\n",
       "    }\n",
       "\n",
       "    .dataframe thead th {\n",
       "        text-align: right;\n",
       "    }\n",
       "</style>\n",
       "<table border=\"1\" class=\"dataframe\">\n",
       "  <thead>\n",
       "    <tr style=\"text-align: right;\">\n",
       "      <th></th>\n",
       "      <th>state</th>\n",
       "      <th>gender</th>\n",
       "      <th>age</th>\n",
       "      <th>source</th>\n",
       "      <th>file</th>\n",
       "      <th>detail</th>\n",
       "      <th>duration</th>\n",
       "    </tr>\n",
       "  </thead>\n",
       "  <tbody>\n",
       "    <tr>\n",
       "      <th>3687</th>\n",
       "      <td>uncomfortable</td>\n",
       "      <td>NaN</td>\n",
       "      <td>NaN</td>\n",
       "      <td>iFLYTEK</td>\n",
       "      <td>uncomfortable_121.wav</td>\n",
       "      <td>NaN</td>\n",
       "      <td>15.53</td>\n",
       "    </tr>\n",
       "  </tbody>\n",
       "</table>\n",
       "</div>"
      ],
      "text/plain": [
       "              state gender  age   source                   file detail  \\\n",
       "3687  uncomfortable    NaN  NaN  iFLYTEK  uncomfortable_121.wav    NaN   \n",
       "\n",
       "      duration  \n",
       "3687     15.53  "
      ]
     },
     "execution_count": 20,
     "metadata": {},
     "output_type": "execute_result"
    }
   ],
   "source": [
    "df = pd.read_csv(csv_path, index_col=0)\n",
    "df.tail(1)"
   ]
  },
  {
   "cell_type": "code",
   "execution_count": 21,
   "metadata": {},
   "outputs": [
    {
     "data": {
      "text/html": [
       "<div>\n",
       "<style scoped>\n",
       "    .dataframe tbody tr th:only-of-type {\n",
       "        vertical-align: middle;\n",
       "    }\n",
       "\n",
       "    .dataframe tbody tr th {\n",
       "        vertical-align: top;\n",
       "    }\n",
       "\n",
       "    .dataframe thead th {\n",
       "        text-align: right;\n",
       "    }\n",
       "</style>\n",
       "<table border=\"1\" class=\"dataframe\">\n",
       "  <thead>\n",
       "    <tr style=\"text-align: right;\">\n",
       "      <th></th>\n",
       "      <th>14</th>\n",
       "      <th>12</th>\n",
       "      <th>11</th>\n",
       "      <th>0</th>\n",
       "      <th>16</th>\n",
       "      <th>18</th>\n",
       "      <th>6</th>\n",
       "      <th>10</th>\n",
       "      <th>15</th>\n",
       "      <th>4</th>\n",
       "      <th>17</th>\n",
       "      <th>7</th>\n",
       "      <th>1</th>\n",
       "      <th>9</th>\n",
       "      <th>3</th>\n",
       "      <th>5</th>\n",
       "      <th>2</th>\n",
       "      <th>13</th>\n",
       "      <th>8</th>\n",
       "    </tr>\n",
       "  </thead>\n",
       "  <tbody>\n",
       "    <tr>\n",
       "      <th>state</th>\n",
       "      <td>sad</td>\n",
       "      <td>hungry</td>\n",
       "      <td>hug</td>\n",
       "      <td>awake</td>\n",
       "      <td>sleepy</td>\n",
       "      <td>uncomfortable</td>\n",
       "      <td>diaper</td>\n",
       "      <td>happy</td>\n",
       "      <td>silence</td>\n",
       "      <td>calm</td>\n",
       "      <td>tired</td>\n",
       "      <td>discomfort</td>\n",
       "      <td>belly_pain</td>\n",
       "      <td>fearful</td>\n",
       "      <td>burping</td>\n",
       "      <td>ch</td>\n",
       "      <td>bored</td>\n",
       "      <td>pain</td>\n",
       "      <td>disgust</td>\n",
       "    </tr>\n",
       "    <tr>\n",
       "      <th>file</th>\n",
       "      <td>1180</td>\n",
       "      <td>678</td>\n",
       "      <td>315</td>\n",
       "      <td>280</td>\n",
       "      <td>277</td>\n",
       "      <td>266</td>\n",
       "      <td>248</td>\n",
       "      <td>218</td>\n",
       "      <td>102</td>\n",
       "      <td>30</td>\n",
       "      <td>24</td>\n",
       "      <td>20</td>\n",
       "      <td>16</td>\n",
       "      <td>10</td>\n",
       "      <td>8</td>\n",
       "      <td>7</td>\n",
       "      <td>6</td>\n",
       "      <td>2</td>\n",
       "      <td>1</td>\n",
       "    </tr>\n",
       "  </tbody>\n",
       "</table>\n",
       "</div>"
      ],
      "text/plain": [
       "         14      12   11     0       16             18      6      10  \\\n",
       "state   sad  hungry  hug  awake  sleepy  uncomfortable  diaper  happy   \n",
       "file   1180     678  315    280     277            266     248    218   \n",
       "\n",
       "            15    4      17          7           1        9        3   5   \\\n",
       "state  silence  calm  tired  discomfort  belly_pain  fearful  burping  ch   \n",
       "file       102    30     24          20          16       10        8   7   \n",
       "\n",
       "          2     13       8   \n",
       "state  bored  pain  disgust  \n",
       "file       6     2        1  "
      ]
     },
     "execution_count": 21,
     "metadata": {},
     "output_type": "execute_result"
    }
   ],
   "source": [
    "# state에 따른 파일의 개수 확인\n",
    "count_by_state = df[['state', 'file']].groupby('state').count().reset_index()\n",
    "count_by_state = count_by_state.sort_values('file', ascending=False)\n",
    "count_by_state.T"
   ]
  },
  {
   "cell_type": "code",
   "execution_count": 22,
   "metadata": {},
   "outputs": [
    {
     "data": {
      "text/plain": [
       "['sad', 'hungry', 'hug', 'awake', 'sleepy', 'uncomfortable', 'diaper']"
      ]
     },
     "execution_count": 22,
     "metadata": {},
     "output_type": "execute_result"
    }
   ],
   "source": [
    "use_state_list = count_by_state['state'].tolist()[:7]\n",
    "use_state_list"
   ]
  },
  {
   "cell_type": "code",
   "execution_count": 23,
   "metadata": {},
   "outputs": [
    {
     "data": {
      "text/html": [
       "<div>\n",
       "<style scoped>\n",
       "    .dataframe tbody tr th:only-of-type {\n",
       "        vertical-align: middle;\n",
       "    }\n",
       "\n",
       "    .dataframe tbody tr th {\n",
       "        vertical-align: top;\n",
       "    }\n",
       "\n",
       "    .dataframe thead th {\n",
       "        text-align: right;\n",
       "    }\n",
       "</style>\n",
       "<table border=\"1\" class=\"dataframe\">\n",
       "  <thead>\n",
       "    <tr style=\"text-align: right;\">\n",
       "      <th></th>\n",
       "      <th>4</th>\n",
       "      <th>3</th>\n",
       "      <th>2</th>\n",
       "      <th>0</th>\n",
       "      <th>5</th>\n",
       "      <th>6</th>\n",
       "      <th>1</th>\n",
       "    </tr>\n",
       "  </thead>\n",
       "  <tbody>\n",
       "    <tr>\n",
       "      <th>state</th>\n",
       "      <td>sad</td>\n",
       "      <td>hungry</td>\n",
       "      <td>hug</td>\n",
       "      <td>awake</td>\n",
       "      <td>sleepy</td>\n",
       "      <td>uncomfortable</td>\n",
       "      <td>diaper</td>\n",
       "    </tr>\n",
       "    <tr>\n",
       "      <th>duration</th>\n",
       "      <td>9275.78</td>\n",
       "      <td>7406.107941</td>\n",
       "      <td>5224.674616</td>\n",
       "      <td>4537.685443</td>\n",
       "      <td>4311.109309</td>\n",
       "      <td>4012.536486</td>\n",
       "      <td>3801.370187</td>\n",
       "    </tr>\n",
       "  </tbody>\n",
       "</table>\n",
       "</div>"
      ],
      "text/plain": [
       "                4            3            2            0            5  \\\n",
       "state         sad       hungry          hug        awake       sleepy   \n",
       "duration  9275.78  7406.107941  5224.674616  4537.685443  4311.109309   \n",
       "\n",
       "                      6            1  \n",
       "state     uncomfortable       diaper  \n",
       "duration    4012.536486  3801.370187  "
      ]
     },
     "execution_count": 23,
     "metadata": {},
     "output_type": "execute_result"
    }
   ],
   "source": [
    "# 위 7개 state를 가지는 행만을 가져온다.\n",
    "use_df = df[df['state'].isin(use_state_list)]\n",
    "\n",
    "# 총 시간을 확인해 보았을 때도 파일의 개수 순서와 동일한 것을 확인할 수 있다.\n",
    "use_df[['state', 'duration']].groupby('state').sum().reset_index().pipe(\n",
    "    lambda df: df.sort_values('duration', ascending=False)).T"
   ]
  },
  {
   "cell_type": "code",
   "execution_count": 24,
   "metadata": {},
   "outputs": [
    {
     "name": "stdout",
     "output_type": "stream",
     "text": [
      "전체 3244개의 데이터 중 사용할 수 없는 6개의 데이터가 제외되었다.\n",
      "제외된 state는: ['hug', 'sleepy', 'diaper', 'uncomfortable', 'uncomfortable', 'awake'] 이다.\n"
     ]
    }
   ],
   "source": [
    "# 분석에 사용할 수 없는 데이터는 제외한다.\n",
    "from trans_data import get_sample_rate\n",
    "\n",
    "# 음성의 sample rate를 추출한 origin_sample_rate 열을 추가한다.\n",
    "# 에러가 난 파일은 na 값을 가진다.\n",
    "use_df = use_df.assign(origin_sample_rate=use_df['file'].apply(\n",
    "    lambda file: get_sample_rate(os.path.join(data_path, file))))\n",
    "\n",
    "is_error = use_df.origin_sample_rate.isna()\n",
    "\n",
    "print(f'전체 {len(use_df)}개의 데이터 중 사용할 수 없는 {(len(use_df[is_error]))}개의 데이터가 제외되었다.')\n",
    "\n",
    "print(f'제외된 state는: {use_df[is_error].state.values.tolist()} 이다.')\n",
    "\n",
    "use_df = use_df[is_error == False]"
   ]
  },
  {
   "cell_type": "code",
   "execution_count": 25,
   "metadata": {},
   "outputs": [
    {
     "data": {
      "text/html": [
       "<div>\n",
       "<style scoped>\n",
       "    .dataframe tbody tr th:only-of-type {\n",
       "        vertical-align: middle;\n",
       "    }\n",
       "\n",
       "    .dataframe tbody tr th {\n",
       "        vertical-align: top;\n",
       "    }\n",
       "\n",
       "    .dataframe thead th {\n",
       "        text-align: right;\n",
       "    }\n",
       "</style>\n",
       "<table border=\"1\" class=\"dataframe\">\n",
       "  <thead>\n",
       "    <tr style=\"text-align: right;\">\n",
       "      <th></th>\n",
       "      <th>state</th>\n",
       "      <th>gender</th>\n",
       "      <th>age</th>\n",
       "      <th>source</th>\n",
       "      <th>file</th>\n",
       "      <th>detail</th>\n",
       "      <th>duration</th>\n",
       "      <th>origin_sample_rate</th>\n",
       "    </tr>\n",
       "  </thead>\n",
       "  <tbody>\n",
       "    <tr>\n",
       "      <th>724</th>\n",
       "      <td>uncomfortable</td>\n",
       "      <td>NaN</td>\n",
       "      <td>NaN</td>\n",
       "      <td>iFLYTEK</td>\n",
       "      <td>uncomfortable_26.wav</td>\n",
       "      <td>NaN</td>\n",
       "      <td>16.782222</td>\n",
       "      <td>44100.0</td>\n",
       "    </tr>\n",
       "    <tr>\n",
       "      <th>725</th>\n",
       "      <td>uncomfortable</td>\n",
       "      <td>NaN</td>\n",
       "      <td>NaN</td>\n",
       "      <td>iFLYTEK</td>\n",
       "      <td>uncomfortable_109.wav</td>\n",
       "      <td>NaN</td>\n",
       "      <td>16.782222</td>\n",
       "      <td>44100.0</td>\n",
       "    </tr>\n",
       "    <tr>\n",
       "      <th>726</th>\n",
       "      <td>uncomfortable</td>\n",
       "      <td>NaN</td>\n",
       "      <td>NaN</td>\n",
       "      <td>iFLYTEK</td>\n",
       "      <td>uncomfortable_135.wav</td>\n",
       "      <td>NaN</td>\n",
       "      <td>13.100567</td>\n",
       "      <td>44100.0</td>\n",
       "    </tr>\n",
       "  </tbody>\n",
       "</table>\n",
       "</div>"
      ],
      "text/plain": [
       "             state gender  age   source                   file detail  \\\n",
       "724  uncomfortable    NaN  NaN  iFLYTEK   uncomfortable_26.wav    NaN   \n",
       "725  uncomfortable    NaN  NaN  iFLYTEK  uncomfortable_109.wav    NaN   \n",
       "726  uncomfortable    NaN  NaN  iFLYTEK  uncomfortable_135.wav    NaN   \n",
       "\n",
       "      duration  origin_sample_rate  \n",
       "724  16.782222             44100.0  \n",
       "725  16.782222             44100.0  \n",
       "726  13.100567             44100.0  "
      ]
     },
     "execution_count": 25,
     "metadata": {},
     "output_type": "execute_result"
    }
   ],
   "source": [
    "have_to_resample_df = use_df[use_df['origin_sample_rate'] != 16000.0].reset_index(drop=True)\n",
    "have_to_resample_df.tail(3)"
   ]
  },
  {
   "cell_type": "code",
   "execution_count": 26,
   "metadata": {},
   "outputs": [
    {
     "name": "stdout",
     "output_type": "stream",
     "text": [
      "Done\n",
      "727\n"
     ]
    }
   ],
   "source": [
    "# Copy files to test resampling\n",
    "file_list = have_to_resample_df['file'].tolist()\n",
    "\n",
    "test_path = os.path.join(main_path, 'test')\n",
    "if os.path.exists(test_path):\n",
    "    remove_path_with_files(test_path)\n",
    "os.mkdir(test_path)\n",
    "\n",
    "for file in file_list:\n",
    "    copy_file(os.path.join(data_path, file), os.path.join(test_path, file))\n",
    "print(\"Done\")\n",
    "\n",
    "print(len(os.listdir(test_path)))"
   ]
  },
  {
   "cell_type": "code",
   "execution_count": 27,
   "metadata": {},
   "outputs": [
    {
     "name": "stdout",
     "output_type": "stream",
     "text": [
      "전체 3238개의 데이터 중 727개의 데이터가 제외되었다.\n",
      "전체의 22.45%의 데이터가 제외되었다.\n"
     ]
    }
   ],
   "source": [
    "# 일단 모델에 학습할 수 있는 데이터 추출을 위해 sample rate가 16000이 아는 데이터는 제외한다.\n",
    "\n",
    "origin_len = len(use_df)\n",
    "use_df = use_df[use_df['origin_sample_rate'] == 16000.0]\n",
    "\n",
    "print(f'전체 {origin_len}개의 데이터 중 {origin_len - len(use_df)}개의 데이터가 제외되었다.')\n",
    "print(f'전체의 {((origin_len - len(use_df)) / origin_len) * 100:.2f}%의 데이터가 제외되었다.')"
   ]
  },
  {
   "cell_type": "code",
   "execution_count": 28,
   "metadata": {},
   "outputs": [
    {
     "data": {
      "text/html": [
       "<div>\n",
       "<style scoped>\n",
       "    .dataframe tbody tr th:only-of-type {\n",
       "        vertical-align: middle;\n",
       "    }\n",
       "\n",
       "    .dataframe tbody tr th {\n",
       "        vertical-align: top;\n",
       "    }\n",
       "\n",
       "    .dataframe thead th {\n",
       "        text-align: right;\n",
       "    }\n",
       "</style>\n",
       "<table border=\"1\" class=\"dataframe\">\n",
       "  <thead>\n",
       "    <tr style=\"text-align: right;\">\n",
       "      <th>state</th>\n",
       "      <th>awake</th>\n",
       "      <th>diaper</th>\n",
       "      <th>hug</th>\n",
       "      <th>hungry</th>\n",
       "      <th>sad</th>\n",
       "      <th>sleepy</th>\n",
       "      <th>uncomfortable</th>\n",
       "    </tr>\n",
       "  </thead>\n",
       "  <tbody>\n",
       "    <tr>\n",
       "      <th>file</th>\n",
       "      <td>271</td>\n",
       "      <td>174</td>\n",
       "      <td>284</td>\n",
       "      <td>279</td>\n",
       "      <td>1180</td>\n",
       "      <td>226</td>\n",
       "      <td>97</td>\n",
       "    </tr>\n",
       "  </tbody>\n",
       "</table>\n",
       "</div>"
      ],
      "text/plain": [
       "state  awake  diaper  hug  hungry   sad  sleepy  uncomfortable\n",
       "file     271     174  284     279  1180     226             97"
      ]
     },
     "execution_count": 28,
     "metadata": {},
     "output_type": "execute_result"
    }
   ],
   "source": [
    "# 현재 남아있는 파일의 개수를 확인해보자.\n",
    "use_df[['state', 'file']].groupby('state').count().T"
   ]
  },
  {
   "cell_type": "code",
   "execution_count": 29,
   "metadata": {},
   "outputs": [
    {
     "name": "stdout",
     "output_type": "stream",
     "text": [
      "state           awake      diaper          hug       hungry      sad  \\\n",
      "duration  4367.330563  2705.06225  4741.343187  4493.299687  9275.78   \n",
      "\n",
      "state          sleepy  uncomfortable  \n",
      "duration  3521.177563    1528.145125  \n"
     ]
    },
    {
     "data": {
      "text/plain": [
       "<Axes: xlabel='count', ylabel='duration'>"
      ]
     },
     "execution_count": 29,
     "metadata": {},
     "output_type": "execute_result"
    },
    {
     "data": {
      "image/png": "[encoded data removed]",
      "text/plain": [
       "<Figure size 1008x720 with 1 Axes>"
      ]
     },
     "metadata": {
      "needs_background": "light"
     },
     "output_type": "display_data"
    }
   ],
   "source": [
    "# 상태에 따른 시간을 확인해보자.\n",
    "print(use_df[['state', 'duration']].groupby('state').sum().T)\n",
    "\n",
    "\n",
    "# 소수점 내림을 통해 더 자세히 알아보자\n",
    "fig, ax = plt.subplots(figsize=(14, 10))\n",
    "sns.countplot(y='duration', \n",
    "              data=pd.DataFrame(use_df['duration'].apply(np.ceil)),\n",
    "              width=0.5)"
   ]
  },
  {
   "cell_type": "code",
   "execution_count": 30,
   "metadata": {},
   "outputs": [
    {
     "name": "stdout",
     "output_type": "stream",
     "text": [
      "state  awake  diaper  hug  hungry  sad  sleepy  uncomfortable\n",
      "file     271     172  284     279  523     226             97\n"
     ]
    },
    {
     "data": {
      "text/html": [
       "<div>\n",
       "<style scoped>\n",
       "    .dataframe tbody tr th:only-of-type {\n",
       "        vertical-align: middle;\n",
       "    }\n",
       "\n",
       "    .dataframe tbody tr th {\n",
       "        vertical-align: top;\n",
       "    }\n",
       "\n",
       "    .dataframe thead th {\n",
       "        text-align: right;\n",
       "    }\n",
       "</style>\n",
       "<table border=\"1\" class=\"dataframe\">\n",
       "  <thead>\n",
       "    <tr style=\"text-align: right;\">\n",
       "      <th></th>\n",
       "      <th>state</th>\n",
       "      <th>gender</th>\n",
       "      <th>age</th>\n",
       "      <th>source</th>\n",
       "      <th>file</th>\n",
       "      <th>detail</th>\n",
       "      <th>duration</th>\n",
       "      <th>origin_sample_rate</th>\n",
       "    </tr>\n",
       "  </thead>\n",
       "  <tbody>\n",
       "    <tr>\n",
       "      <th>692</th>\n",
       "      <td>uncomfortable</td>\n",
       "      <td>NaN</td>\n",
       "      <td>NaN</td>\n",
       "      <td>iFLYTEK</td>\n",
       "      <td>uncomfortable_21.wav</td>\n",
       "      <td>NaN</td>\n",
       "      <td>15.510938</td>\n",
       "      <td>16000.0</td>\n",
       "    </tr>\n",
       "    <tr>\n",
       "      <th>693</th>\n",
       "      <td>uncomfortable</td>\n",
       "      <td>NaN</td>\n",
       "      <td>NaN</td>\n",
       "      <td>iFLYTEK</td>\n",
       "      <td>uncomfortable_123.wav</td>\n",
       "      <td>NaN</td>\n",
       "      <td>15.499313</td>\n",
       "      <td>16000.0</td>\n",
       "    </tr>\n",
       "    <tr>\n",
       "      <th>694</th>\n",
       "      <td>uncomfortable</td>\n",
       "      <td>NaN</td>\n",
       "      <td>NaN</td>\n",
       "      <td>iFLYTEK</td>\n",
       "      <td>uncomfortable_134.wav</td>\n",
       "      <td>NaN</td>\n",
       "      <td>15.510875</td>\n",
       "      <td>16000.0</td>\n",
       "    </tr>\n",
       "    <tr>\n",
       "      <th>695</th>\n",
       "      <td>uncomfortable</td>\n",
       "      <td>NaN</td>\n",
       "      <td>NaN</td>\n",
       "      <td>iFLYTEK</td>\n",
       "      <td>uncomfortable_33.wav</td>\n",
       "      <td>NaN</td>\n",
       "      <td>16.253250</td>\n",
       "      <td>16000.0</td>\n",
       "    </tr>\n",
       "    <tr>\n",
       "      <th>696</th>\n",
       "      <td>uncomfortable</td>\n",
       "      <td>NaN</td>\n",
       "      <td>NaN</td>\n",
       "      <td>iFLYTEK</td>\n",
       "      <td>uncomfortable_121.wav</td>\n",
       "      <td>NaN</td>\n",
       "      <td>15.530000</td>\n",
       "      <td>16000.0</td>\n",
       "    </tr>\n",
       "  </tbody>\n",
       "</table>\n",
       "</div>"
      ],
      "text/plain": [
       "             state gender  age   source                   file detail  \\\n",
       "692  uncomfortable    NaN  NaN  iFLYTEK   uncomfortable_21.wav    NaN   \n",
       "693  uncomfortable    NaN  NaN  iFLYTEK  uncomfortable_123.wav    NaN   \n",
       "694  uncomfortable    NaN  NaN  iFLYTEK  uncomfortable_134.wav    NaN   \n",
       "695  uncomfortable    NaN  NaN  iFLYTEK   uncomfortable_33.wav    NaN   \n",
       "696  uncomfortable    NaN  NaN  iFLYTEK  uncomfortable_121.wav    NaN   \n",
       "\n",
       "      duration  origin_sample_rate  \n",
       "692  15.510938             16000.0  \n",
       "693  15.499313             16000.0  \n",
       "694  15.510875             16000.0  \n",
       "695  16.253250             16000.0  \n",
       "696  15.530000             16000.0  "
      ]
     },
     "execution_count": 30,
     "metadata": {},
     "output_type": "execute_result"
    }
   ],
   "source": [
    "# 10초 이상 이를 가지는 음성 각 상태에 따른 무작위 파일 100개를 선정한다.\n",
    "# uncomfortable은 최대 개수인 97개를 선정한다.\n",
    "\n",
    "use_df = use_df[use_df['duration'] > 8]\n",
    "\n",
    "# 상태에 따른 시간을 확인해보자.\n",
    "print(use_df[['state', 'file']].groupby('state').count().T)\n",
    "\n",
    "\n",
    "# uncomfortable에 해당하는 행은 따로 뺀 뒤\n",
    "uncomfortable_df = use_df[use_df['state'] == 'uncomfortable']\n",
    "sample_df = use_df[use_df['state'] != 'uncomfortable']\n",
    "\n",
    "\n",
    "# 무작위로 100개의 행 씩 추출한다.\n",
    "sample_df = sample_df.groupby('state').apply(lambda x: x.sample(n=100, random_state=42))\n",
    "\n",
    "# 다음에 빼두었던 uncomfortable 행들을 합쳐준다. 전체 697개의 데이터가 있음을 확인할 수 있다.\n",
    "sample_df = pd.concat([sample_df, uncomfortable_df]).reset_index(drop=True)\n",
    "sample_df.tail(5)"
   ]
  },
  {
   "cell_type": "code",
   "execution_count": 31,
   "metadata": {},
   "outputs": [],
   "source": [
    "# 각 파일의 2초부터 7초 사이의 음성을 추출한다.\n",
    "# 지금은 간단하게 하나의 파일에서 하나의 데이터셋을 추출하였으나 차후에는 다중 추출을 진행하자.\n",
    "\n",
    "\n",
    "def split_audios(file_list, from_path, to_path, start_time, end_time):\n",
    "    \n",
    "    # to_path 경로(폴더)가 없을 경우 생성한다.\n",
    "    if not os.path.exists(to_path):\n",
    "        os.makedirs(to_path)\n",
    "\n",
    "    for file in file_list:\n",
    "        \n",
    "        # 파일의 정보를 읽어온다.\n",
    "        y, sr = librosa.load(os.path.join(from_path, file), sr=None)\n",
    "\n",
    "        # 음성 자르기\n",
    "        start_sample = int(start_time * sr)\n",
    "        end_sample = int(end_time * sr)\n",
    "        segmented_audio = y[start_sample:end_sample]\n",
    "\n",
    "        # 저장\n",
    "        segmented_audio = np.array(segmented_audio * (2**15), dtype=np.int16)\n",
    "        wavfile.write(os.path.join(to_path, file), sr, segmented_audio)\n",
    "\n",
    "split_audios(\n",
    "    file_list=sample_df['file'].tolist(),\n",
    "    from_path=data_path,\n",
    "    to_path = os.path.join(main_path, 'sample_data'),\n",
    "    start_time=2,\n",
    "    end_time=7\n",
    ")"
   ]
  },
  {
   "cell_type": "code",
   "execution_count": 32,
   "metadata": {},
   "outputs": [],
   "source": [
    "failed_list = [file for file in sample_df['file'].tolist() if file not in os.listdir(os.path.join(main_path, 'sample_data'))]\n",
    "\n",
    "for file in failed_list:\n",
    "    print(file)"
   ]
  },
  {
   "cell_type": "code",
   "execution_count": 33,
   "metadata": {},
   "outputs": [
    {
     "name": "stdout",
     "output_type": "stream",
     "text": [
      "697\n",
      "697\n"
     ]
    }
   ],
   "source": [
    "print(len(sample_df['file'].tolist()))\n",
    "print(len(os.listdir(os.path.join(main_path,'sample_data'))))"
   ]
  },
  {
   "cell_type": "code",
   "execution_count": 34,
   "metadata": {},
   "outputs": [
    {
     "name": "stdout",
     "output_type": "stream",
     "text": [
      "Save csv: /Users/jaewone/developer/tensorflow/baby-cry-classification/sample_data.csv\n"
     ]
    }
   ],
   "source": [
    "# 위 정보를 반영하여 csv로 저장한다.\n",
    "\n",
    "sample_df['duration'] = 5\n",
    "sample_df.to_csv(os.path.join(main_path, 'sample_data.csv'))\n",
    "print(f'Save csv: ' + os.path.join(main_path, 'sample_data.csv'))"
   ]
  }
 ],
 "metadata": {
  "kernelspec": {
   "display_name": "Python 3",
   "language": "python",
   "name": "python3"
  },
  "language_info": {
   "codemirror_mode": {
    "name": "ipython",
    "version": 3
   },
   "file_extension": ".py",
   "mimetype": "text/x-python",
   "name": "python",
   "nbconvert_exporter": "python",
   "pygments_lexer": "ipython3",
   "version": "3.9.0"
  },
  "orig_nbformat": 4
 },
 "nbformat": 4,
 "nbformat_minor": 2
}
