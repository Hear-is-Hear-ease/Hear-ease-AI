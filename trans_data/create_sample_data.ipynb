{
 "cells": [
  {
   "cell_type": "markdown",
   "metadata": {},
   "source": [
    "## 원본 데이터로부터 모델 학습에 사용할 수 있는 데이터를 추출해보자.\n",
    "\n",
    "프로세싱 순서는 아래와 같다.\n",
    "\n",
    "1. 사용할 수 없는 데이터는 제외한 다음 상위 7개의 state를 가지는 음성만을 가져온다. \n",
    "\n",
    "2. sample rate를 16000으로 통일한다.\n",
    "\n",
    "3. 파일의 이름을 통해 state를 설정하기 위해 파일 이름을 모두 변경한다.\n",
    "\n",
    "4. 음성 파일 앞뒤의 화이트 노이즈(또는 특정 임계값 이하의 에너지를 가지는 시점)를 제거한다.\n",
    "\n",
    "5. 음성이 모두 동일한 길이를 가지도록 조정한다.\n",
    "\n",
    "6. 음성의 노이즈를 제거한다.\n",
    "\n",
    "7. 모델의 학습 데이터로 사용한다.\n",
    "\n",
    "> 4번 과정 대신 get_sample_data를 통해 임의로 n개의 파일을 선택해 학습을 수행하는 방법 또한 있다."
   ]
  },
  {
   "cell_type": "code",
   "execution_count": 1,
   "metadata": {},
   "outputs": [],
   "source": [
    "# Load packages\n",
    "import os\n",
    "import sys\n",
    "import numpy as np\n",
    "import pandas as pd\n",
    "from tqdm import tqdm"
   ]
  },
  {
   "cell_type": "code",
   "execution_count": 2,
   "metadata": {},
   "outputs": [],
   "source": [
    "# Set project path : 본인의 프로젝트가 있는 절대 경로를 append를 통해 추가한다.\n",
    "main_path = '/Users/jaewone/developer/tensorflow/baby-cry-classification'\n",
    "\n",
    "sys.path.append(main_path)\n",
    "data_path = os.path.join(main_path, 'data')\n",
    "sample_data_path = os.path.join(data_path, 'sample_data')\n",
    "csv_path = os.path.join(main_path, 'info.csv')"
   ]
  },
  {
   "cell_type": "code",
   "execution_count": 3,
   "metadata": {},
   "outputs": [],
   "source": [
    "# Load custon packages\n",
    "from utils.os import *\n",
    "from utils.sound import *\n",
    "from trans_data.bit_sampling import *\n",
    "from trans_data.get_state_list import get_state_list_from_dir_name\n",
    "from trans_data.create_state_folder import create_state_folder\n",
    "from trans_data.rename_by_state import rename_files_by_state\n",
    "from trans_data.trim_white_noise import trim_audio"
   ]
  },
  {
   "cell_type": "code",
   "execution_count": 4,
   "metadata": {},
   "outputs": [],
   "source": [
    "# 1. 사용할 수 없는 데이터는 제외한 다음 상위 7개의 state를 가지는 음성만을 가져온다. \n",
    "# 2. sample rate를 16000으로 통일한다.\n",
    "create_state_folder(main_path, csv_path)"
   ]
  },
  {
   "cell_type": "code",
   "execution_count": 5,
   "metadata": {},
   "outputs": [],
   "source": [
    "# 3. 파일의 이름을 통해 state를 설정하기 위해 파일 이름을 모두 변경한다.\n",
    "file_list = rename_files_by_state(data_path)"
   ]
  },
  {
   "cell_type": "code",
   "execution_count": 6,
   "metadata": {},
   "outputs": [
    {
     "name": "stderr",
     "output_type": "stream",
     "text": [
      "100%|██████████| 3472/3472 [24:32<00:00,  2.36it/s]\n"
     ]
    }
   ],
   "source": [
    "# 4. 음성 파일 앞뒤의 화이트 노이즈(또는 특정 임계값 이하의 에너지를 가지는 시점)를 제거한다.\n",
    "failed_file_list = []\n",
    "for i in tqdm(range(len(file_list))):\n",
    "    try:\n",
    "        trim_audio(file_list[i], inplace=True)\n",
    "    except:\n",
    "        failed_file_list.append(file_list[i])"
   ]
  },
  {
   "cell_type": "code",
   "execution_count": 13,
   "metadata": {},
   "outputs": [
    {
     "name": "stdout",
     "output_type": "stream",
     "text": [
      "trimming에 실패한 6개의 파일이 삭제됨.\n"
     ]
    }
   ],
   "source": [
    "print(f'trimming에 실패한 {len(failed_file_list)}개의 파일이 삭제됨.')\n",
    "for file in failed_file_list:\n",
    "    file_list.remove(file)\n",
    "    remove_file(file)"
   ]
  },
  {
   "cell_type": "code",
   "execution_count": 42,
   "metadata": {},
   "outputs": [
    {
     "data": {
      "text/html": [
       "<div>\n",
       "<style scoped>\n",
       "    .dataframe tbody tr th:only-of-type {\n",
       "        vertical-align: middle;\n",
       "    }\n",
       "\n",
       "    .dataframe tbody tr th {\n",
       "        vertical-align: top;\n",
       "    }\n",
       "\n",
       "    .dataframe thead th {\n",
       "        text-align: right;\n",
       "    }\n",
       "</style>\n",
       "<table border=\"1\" class=\"dataframe\">\n",
       "  <thead>\n",
       "    <tr style=\"text-align: right;\">\n",
       "      <th></th>\n",
       "      <th>file</th>\n",
       "      <th>duration</th>\n",
       "      <th>state</th>\n",
       "    </tr>\n",
       "  </thead>\n",
       "  <tbody>\n",
       "    <tr>\n",
       "      <th>3463</th>\n",
       "      <td>/Users/jaewone/developer/tensorflow/baby-cry-c...</td>\n",
       "      <td>13.684688</td>\n",
       "      <td>uncomfortable</td>\n",
       "    </tr>\n",
       "    <tr>\n",
       "      <th>3464</th>\n",
       "      <td>/Users/jaewone/developer/tensorflow/baby-cry-c...</td>\n",
       "      <td>15.766375</td>\n",
       "      <td>uncomfortable</td>\n",
       "    </tr>\n",
       "    <tr>\n",
       "      <th>3465</th>\n",
       "      <td>/Users/jaewone/developer/tensorflow/baby-cry-c...</td>\n",
       "      <td>17.136375</td>\n",
       "      <td>uncomfortable</td>\n",
       "    </tr>\n",
       "  </tbody>\n",
       "</table>\n",
       "</div>"
      ],
      "text/plain": [
       "                                                   file   duration  \\\n",
       "3463  /Users/jaewone/developer/tensorflow/baby-cry-c...  13.684688   \n",
       "3464  /Users/jaewone/developer/tensorflow/baby-cry-c...  15.766375   \n",
       "3465  /Users/jaewone/developer/tensorflow/baby-cry-c...  17.136375   \n",
       "\n",
       "              state  \n",
       "3463  uncomfortable  \n",
       "3464  uncomfortable  \n",
       "3465  uncomfortable  "
      ]
     },
     "execution_count": 42,
     "metadata": {},
     "output_type": "execute_result"
    }
   ],
   "source": [
    "# 5. 음성이 모두 동일한 길이를 가지도록 조정한다.\n",
    "df = pd.DataFrame({'file':file_list})\n",
    "df['duration'] = df['file'].apply(lambda file: get_duration(file))\n",
    "df['state'] = df['file'].apply(lambda x: x.rsplit('/', 1)[1].rsplit('_', 1)[0])\n",
    "df['state'] = df['state'].astype('category')\n",
    "df.tail(3)"
   ]
  },
  {
   "cell_type": "code",
   "execution_count": 47,
   "metadata": {},
   "outputs": [
    {
     "data": {
      "text/plain": [
       "CategoricalIndex(['sad', 'hungry', 'hug', 'awake', 'sleepy', 'uncomfortable',\n",
       "                  'diaper', '03-02-06-01-30-150-04-01-00-16.wav',\n",
       "                  '03-02-06-01-32-150-04-01-00-16.wav',\n",
       "                  '10A40438-09AA-4A21-83B4-8119F03F7A11-1430925142-1.0-f-26-dc.wav'],\n",
       "                 categories=['03-01-01-01-04-200-05-02-01-11.wav', '03-01-01-01-19-200-05-02-01-12.wav', '03-01-01-01-20-200-05-02-01-12.wav', '03-01-02-01-01-150-04-01-00-12.wav', '03-01-02-01-01-200-05-02-01-12.wav', '03-01-02-01-02-200-05-02-01-12.wav', '03-01-02-01-04-200-05-02-01-12.wav', '03-01-02-01-06-200-02-02-02-02.wav', ...], ordered=False, dtype='category')"
      ]
     },
     "execution_count": 47,
     "metadata": {},
     "output_type": "execute_result"
    }
   ],
   "source": [
    "df['state'].value_counts().keys()[:10]"
   ]
  },
  {
   "cell_type": "code",
   "execution_count": null,
   "metadata": {},
   "outputs": [],
   "source": [
    "remove_file(csv_path)"
   ]
  }
 ],
 "metadata": {
  "kernelspec": {
   "display_name": "Python 3",
   "language": "python",
   "name": "python3"
  },
  "language_info": {
   "codemirror_mode": {
    "name": "ipython",
    "version": 3
   },
   "file_extension": ".py",
   "mimetype": "text/x-python",
   "name": "python",
   "nbconvert_exporter": "python",
   "pygments_lexer": "ipython3",
   "version": "3.9.0"
  },
  "orig_nbformat": 4
 },
 "nbformat": 4,
 "nbformat_minor": 2
}
