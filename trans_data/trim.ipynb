{
 "cells": [
  {
   "cell_type": "code",
   "execution_count": 25,
   "metadata": {},
   "outputs": [
    {
     "ename": "AttributeError",
     "evalue": "module 'scipy' has no attribute 'signal'",
     "output_type": "error",
     "traceback": [
      "\u001b[0;31m---------------------------------------------------------------------------\u001b[0m",
      "\u001b[0;31mAttributeError\u001b[0m                            Traceback (most recent call last)",
      "\u001b[1;32m/Users/jaewone/developer/tensorflow/baby-cry-classification/trim.ipynb Cell 1\u001b[0m in \u001b[0;36m<module>\u001b[0;34m\u001b[0m\n\u001b[1;32m      <a href='vscode-notebook-cell:/Users/jaewone/developer/tensorflow/baby-cry-classification/trim.ipynb#W2sZmlsZQ%3D%3D?line=3'>4</a>\u001b[0m \u001b[39mimport\u001b[39;00m \u001b[39mnumpy\u001b[39;00m \u001b[39mas\u001b[39;00m \u001b[39mnp\u001b[39;00m\n\u001b[1;32m      <a href='vscode-notebook-cell:/Users/jaewone/developer/tensorflow/baby-cry-classification/trim.ipynb#W2sZmlsZQ%3D%3D?line=5'>6</a>\u001b[0m \u001b[39mimport\u001b[39;00m \u001b[39mscipy\u001b[39;00m\n\u001b[0;32m----> <a href='vscode-notebook-cell:/Users/jaewone/developer/tensorflow/baby-cry-classification/trim.ipynb#W2sZmlsZQ%3D%3D?line=6'>7</a>\u001b[0m scipy\u001b[39m.\u001b[39;49msignal\u001b[39m.\u001b[39mcorrelate\n",
      "\u001b[0;31mAttributeError\u001b[0m: module 'scipy' has no attribute 'signal'"
     ]
    }
   ],
   "source": [
    "import wave\n",
    "import os\n",
    "import pandas as pd\n",
    "import numpy as np"
   ]
  },
  {
   "cell_type": "code",
   "execution_count": 24,
   "metadata": {},
   "outputs": [
    {
     "ename": "ValueError",
     "evalue": "invalid literal for int() with base 2: b\"'\\xff\"",
     "output_type": "error",
     "traceback": [
      "\u001b[0;31m---------------------------------------------------------------------------\u001b[0m",
      "\u001b[0;31mValueError\u001b[0m                                Traceback (most recent call last)",
      "\u001b[1;32m/Users/jaewone/developer/tensorflow/baby-cry-classification/trim.ipynb Cell 2\u001b[0m in \u001b[0;36m<module>\u001b[0;34m\u001b[0m\n\u001b[1;32m     <a href='vscode-notebook-cell:/Users/jaewone/developer/tensorflow/baby-cry-classification/trim.ipynb#W0sZmlsZQ%3D%3D?line=48'>49</a>\u001b[0m input_file_path \u001b[39m=\u001b[39m \u001b[39m'\u001b[39m\u001b[39m/Users/jaewone/developer/tensorflow/baby-cry-classification/data/396.wav\u001b[39m\u001b[39m'\u001b[39m\n\u001b[1;32m     <a href='vscode-notebook-cell:/Users/jaewone/developer/tensorflow/baby-cry-classification/trim.ipynb#W0sZmlsZQ%3D%3D?line=49'>50</a>\u001b[0m threshold_value \u001b[39m=\u001b[39m \u001b[39m0.01\u001b[39m\n\u001b[0;32m---> <a href='vscode-notebook-cell:/Users/jaewone/developer/tensorflow/baby-cry-classification/trim.ipynb#W0sZmlsZQ%3D%3D?line=51'>52</a>\u001b[0m start_time, end_time \u001b[39m=\u001b[39m find_speech_interval_in_wav(input_file_path, threshold_value)\n\u001b[1;32m     <a href='vscode-notebook-cell:/Users/jaewone/developer/tensorflow/baby-cry-classification/trim.ipynb#W0sZmlsZQ%3D%3D?line=52'>53</a>\u001b[0m \u001b[39mprint\u001b[39m(input_file_path)\n\u001b[1;32m     <a href='vscode-notebook-cell:/Users/jaewone/developer/tensorflow/baby-cry-classification/trim.ipynb#W0sZmlsZQ%3D%3D?line=53'>54</a>\u001b[0m \u001b[39mprint\u001b[39m(\u001b[39mf\u001b[39m\u001b[39m\"\u001b[39m\u001b[39m음성이 시작하는 시점: \u001b[39m\u001b[39m{\u001b[39;00mstart_time\u001b[39m}\u001b[39;00m\u001b[39m 초\u001b[39m\u001b[39m\"\u001b[39m)\n",
      "\u001b[1;32m/Users/jaewone/developer/tensorflow/baby-cry-classification/trim.ipynb Cell 2\u001b[0m in \u001b[0;36mfind_speech_interval_in_wav\u001b[0;34m(input_file, threshold)\u001b[0m\n\u001b[1;32m     <a href='vscode-notebook-cell:/Users/jaewone/developer/tensorflow/baby-cry-classification/trim.ipynb#W0sZmlsZQ%3D%3D?line=39'>40</a>\u001b[0m \u001b[39m# 각 프레임을 리스트로 변환\u001b[39;00m\n\u001b[1;32m     <a href='vscode-notebook-cell:/Users/jaewone/developer/tensorflow/baby-cry-classification/trim.ipynb#W0sZmlsZQ%3D%3D?line=40'>41</a>\u001b[0m data \u001b[39m=\u001b[39m [data[i:i \u001b[39m+\u001b[39m num_channels \u001b[39m*\u001b[39m sample_width] \u001b[39mfor\u001b[39;00m i \u001b[39min\u001b[39;00m \u001b[39mrange\u001b[39m(\u001b[39m0\u001b[39m, \u001b[39mlen\u001b[39m(data), num_channels \u001b[39m*\u001b[39m sample_width)]\n\u001b[0;32m---> <a href='vscode-notebook-cell:/Users/jaewone/developer/tensorflow/baby-cry-classification/trim.ipynb#W0sZmlsZQ%3D%3D?line=41'>42</a>\u001b[0m start, end \u001b[39m=\u001b[39m find_speech_interval(data, threshold)\n\u001b[1;32m     <a href='vscode-notebook-cell:/Users/jaewone/developer/tensorflow/baby-cry-classification/trim.ipynb#W0sZmlsZQ%3D%3D?line=42'>43</a>\u001b[0m \u001b[39mprint\u001b[39m(start)\n\u001b[1;32m     <a href='vscode-notebook-cell:/Users/jaewone/developer/tensorflow/baby-cry-classification/trim.ipynb#W0sZmlsZQ%3D%3D?line=43'>44</a>\u001b[0m \u001b[39mprint\u001b[39m(end)\n",
      "\u001b[1;32m/Users/jaewone/developer/tensorflow/baby-cry-classification/trim.ipynb Cell 2\u001b[0m in \u001b[0;36mfind_speech_interval\u001b[0;34m(data, threshold)\u001b[0m\n\u001b[1;32m     <a href='vscode-notebook-cell:/Users/jaewone/developer/tensorflow/baby-cry-classification/trim.ipynb#W0sZmlsZQ%3D%3D?line=28'>29</a>\u001b[0m         \u001b[39mprint\u001b[39m(\u001b[39mtype\u001b[39m(\u001b[39m617399\u001b[39m))\n\u001b[1;32m     <a href='vscode-notebook-cell:/Users/jaewone/developer/tensorflow/baby-cry-classification/trim.ipynb#W0sZmlsZQ%3D%3D?line=29'>30</a>\u001b[0m     \u001b[39mreturn\u001b[39;00m \u001b[39m617399\u001b[39m \u001b[39m+\u001b[39m \u001b[39m2\u001b[39m\n\u001b[0;32m---> <a href='vscode-notebook-cell:/Users/jaewone/developer/tensorflow/baby-cry-classification/trim.ipynb#W0sZmlsZQ%3D%3D?line=31'>32</a>\u001b[0m start \u001b[39m=\u001b[39m find_start(data)\n\u001b[1;32m     <a href='vscode-notebook-cell:/Users/jaewone/developer/tensorflow/baby-cry-classification/trim.ipynb#W0sZmlsZQ%3D%3D?line=32'>33</a>\u001b[0m end \u001b[39m=\u001b[39m find_end(data)\n\u001b[1;32m     <a href='vscode-notebook-cell:/Users/jaewone/developer/tensorflow/baby-cry-classification/trim.ipynb#W0sZmlsZQ%3D%3D?line=34'>35</a>\u001b[0m \u001b[39mreturn\u001b[39;00m start, end\n",
      "\u001b[1;32m/Users/jaewone/developer/tensorflow/baby-cry-classification/trim.ipynb Cell 2\u001b[0m in \u001b[0;36mfind_speech_interval.<locals>.find_start\u001b[0;34m(data)\u001b[0m\n\u001b[1;32m     <a href='vscode-notebook-cell:/Users/jaewone/developer/tensorflow/baby-cry-classification/trim.ipynb#W0sZmlsZQ%3D%3D?line=15'>16</a>\u001b[0m \u001b[39mdef\u001b[39;00m \u001b[39mfind_start\u001b[39m(data):\n\u001b[1;32m     <a href='vscode-notebook-cell:/Users/jaewone/developer/tensorflow/baby-cry-classification/trim.ipynb#W0sZmlsZQ%3D%3D?line=16'>17</a>\u001b[0m     \u001b[39mfor\u001b[39;00m i, frame \u001b[39min\u001b[39;00m \u001b[39menumerate\u001b[39m(data):\n\u001b[1;32m     <a href='vscode-notebook-cell:/Users/jaewone/developer/tensorflow/baby-cry-classification/trim.ipynb#W0sZmlsZQ%3D%3D?line=17'>18</a>\u001b[0m         \u001b[39m# if not is_silent(frame):\u001b[39;00m\n\u001b[1;32m     <a href='vscode-notebook-cell:/Users/jaewone/developer/tensorflow/baby-cry-classification/trim.ipynb#W0sZmlsZQ%3D%3D?line=18'>19</a>\u001b[0m         \u001b[39m#     print(f'find start: {i}')\u001b[39;00m\n\u001b[1;32m     <a href='vscode-notebook-cell:/Users/jaewone/developer/tensorflow/baby-cry-classification/trim.ipynb#W0sZmlsZQ%3D%3D?line=19'>20</a>\u001b[0m         \u001b[39m#     return max(0, i - 1)\u001b[39;00m\n\u001b[0;32m---> <a href='vscode-notebook-cell:/Users/jaewone/developer/tensorflow/baby-cry-classification/trim.ipynb#W0sZmlsZQ%3D%3D?line=20'>21</a>\u001b[0m         \u001b[39mprint\u001b[39m(\u001b[39mint\u001b[39;49m(frame, \u001b[39m2\u001b[39;49m))\n\u001b[1;32m     <a href='vscode-notebook-cell:/Users/jaewone/developer/tensorflow/baby-cry-classification/trim.ipynb#W0sZmlsZQ%3D%3D?line=21'>22</a>\u001b[0m     \u001b[39mreturn\u001b[39;00m \u001b[39m0\u001b[39m\n",
      "\u001b[0;31mValueError\u001b[0m: invalid literal for int() with base 2: b\"'\\xff\""
     ]
    }
   ],
   "source": [
    "def read_wav_file(file_path):\n",
    "    with wave.open(file_path, 'rb') as wf:\n",
    "        num_channels = wf.getnchannels()\n",
    "        sample_width = wf.getsampwidth()\n",
    "        frame_rate = wf.getframerate()\n",
    "        num_frames = wf.getnframes()\n",
    "        data = wf.readframes(num_frames)\n",
    "    return num_channels, sample_width, frame_rate, num_frames, data\n",
    "\n",
    "def find_speech_interval(data, threshold=0.01):\n",
    "    # threshold: 특정 레벨 이하의 값은 무음으로 간주 (값은 실험적으로 조정 가능)\n",
    "\n",
    "    def is_silent(frame):\n",
    "        return max(frame) < threshold\n",
    "\n",
    "    def find_start(data):\n",
    "        for i, frame in enumerate(data):\n",
    "            # if not is_silent(frame):\n",
    "            #     print(f'find start: {i}')\n",
    "            #     return max(0, i - 1)\n",
    "            print(frame)\n",
    "        return 0\n",
    "\n",
    "    def find_end(data):\n",
    "        for i, frame in reversed(list(enumerate(data))):\n",
    "            # if not is_silent(frame):\n",
    "            #     print(f'find end: {i}')\n",
    "            #     return min(len(data), i + 2)\n",
    "            print(type(617399))\n",
    "        return 617399 + 2\n",
    "\n",
    "    start = find_start(data)\n",
    "    end = find_end(data)\n",
    "\n",
    "    return start, end\n",
    "\n",
    "\n",
    "def find_speech_interval_in_wav(input_file, threshold=10):\n",
    "    num_channels, sample_width, frame_rate, num_frames, data = read_wav_file(input_file)\n",
    "    # 각 프레임을 리스트로 변환\n",
    "    # data = [data[i:i + num_channels * sample_width] for i in range(0, len(data), num_channels * sample_width)]\n",
    "    # start, end = find_speech_interval(data, threshold)\n",
    "    # print(start)\n",
    "    # print(end)\n",
    "    # print(frame_rate)\n",
    "    # return start / frame_rate, end / frame_rate\n",
    "\n",
    "# 사용 예시\n",
    "input_file_path = '/Users/jaewone/developer/tensorflow/baby-cry-classification/data/396.wav'\n",
    "threshold_value = 0.01\n",
    "\n",
    "start_time, end_time = find_speech_interval_in_wav(input_file_path, threshold_value)\n",
    "print(input_file_path)\n",
    "print(f\"음성이 시작하는 시점: {start_time} 초\")\n",
    "print(f\"음성이 종료되는 시점: {end_time} 초\")\n"
   ]
  }
 ],
 "metadata": {
  "kernelspec": {
   "display_name": "Python 3",
   "language": "python",
   "name": "python3"
  },
  "language_info": {
   "codemirror_mode": {
    "name": "ipython",
    "version": 3
   },
   "file_extension": ".py",
   "mimetype": "text/x-python",
   "name": "python",
   "nbconvert_exporter": "python",
   "pygments_lexer": "ipython3",
   "version": "3.9.0"
  },
  "orig_nbformat": 4
 },
 "nbformat": 4,
 "nbformat_minor": 2
}
