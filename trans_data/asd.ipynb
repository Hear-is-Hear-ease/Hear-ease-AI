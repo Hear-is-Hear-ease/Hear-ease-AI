{
 "cells": [
  {
   "cell_type": "code",
   "execution_count": 4,
   "metadata": {},
   "outputs": [],
   "source": [
    "import pandas as pd\n",
    "import numpy as np\n",
    "import os\n",
    "import matplotlib.pyplot as plt\n",
    "import seaborn as sns\n",
    "import wave\n",
    "import librosa\n",
    "from scipy.io import wavfile\n",
    "from typing import Union, Optional"
   ]
  },
  {
   "cell_type": "code",
   "execution_count": 5,
   "metadata": {},
   "outputs": [],
   "source": [
    "import sys\n",
    "sys.path.append('/Users/jaewone/developer/tensorflow/baby-cry-classification')"
   ]
  },
  {
   "cell_type": "code",
   "execution_count": 6,
   "metadata": {},
   "outputs": [],
   "source": [
    "from utils.sound import *\n",
    "from utils.os import *\n",
    "from constant.os import *"
   ]
  },
  {
   "cell_type": "code",
   "execution_count": 16,
   "metadata": {},
   "outputs": [
    {
     "name": "stdout",
     "output_type": "stream",
     "text": [
      "['sad', 'hug', 'diaper', 'hungry', 'sleepy', 'awake', 'uncomfortable']\n"
     ]
    }
   ],
   "source": [
    "# 라벨에 따라 균등하게 맞추어 n개의 샘플을 추출한다.\n",
    "def get_sample_data_path(data_path, n_state = 100):\n",
    "    if not os.path.exists(data_path):\n",
    "        raise OSError(f'path {data_path} not exist.')\n",
    "\n",
    "    # get state folder path list    \n",
    "    state_dir_list = get_state_list_from_dir_name(data_path, with_path=True)\n",
    "    print(state_dir_list)\n",
    "\n",
    "\n",
    "\n",
    "get_sample_data_path(data_path)"
   ]
  },
  {
   "cell_type": "code",
   "execution_count": null,
   "metadata": {},
   "outputs": [],
   "source": [
    "def extract_data_sample():\n",
    "  pass"
   ]
  }
 ],
 "metadata": {
  "kernelspec": {
   "display_name": "Python 3",
   "language": "python",
   "name": "python3"
  },
  "language_info": {
   "codemirror_mode": {
    "name": "ipython",
    "version": 3
   },
   "file_extension": ".py",
   "mimetype": "text/x-python",
   "name": "python",
   "nbconvert_exporter": "python",
   "pygments_lexer": "ipython3",
   "version": "3.9.0"
  },
  "orig_nbformat": 4
 },
 "nbformat": 4,
 "nbformat_minor": 2
}
