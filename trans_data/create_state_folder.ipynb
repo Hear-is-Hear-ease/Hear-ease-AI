{
 "cells": [
  {
   "cell_type": "markdown",
   "metadata": {},
   "source": [
    "원천 데이터를 처리하여 가용한 데이터로 변환한다. 처리 내용은 아래와 같다.\n",
    "\n",
    "1. 분석할 수 없는 파일을 제거한다.\n",
    "\n",
    "2. sampling rate를 통일한다.\n",
    "\n",
    "3. state 별 파일을 폴더 이름을 통해 구분한다. 이때 상위 7개의 state에 대해서만 구분하며 나머지는 etc 파일에 csv와 함께 저장한다.\n"
   ]
  },
  {
   "cell_type": "code",
   "execution_count": 5,
   "metadata": {},
   "outputs": [],
   "source": [
    "import pandas as pd\n",
    "import numpy as np\n",
    "import os\n",
    "import sys\n",
    "sys.path.append('/Users/jaewone/developer/tensorflow/baby-cry-classification')"
   ]
  },
  {
   "cell_type": "code",
   "execution_count": 6,
   "metadata": {},
   "outputs": [],
   "source": [
    "from utils.os import *\n",
    "from utils.sound import *\n",
    "from constant.os import *"
   ]
  },
  {
   "cell_type": "code",
   "execution_count": 7,
   "metadata": {},
   "outputs": [],
   "source": [
    "origin_data_path = data_path\n",
    "temp_path = os.path.join(main_path, '_temp')\n",
    "csv_path = csv_path\n",
    "\n",
    "if os.path.exists(temp_path):\n",
    "    remove_path_with_files(temp_path)\n",
    "os.makedirs(temp_path)"
   ]
  },
  {
   "cell_type": "code",
   "execution_count": 8,
   "metadata": {},
   "outputs": [
    {
     "data": {
      "text/plain": [
       "['sad', 'hungry', 'hug', 'awake', 'sleepy', 'uncomfortable', 'diaper']"
      ]
     },
     "execution_count": 8,
     "metadata": {},
     "output_type": "execute_result"
    }
   ],
   "source": [
    "df = pd.read_csv(csv_path, index_col=0)\n",
    "\n",
    "top7_label = df.state.value_counts().keys().tolist()[:7]\n",
    "top7_label"
   ]
  },
  {
   "cell_type": "code",
   "execution_count": 9,
   "metadata": {},
   "outputs": [],
   "source": [
    "# Sampling rate를 가져오며 분석할 수 없는 파일은 제외한다.\n",
    "from trans_data import get_sample_rate\n",
    "\n",
    "# 음성의 sample rate를 추출한 origin_sample_rate 열을 추가한다.\n",
    "# 에러가 난 파일은 na 값을 가진다.\n",
    "df = df.assign(origin_sample_rate=df['file'].apply(\n",
    "    lambda file: get_sample_rate(os.path.join(data_path, file))))"
   ]
  },
  {
   "cell_type": "code",
   "execution_count": 10,
   "metadata": {},
   "outputs": [
    {
     "name": "stdout",
     "output_type": "stream",
     "text": [
      "전체 3688개의 데이터 중 사용할 수 없는 216개의 데이터가 제외되었다.\n"
     ]
    },
    {
     "data": {
      "text/html": [
       "<div>\n",
       "<style scoped>\n",
       "    .dataframe tbody tr th:only-of-type {\n",
       "        vertical-align: middle;\n",
       "    }\n",
       "\n",
       "    .dataframe tbody tr th {\n",
       "        vertical-align: top;\n",
       "    }\n",
       "\n",
       "    .dataframe thead th {\n",
       "        text-align: right;\n",
       "    }\n",
       "</style>\n",
       "<table border=\"1\" class=\"dataframe\">\n",
       "  <thead>\n",
       "    <tr style=\"text-align: right;\">\n",
       "      <th></th>\n",
       "      <th>state</th>\n",
       "      <th>gender</th>\n",
       "      <th>age</th>\n",
       "      <th>source</th>\n",
       "      <th>file</th>\n",
       "      <th>detail</th>\n",
       "      <th>duration</th>\n",
       "      <th>origin_sample_rate</th>\n",
       "    </tr>\n",
       "  </thead>\n",
       "  <tbody>\n",
       "    <tr>\n",
       "      <th>3685</th>\n",
       "      <td>uncomfortable</td>\n",
       "      <td>NaN</td>\n",
       "      <td>NaN</td>\n",
       "      <td>iFLYTEK</td>\n",
       "      <td>uncomfortable_109.wav</td>\n",
       "      <td>NaN</td>\n",
       "      <td>16.782222</td>\n",
       "      <td>44100.0</td>\n",
       "    </tr>\n",
       "    <tr>\n",
       "      <th>3686</th>\n",
       "      <td>uncomfortable</td>\n",
       "      <td>NaN</td>\n",
       "      <td>NaN</td>\n",
       "      <td>iFLYTEK</td>\n",
       "      <td>uncomfortable_135.wav</td>\n",
       "      <td>NaN</td>\n",
       "      <td>13.100567</td>\n",
       "      <td>44100.0</td>\n",
       "    </tr>\n",
       "    <tr>\n",
       "      <th>3687</th>\n",
       "      <td>uncomfortable</td>\n",
       "      <td>NaN</td>\n",
       "      <td>NaN</td>\n",
       "      <td>iFLYTEK</td>\n",
       "      <td>uncomfortable_121.wav</td>\n",
       "      <td>NaN</td>\n",
       "      <td>15.530000</td>\n",
       "      <td>16000.0</td>\n",
       "    </tr>\n",
       "  </tbody>\n",
       "</table>\n",
       "</div>"
      ],
      "text/plain": [
       "              state gender  age   source                   file detail  \\\n",
       "3685  uncomfortable    NaN  NaN  iFLYTEK  uncomfortable_109.wav    NaN   \n",
       "3686  uncomfortable    NaN  NaN  iFLYTEK  uncomfortable_135.wav    NaN   \n",
       "3687  uncomfortable    NaN  NaN  iFLYTEK  uncomfortable_121.wav    NaN   \n",
       "\n",
       "       duration  origin_sample_rate  \n",
       "3685  16.782222             44100.0  \n",
       "3686  13.100567             44100.0  \n",
       "3687  15.530000             16000.0  "
      ]
     },
     "execution_count": 10,
     "metadata": {},
     "output_type": "execute_result"
    }
   ],
   "source": [
    "# 분석할 수 없는 데이터는 csv에서 제외한 다음 저장한다.\n",
    "\n",
    "print(f'전체 {len(df)}개의 데이터 중 사용할 수 없는 {(len(df[df.origin_sample_rate.isna()]))}개의 데이터가 제외되었다.')\n",
    "\n",
    "df = df[df.origin_sample_rate.notna()]\n",
    "df.to_csv(csv_path)\n",
    "df.tail(3)"
   ]
  },
  {
   "cell_type": "code",
   "execution_count": 11,
   "metadata": {},
   "outputs": [
    {
     "name": "stdout",
     "output_type": "stream",
     "text": [
      "존재하는 sample rate는 16000 뿐이다.\n"
     ]
    }
   ],
   "source": [
    "# Sampling rate를 통일한다.\n",
    "from bit_sampling import resampling, is_same_sample_rate\n",
    "\n",
    "resampling(\n",
    "    file_path_list=[os.path.join(data_path, file)\n",
    "                    for file in df.file.tolist()],\n",
    "    output_path=temp_path,\n",
    "    target_sample_rate=16000\n",
    ")\n",
    "\n",
    "if is_same_sample_rate([os.path.join(temp_path, file) for file in os.listdir(temp_path)], 16000):\n",
    "    print(f'존재하는 sample rate는 16000 뿐이다.')"
   ]
  },
  {
   "cell_type": "code",
   "execution_count": 12,
   "metadata": {},
   "outputs": [],
   "source": [
    "# 라벨에 따른 폴더 생성\n",
    "for folder in top7_label:\n",
    "    os.makedirs(os.path.join(temp_path, folder))\n",
    "os.makedirs(os.path.join(temp_path, 'etc'))"
   ]
  },
  {
   "cell_type": "code",
   "execution_count": 13,
   "metadata": {},
   "outputs": [
    {
     "data": {
      "text/plain": [
       "0       None\n",
       "1       None\n",
       "2       None\n",
       "3       None\n",
       "4       None\n",
       "        ... \n",
       "3683    None\n",
       "3684    None\n",
       "3685    None\n",
       "3686    None\n",
       "3687    None\n",
       "Length: 3472, dtype: object"
      ]
     },
     "execution_count": 13,
     "metadata": {},
     "output_type": "execute_result"
    }
   ],
   "source": [
    "# 각 라벨에 맞는 폴더로 이동\n",
    "def move_file_by_label(ser):\n",
    "    file, state = ser\n",
    "    move_file(\n",
    "        os.path.join(temp_path, file),\n",
    "        os.path.join(temp_path, state, file))\n",
    "\n",
    "\n",
    "df = df.assign(istop=df.state.where(df.state.isin(top7_label), 'etc'))\n",
    "\n",
    "df[['file', 'istop']].apply(lambda ser: move_file_by_label(ser), axis=1)"
   ]
  },
  {
   "cell_type": "code",
   "execution_count": 14,
   "metadata": {},
   "outputs": [],
   "source": [
    "df[df['istop'] == 'etc'][['state', 'file']].to_csv(os.path.join(temp_path, 'etc.csv'))"
   ]
  },
  {
   "cell_type": "code",
   "execution_count": 15,
   "metadata": {},
   "outputs": [],
   "source": [
    "df[df['istop'] != 'etc'][['state', 'file']].to_csv(os.path.join(temp_path, 'top7.csv'))"
   ]
  },
  {
   "cell_type": "code",
   "execution_count": 16,
   "metadata": {},
   "outputs": [],
   "source": [
    "df = df.drop(columns='istop')\n",
    "df.to_csv(os.path.join(temp_path, 'info.csv'))"
   ]
  },
  {
   "cell_type": "markdown",
   "metadata": {},
   "source": [
    "미연의 사고를 방지하기 위해 원본 데이터인 data 폴더를 삭제하는 것은 사용자에게 맡긴다.\n",
    "\n",
    "data 폴더를 삭제한 다음 _temp 폴더의 이름을 data로 변형하여 사용하면 된다."
   ]
  }
 ],
 "metadata": {
  "kernelspec": {
   "display_name": "Python 3",
   "language": "python",
   "name": "python3"
  },
  "language_info": {
   "codemirror_mode": {
    "name": "ipython",
    "version": 3
   },
   "file_extension": ".py",
   "mimetype": "text/x-python",
   "name": "python",
   "nbconvert_exporter": "python",
   "pygments_lexer": "ipython3",
   "version": "3.9.0"
  },
  "orig_nbformat": 4
 },
 "nbformat": 4,
 "nbformat_minor": 2
}
