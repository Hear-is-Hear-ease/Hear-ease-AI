{
 "cells": [
  {
   "cell_type": "markdown",
   "metadata": {},
   "source": [
    "giulbia github baby_cry_detection repository를 통해 소리 데이터를 받을 수 있다. 모든 데이터를 사용하는 것이 아닌 아이의 웃음소리 데이터만을 사용 할 것이다. 데이터는 아래 홈페이지에서 내려받을 수 있다.\n",
    "\n",
    "https://github.com/giulbia/baby_cry_detection"
   ]
  },
  {
   "cell_type": "code",
   "execution_count": 37,
   "metadata": {},
   "outputs": [],
   "source": [
    "# Load packages\n",
    "import os\n",
    "import numpy as np\n",
    "import pandas as pd\n",
    "import seaborn as sns\n",
    "from shutil import move\n",
    "import matplotlib.pyplot as plt"
   ]
  },
  {
   "cell_type": "code",
   "execution_count": 38,
   "metadata": {},
   "outputs": [],
   "source": [
    "# OS setup\n",
    "main_path = os.getcwd()\n",
    "data_path = os.path.join(main_path, 'data')\n",
    "origin_file_path = \"/Users/jaewone/Downloads/baby_cry_detection-master/data/903 - Baby laugh\"\n",
    "csv_path = os.path.join(main_path, 'info.csv')"
   ]
  },
  {
   "cell_type": "code",
   "execution_count": 39,
   "metadata": {},
   "outputs": [
    {
     "data": {
      "text/plain": [
       "'/Users/jaewone/Downloads/baby_cry_detection-master/data/903 - Baby laugh/laugh_1.m4a_68.wav'"
      ]
     },
     "execution_count": 39,
     "metadata": {},
     "output_type": "execute_result"
    }
   ],
   "source": [
    "# Get baby audio file path list\n",
    "baby_audio_list = []\n",
    "\n",
    "for file in os.listdir(origin_file_path):\n",
    "    # check file is wav file\n",
    "    file_name, format = file.rsplit('.', 1)\n",
    "    if not format == 'wav':\n",
    "        break\n",
    "\n",
    "    # Append path if audio is sound of baby\n",
    "    info = file_name.split('-')\n",
    "    baby_audio_list.append(os.path.join(origin_file_path, file))\n",
    "\n",
    "baby_audio_list[0]"
   ]
  },
  {
   "cell_type": "code",
   "execution_count": 40,
   "metadata": {},
   "outputs": [
    {
     "data": {
      "text/html": [
       "<div>\n",
       "<style scoped>\n",
       "    .dataframe tbody tr th:only-of-type {\n",
       "        vertical-align: middle;\n",
       "    }\n",
       "\n",
       "    .dataframe tbody tr th {\n",
       "        vertical-align: top;\n",
       "    }\n",
       "\n",
       "    .dataframe thead th {\n",
       "        text-align: right;\n",
       "    }\n",
       "</style>\n",
       "<table border=\"1\" class=\"dataframe\">\n",
       "  <thead>\n",
       "    <tr style=\"text-align: right;\">\n",
       "      <th></th>\n",
       "      <th>state</th>\n",
       "      <th>gender</th>\n",
       "      <th>age</th>\n",
       "      <th>file</th>\n",
       "      <th>detail</th>\n",
       "      <th>source</th>\n",
       "    </tr>\n",
       "  </thead>\n",
       "  <tbody>\n",
       "    <tr>\n",
       "      <th>105</th>\n",
       "      <td>happy</td>\n",
       "      <td></td>\n",
       "      <td></td>\n",
       "      <td>/Users/jaewone/Downloads/baby_cry_detection-ma...</td>\n",
       "      <td></td>\n",
       "      <td>giulbia</td>\n",
       "    </tr>\n",
       "    <tr>\n",
       "      <th>106</th>\n",
       "      <td>happy</td>\n",
       "      <td></td>\n",
       "      <td></td>\n",
       "      <td>/Users/jaewone/Downloads/baby_cry_detection-ma...</td>\n",
       "      <td></td>\n",
       "      <td>giulbia</td>\n",
       "    </tr>\n",
       "    <tr>\n",
       "      <th>107</th>\n",
       "      <td>happy</td>\n",
       "      <td></td>\n",
       "      <td></td>\n",
       "      <td>/Users/jaewone/Downloads/baby_cry_detection-ma...</td>\n",
       "      <td></td>\n",
       "      <td>giulbia</td>\n",
       "    </tr>\n",
       "  </tbody>\n",
       "</table>\n",
       "</div>"
      ],
      "text/plain": [
       "     state gender age                                               file  \\\n",
       "105  happy             /Users/jaewone/Downloads/baby_cry_detection-ma...   \n",
       "106  happy             /Users/jaewone/Downloads/baby_cry_detection-ma...   \n",
       "107  happy             /Users/jaewone/Downloads/baby_cry_detection-ma...   \n",
       "\n",
       "    detail   source  \n",
       "105         giulbia  \n",
       "106         giulbia  \n",
       "107         giulbia  "
      ]
     },
     "execution_count": 40,
     "metadata": {},
     "output_type": "execute_result"
    }
   ],
   "source": [
    "# Create dataframe\n",
    "df = pd.DataFrame(columns=['state', 'gender', 'age', 'file', 'detail', 'source'])\n",
    "\n",
    "df['file'] = baby_audio_list\n",
    "df['state'] = 'happy'\n",
    "df['source'] = 'giulbia'\n",
    "df['gender'] = df['age'] = df['detail'] = ''\n",
    "df.tail(3)"
   ]
  },
  {
   "cell_type": "code",
   "execution_count": 41,
   "metadata": {},
   "outputs": [],
   "source": [
    "# move file to data folder\n",
    "def move_all_file_in_folder(from_path, to_path, extension=None):\n",
    "  for (path, dirs, files) in os.walk(from_path):\n",
    "    for dir in dirs:\n",
    "      move_all_file_in_folder(os.path.join(from_path, dir), to_path, extension)\n",
    "    for file in files:\n",
    "      if extension:\n",
    "        s = file.rsplit('.', 1)\n",
    "        if len(s) == 1 or f'.{s[1]}' not in extension:\n",
    "          continue\n",
    "      move(os.path.join(path, file), os.path.join(to_path, file))\n",
    "\n",
    "move_all_file_in_folder(origin_file_path, data_path, extension=['.wav'])"
   ]
  },
  {
   "cell_type": "code",
   "execution_count": 42,
   "metadata": {},
   "outputs": [
    {
     "data": {
      "text/html": [
       "<div>\n",
       "<style scoped>\n",
       "    .dataframe tbody tr th:only-of-type {\n",
       "        vertical-align: middle;\n",
       "    }\n",
       "\n",
       "    .dataframe tbody tr th {\n",
       "        vertical-align: top;\n",
       "    }\n",
       "\n",
       "    .dataframe thead th {\n",
       "        text-align: right;\n",
       "    }\n",
       "</style>\n",
       "<table border=\"1\" class=\"dataframe\">\n",
       "  <thead>\n",
       "    <tr style=\"text-align: right;\">\n",
       "      <th></th>\n",
       "      <th>state</th>\n",
       "      <th>gender</th>\n",
       "      <th>age</th>\n",
       "      <th>file</th>\n",
       "      <th>detail</th>\n",
       "      <th>source</th>\n",
       "    </tr>\n",
       "  </thead>\n",
       "  <tbody>\n",
       "    <tr>\n",
       "      <th>105</th>\n",
       "      <td>happy</td>\n",
       "      <td></td>\n",
       "      <td></td>\n",
       "      <td>laugh_1.m4a_59.wav</td>\n",
       "      <td></td>\n",
       "      <td>giulbia</td>\n",
       "    </tr>\n",
       "    <tr>\n",
       "      <th>106</th>\n",
       "      <td>happy</td>\n",
       "      <td></td>\n",
       "      <td></td>\n",
       "      <td>laugh_1.m4a_71.wav</td>\n",
       "      <td></td>\n",
       "      <td>giulbia</td>\n",
       "    </tr>\n",
       "    <tr>\n",
       "      <th>107</th>\n",
       "      <td>happy</td>\n",
       "      <td></td>\n",
       "      <td></td>\n",
       "      <td>laugh_1.m4a_65.wav</td>\n",
       "      <td></td>\n",
       "      <td>giulbia</td>\n",
       "    </tr>\n",
       "  </tbody>\n",
       "</table>\n",
       "</div>"
      ],
      "text/plain": [
       "     state gender age                file detail   source\n",
       "105  happy             laugh_1.m4a_59.wav         giulbia\n",
       "106  happy             laugh_1.m4a_71.wav         giulbia\n",
       "107  happy             laugh_1.m4a_65.wav         giulbia"
      ]
     },
     "execution_count": 42,
     "metadata": {},
     "output_type": "execute_result"
    }
   ],
   "source": [
    "# update file path\n",
    "df['file'] = df['file'].str.replace(f'{origin_file_path}/', '')\n",
    "df.tail(3)"
   ]
  },
  {
   "cell_type": "code",
   "execution_count": 43,
   "metadata": {},
   "outputs": [
    {
     "data": {
      "text/html": [
       "<div>\n",
       "<style scoped>\n",
       "    .dataframe tbody tr th:only-of-type {\n",
       "        vertical-align: middle;\n",
       "    }\n",
       "\n",
       "    .dataframe tbody tr th {\n",
       "        vertical-align: top;\n",
       "    }\n",
       "\n",
       "    .dataframe thead th {\n",
       "        text-align: right;\n",
       "    }\n",
       "</style>\n",
       "<table border=\"1\" class=\"dataframe\">\n",
       "  <thead>\n",
       "    <tr style=\"text-align: right;\">\n",
       "      <th></th>\n",
       "      <th>state</th>\n",
       "      <th>gender</th>\n",
       "      <th>age</th>\n",
       "      <th>source</th>\n",
       "      <th>file</th>\n",
       "      <th>detail</th>\n",
       "    </tr>\n",
       "  </thead>\n",
       "  <tbody>\n",
       "    <tr>\n",
       "      <th>1901</th>\n",
       "      <td>happy</td>\n",
       "      <td></td>\n",
       "      <td></td>\n",
       "      <td>giulbia</td>\n",
       "      <td>laugh_1.m4a_59.wav</td>\n",
       "      <td></td>\n",
       "    </tr>\n",
       "    <tr>\n",
       "      <th>1902</th>\n",
       "      <td>happy</td>\n",
       "      <td></td>\n",
       "      <td></td>\n",
       "      <td>giulbia</td>\n",
       "      <td>laugh_1.m4a_71.wav</td>\n",
       "      <td></td>\n",
       "    </tr>\n",
       "    <tr>\n",
       "      <th>1903</th>\n",
       "      <td>happy</td>\n",
       "      <td></td>\n",
       "      <td></td>\n",
       "      <td>giulbia</td>\n",
       "      <td>laugh_1.m4a_65.wav</td>\n",
       "      <td></td>\n",
       "    </tr>\n",
       "  </tbody>\n",
       "</table>\n",
       "</div>"
      ],
      "text/plain": [
       "      state gender age   source                file detail\n",
       "1901  happy             giulbia  laugh_1.m4a_59.wav       \n",
       "1902  happy             giulbia  laugh_1.m4a_71.wav       \n",
       "1903  happy             giulbia  laugh_1.m4a_65.wav       "
      ]
     },
     "execution_count": 43,
     "metadata": {},
     "output_type": "execute_result"
    }
   ],
   "source": [
    "# Append to csv\n",
    "origin_df = pd.read_csv(csv_path, index_col=0).fillna('')\n",
    "origin_df = pd.concat([origin_df, df])\n",
    "origin_df = origin_df.reset_index(drop=True)\n",
    "\n",
    "# Update csv\n",
    "origin_df.to_csv(csv_path)\n",
    "origin_df.tail(3)"
   ]
  }
 ],
 "metadata": {
  "kernelspec": {
   "display_name": "Python 3",
   "language": "python",
   "name": "python3"
  },
  "language_info": {
   "codemirror_mode": {
    "name": "ipython",
    "version": 3
   },
   "file_extension": ".py",
   "mimetype": "text/x-python",
   "name": "python",
   "nbconvert_exporter": "python",
   "pygments_lexer": "ipython3",
   "version": "3.9.0"
  },
  "orig_nbformat": 4
 },
 "nbformat": 4,
 "nbformat_minor": 2
}
