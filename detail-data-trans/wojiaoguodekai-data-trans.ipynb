{
 "cells": [
  {
   "cell_type": "markdown",
   "metadata": {},
   "source": [
    "## 위쟈오구 아기 울음 인식 데이터 세트\n",
    "\n",
    "데이터에 대한 특별한 설명은 없으나 각각의 wav의 정보를 담고있는 json 파일이 쌍을 이루어 제공된다. \n",
    "\n",
    "json 파일에는 각각의 라벨이 명시되어 있다.\n",
    "\n",
    "silance 라벨은 말 그대로 조용한 배경 소리를 담고 있다. 불필요한 데이터셋이라 판단하여 제외하는 것도 고려해보자.\n",
    "\n",
    "데이터셋은 아래 홈페이지에서 다운 받을 수 있다.\n",
    "\n",
    "https://aistudio.baidu.com/aistudio/datasetdetail/169602"
   ]
  },
  {
   "cell_type": "code",
   "execution_count": 6,
   "metadata": {},
   "outputs": [],
   "source": [
    "# Load packages\n",
    "import os\n",
    "import numpy as np\n",
    "import pandas as pd\n",
    "import seaborn as sns\n",
    "from shutil import move\n",
    "import matplotlib.pyplot as plt\n",
    "from json import load"
   ]
  },
  {
   "cell_type": "code",
   "execution_count": 4,
   "metadata": {},
   "outputs": [],
   "source": [
    "# load variables\n",
    "%store -r main_path data_path csv_path\n",
    "\n",
    "main_path = main_path\n",
    "data_path = data_path\n",
    "csv_path = csv_path\n",
    "\n",
    "origin_file_path = \"/Users/jaewone/Downloads/DatasetId_205704_1663556775\""
   ]
  },
  {
   "cell_type": "code",
   "execution_count": 22,
   "metadata": {},
   "outputs": [],
   "source": [
    "# extract data from json\n",
    "file_list = []\n",
    "state_list = []\n",
    "\n",
    "for file in os.listdir(origin_file_path):\n",
    "    file_name, ex = file.rsplit('.', 1)\n",
    "    if ex == 'json':\n",
    "        with open(os.path.join(origin_file_path, file)) as f:\n",
    "            state = load(f)['labels'][0]['name']\n",
    "            wav_file_path = f'{origin_file_path}/{file_name}.wav'\n",
    "            if state != '' and os.path.exists(wav_file_path):\n",
    "                file_list.append(wav_file_path)\n",
    "                state_list.append(state)"
   ]
  },
  {
   "cell_type": "code",
   "execution_count": 30,
   "metadata": {},
   "outputs": [
    {
     "data": {
      "text/html": [
       "<div>\n",
       "<style scoped>\n",
       "    .dataframe tbody tr th:only-of-type {\n",
       "        vertical-align: middle;\n",
       "    }\n",
       "\n",
       "    .dataframe tbody tr th {\n",
       "        vertical-align: top;\n",
       "    }\n",
       "\n",
       "    .dataframe thead th {\n",
       "        text-align: right;\n",
       "    }\n",
       "</style>\n",
       "<table border=\"1\" class=\"dataframe\">\n",
       "  <thead>\n",
       "    <tr style=\"text-align: right;\">\n",
       "      <th></th>\n",
       "      <th>file</th>\n",
       "      <th>state</th>\n",
       "      <th>source</th>\n",
       "      <th>gender</th>\n",
       "      <th>age</th>\n",
       "      <th>detail</th>\n",
       "    </tr>\n",
       "  </thead>\n",
       "  <tbody>\n",
       "    <tr>\n",
       "      <th>863</th>\n",
       "      <td>/Users/jaewone/Downloads/DatasetId_205704_1663...</td>\n",
       "      <td>sleepy</td>\n",
       "      <td>wojiaoguodekai</td>\n",
       "      <td></td>\n",
       "      <td></td>\n",
       "      <td></td>\n",
       "    </tr>\n",
       "    <tr>\n",
       "      <th>864</th>\n",
       "      <td>/Users/jaewone/Downloads/DatasetId_205704_1663...</td>\n",
       "      <td>hug</td>\n",
       "      <td>wojiaoguodekai</td>\n",
       "      <td></td>\n",
       "      <td></td>\n",
       "      <td></td>\n",
       "    </tr>\n",
       "    <tr>\n",
       "      <th>865</th>\n",
       "      <td>/Users/jaewone/Downloads/DatasetId_205704_1663...</td>\n",
       "      <td>hug</td>\n",
       "      <td>wojiaoguodekai</td>\n",
       "      <td></td>\n",
       "      <td></td>\n",
       "      <td></td>\n",
       "    </tr>\n",
       "  </tbody>\n",
       "</table>\n",
       "</div>"
      ],
      "text/plain": [
       "                                                  file   state  \\\n",
       "863  /Users/jaewone/Downloads/DatasetId_205704_1663...  sleepy   \n",
       "864  /Users/jaewone/Downloads/DatasetId_205704_1663...     hug   \n",
       "865  /Users/jaewone/Downloads/DatasetId_205704_1663...     hug   \n",
       "\n",
       "             source gender age detail  \n",
       "863  wojiaoguodekai                    \n",
       "864  wojiaoguodekai                    \n",
       "865  wojiaoguodekai                    "
      ]
     },
     "execution_count": 30,
     "metadata": {},
     "output_type": "execute_result"
    }
   ],
   "source": [
    "# Create dataframe\n",
    "\n",
    "df = pd.DataFrame(list(zip(file_list, state_list)), columns=['file', 'state'])\n",
    "\n",
    "df['source'] = 'wojiaoguodekai'\n",
    "df['gender'] = df['age'] = df['detail'] = ''\n",
    "df.tail(3)"
   ]
  },
  {
   "cell_type": "code",
   "execution_count": 31,
   "metadata": {},
   "outputs": [],
   "source": [
    "# move file to data folder\n",
    "def move_all_file_in_folder(from_path, to_path, extension=None):\n",
    "  for (path, dirs, files) in os.walk(from_path):\n",
    "    for dir in dirs:\n",
    "      move_all_file_in_folder(os.path.join(from_path, dir), to_path, extension)\n",
    "    for file in files:\n",
    "      if extension:\n",
    "        s = file.rsplit('.', 1)\n",
    "        if len(s) == 1 or f'.{s[1]}' not in extension:\n",
    "          continue\n",
    "      move(os.path.join(path, file), os.path.join(to_path, file))\n",
    "\n",
    "move_all_file_in_folder(origin_file_path, data_path, extension=['.wav'])"
   ]
  },
  {
   "cell_type": "code",
   "execution_count": 32,
   "metadata": {},
   "outputs": [
    {
     "data": {
      "text/html": [
       "<div>\n",
       "<style scoped>\n",
       "    .dataframe tbody tr th:only-of-type {\n",
       "        vertical-align: middle;\n",
       "    }\n",
       "\n",
       "    .dataframe tbody tr th {\n",
       "        vertical-align: top;\n",
       "    }\n",
       "\n",
       "    .dataframe thead th {\n",
       "        text-align: right;\n",
       "    }\n",
       "</style>\n",
       "<table border=\"1\" class=\"dataframe\">\n",
       "  <thead>\n",
       "    <tr style=\"text-align: right;\">\n",
       "      <th></th>\n",
       "      <th>file</th>\n",
       "      <th>state</th>\n",
       "      <th>source</th>\n",
       "      <th>gender</th>\n",
       "      <th>age</th>\n",
       "      <th>detail</th>\n",
       "    </tr>\n",
       "  </thead>\n",
       "  <tbody>\n",
       "    <tr>\n",
       "      <th>863</th>\n",
       "      <td>881.wav</td>\n",
       "      <td>sleepy</td>\n",
       "      <td>wojiaoguodekai</td>\n",
       "      <td></td>\n",
       "      <td></td>\n",
       "      <td></td>\n",
       "    </tr>\n",
       "    <tr>\n",
       "      <th>864</th>\n",
       "      <td>182.wav</td>\n",
       "      <td>hug</td>\n",
       "      <td>wojiaoguodekai</td>\n",
       "      <td></td>\n",
       "      <td></td>\n",
       "      <td></td>\n",
       "    </tr>\n",
       "    <tr>\n",
       "      <th>865</th>\n",
       "      <td>478.wav</td>\n",
       "      <td>hug</td>\n",
       "      <td>wojiaoguodekai</td>\n",
       "      <td></td>\n",
       "      <td></td>\n",
       "      <td></td>\n",
       "    </tr>\n",
       "  </tbody>\n",
       "</table>\n",
       "</div>"
      ],
      "text/plain": [
       "        file   state          source gender age detail\n",
       "863  881.wav  sleepy  wojiaoguodekai                  \n",
       "864  182.wav     hug  wojiaoguodekai                  \n",
       "865  478.wav     hug  wojiaoguodekai                  "
      ]
     },
     "execution_count": 32,
     "metadata": {},
     "output_type": "execute_result"
    }
   ],
   "source": [
    "# update file path\n",
    "df['file'] = df['file'].str.replace(f'{origin_file_path}/', '')\n",
    "df.tail(3)"
   ]
  },
  {
   "cell_type": "code",
   "execution_count": 33,
   "metadata": {},
   "outputs": [
    {
     "data": {
      "text/html": [
       "<div>\n",
       "<style scoped>\n",
       "    .dataframe tbody tr th:only-of-type {\n",
       "        vertical-align: middle;\n",
       "    }\n",
       "\n",
       "    .dataframe tbody tr th {\n",
       "        vertical-align: top;\n",
       "    }\n",
       "\n",
       "    .dataframe thead th {\n",
       "        text-align: right;\n",
       "    }\n",
       "</style>\n",
       "<table border=\"1\" class=\"dataframe\">\n",
       "  <thead>\n",
       "    <tr style=\"text-align: right;\">\n",
       "      <th></th>\n",
       "      <th>state</th>\n",
       "      <th>gender</th>\n",
       "      <th>age</th>\n",
       "      <th>source</th>\n",
       "      <th>file</th>\n",
       "      <th>detail</th>\n",
       "      <th>duration</th>\n",
       "    </tr>\n",
       "  </thead>\n",
       "  <tbody>\n",
       "    <tr>\n",
       "      <th>2767</th>\n",
       "      <td>sleepy</td>\n",
       "      <td></td>\n",
       "      <td></td>\n",
       "      <td>wojiaoguodekai</td>\n",
       "      <td>881.wav</td>\n",
       "      <td></td>\n",
       "      <td>NaN</td>\n",
       "    </tr>\n",
       "    <tr>\n",
       "      <th>2768</th>\n",
       "      <td>hug</td>\n",
       "      <td></td>\n",
       "      <td></td>\n",
       "      <td>wojiaoguodekai</td>\n",
       "      <td>182.wav</td>\n",
       "      <td></td>\n",
       "      <td>NaN</td>\n",
       "    </tr>\n",
       "    <tr>\n",
       "      <th>2769</th>\n",
       "      <td>hug</td>\n",
       "      <td></td>\n",
       "      <td></td>\n",
       "      <td>wojiaoguodekai</td>\n",
       "      <td>478.wav</td>\n",
       "      <td></td>\n",
       "      <td>NaN</td>\n",
       "    </tr>\n",
       "  </tbody>\n",
       "</table>\n",
       "</div>"
      ],
      "text/plain": [
       "       state gender age          source     file detail  duration\n",
       "2767  sleepy             wojiaoguodekai  881.wav              NaN\n",
       "2768     hug             wojiaoguodekai  182.wav              NaN\n",
       "2769     hug             wojiaoguodekai  478.wav              NaN"
      ]
     },
     "execution_count": 33,
     "metadata": {},
     "output_type": "execute_result"
    }
   ],
   "source": [
    "# Append to csv\n",
    "origin_df = pd.read_csv(csv_path, index_col=0).fillna('')\n",
    "origin_df = pd.concat([origin_df, df])\n",
    "origin_df = origin_df.reset_index(drop=True)\n",
    "\n",
    "# Update csv\n",
    "origin_df.to_csv(csv_path)\n",
    "origin_df.tail(3)"
   ]
  },
  {
   "cell_type": "code",
   "execution_count": 34,
   "metadata": {},
   "outputs": [
    {
     "name": "stdout",
     "output_type": "stream",
     "text": [
      "state 에 따른 파일의 개수와 비율\n",
      "hug        state exists in 17.90% of   155 files.\n",
      "hungry     state exists in 15.70% of   136 files.\n",
      "sleepy     state exists in 15.36% of   133 files.\n",
      "awake      state exists in 13.86% of   120 files.\n",
      "diaper     state exists in 13.16% of   114 files.\n",
      "uncomfortable state exists in 12.24% of   106 files.\n",
      "silence    state exists in 11.78% of   102 files.\n"
     ]
    },
    {
     "data": {
      "image/png": "[encoded data removed]",
      "text/plain": [
       "<Figure size 1440x432 with 1 Axes>"
      ]
     },
     "metadata": {
      "needs_background": "light"
     },
     "output_type": "display_data"
    }
   ],
   "source": [
    "def print_category_info(category: str, sub=None):\n",
    "    print(f\"{category} 에 따른 파일의 개수와 비율\")\n",
    "    value_counts = df[category].value_counts()\n",
    "    keys = value_counts.index.tolist()\n",
    "    counts = value_counts.values.tolist()\n",
    "    rates = list(df[category].value_counts(normalize=True).values)\n",
    "\n",
    "    for i in range(len(keys)):\n",
    "        print(f\"{keys[i]:10s} state exists in {rates[i]*100:05.2f}% of {counts[i]:5d} files.\")\n",
    "\n",
    "    fig, ax = plt.subplots(figsize=(20, 6))\n",
    "    sns.countplot(y=category, \n",
    "                data=df,\n",
    "                order=keys,\n",
    "                hue=sub,\n",
    "                dodge=False)\n",
    "\n",
    "print_category_info('state')"
   ]
  }
 ],
 "metadata": {
  "kernelspec": {
   "display_name": "Python 3",
   "language": "python",
   "name": "python3"
  },
  "language_info": {
   "codemirror_mode": {
    "name": "ipython",
    "version": 3
   },
   "file_extension": ".py",
   "mimetype": "text/x-python",
   "name": "python",
   "nbconvert_exporter": "python",
   "pygments_lexer": "ipython3",
   "version": "3.9.0"
  },
  "orig_nbformat": 4
 },
 "nbformat": 4,
 "nbformat_minor": 2
}
