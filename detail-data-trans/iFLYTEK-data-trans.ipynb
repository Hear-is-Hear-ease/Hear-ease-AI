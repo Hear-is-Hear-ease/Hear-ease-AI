{
 "cells": [
  {
   "cell_type": "markdown",
   "metadata": {},
   "source": [
    "## iFLYTEK 아기 울음 인식 챌린지 데이터 세트\n",
    "\n",
    "데이터에 대한 추가적인 설명은 없으며 파일 이름을 통해 라벨링되어 있다. \n",
    "\n",
    "데이터셋은 아래 홈페이지에서 다운 받을 수 있다. 데이터셋 중 라벨링되어 있는 train 부분만을 데이터로 사용한다.\n",
    "\n",
    "https://aistudio.baidu.com/aistudio/datasetdetail/41960"
   ]
  },
  {
   "cell_type": "code",
   "execution_count": 19,
   "metadata": {},
   "outputs": [],
   "source": [
    "# Load packages\n",
    "import os\n",
    "import numpy as np\n",
    "import pandas as pd\n",
    "import seaborn as sns\n",
    "from shutil import move\n",
    "import matplotlib.pyplot as plt"
   ]
  },
  {
   "cell_type": "code",
   "execution_count": 20,
   "metadata": {},
   "outputs": [],
   "source": [
    "# load variables\n",
    "%store -r main_path data_path csv_path\n",
    "\n",
    "main_path = main_path\n",
    "data_path = data_path\n",
    "csv_path = csv_path\n",
    "\n",
    "origin_file_path = \"/Users/jaewone/Downloads/dddd/train\""
   ]
  },
  {
   "cell_type": "code",
   "execution_count": 21,
   "metadata": {},
   "outputs": [],
   "source": [
    "label_list = ['hug', 'diaper', 'hungry', 'sleepy', 'awake', 'uncomfortable']"
   ]
  },
  {
   "cell_type": "code",
   "execution_count": 22,
   "metadata": {},
   "outputs": [],
   "source": [
    "# extract data from json\n",
    "file_list = []\n",
    "state_list = []\n",
    "\n",
    "\n",
    "count_total = 0\n",
    "for label in label_list:\n",
    "    label_folder_path = os.path.join(origin_file_path, label)\n",
    "    for file in os.listdir(label_folder_path):\n",
    "        if file.rsplit('.')[1] == 'wav':\n",
    "            file_list.append(os.path.join(label_folder_path, file))\n",
    "            state_list.append(file.split('_', 1)[0])"
   ]
  },
  {
   "cell_type": "code",
   "execution_count": 23,
   "metadata": {},
   "outputs": [
    {
     "data": {
      "text/html": [
       "<div>\n",
       "<style scoped>\n",
       "    .dataframe tbody tr th:only-of-type {\n",
       "        vertical-align: middle;\n",
       "    }\n",
       "\n",
       "    .dataframe tbody tr th {\n",
       "        vertical-align: top;\n",
       "    }\n",
       "\n",
       "    .dataframe thead th {\n",
       "        text-align: right;\n",
       "    }\n",
       "</style>\n",
       "<table border=\"1\" class=\"dataframe\">\n",
       "  <thead>\n",
       "    <tr style=\"text-align: right;\">\n",
       "      <th></th>\n",
       "      <th>file</th>\n",
       "      <th>state</th>\n",
       "      <th>source</th>\n",
       "      <th>gender</th>\n",
       "      <th>age</th>\n",
       "      <th>detail</th>\n",
       "    </tr>\n",
       "  </thead>\n",
       "  <tbody>\n",
       "    <tr>\n",
       "      <th>915</th>\n",
       "      <td>/Users/jaewone/Downloads/dddd/train/uncomforta...</td>\n",
       "      <td>uncomfortable</td>\n",
       "      <td>iFLYTEK</td>\n",
       "      <td></td>\n",
       "      <td></td>\n",
       "      <td></td>\n",
       "    </tr>\n",
       "    <tr>\n",
       "      <th>916</th>\n",
       "      <td>/Users/jaewone/Downloads/dddd/train/uncomforta...</td>\n",
       "      <td>uncomfortable</td>\n",
       "      <td>iFLYTEK</td>\n",
       "      <td></td>\n",
       "      <td></td>\n",
       "      <td></td>\n",
       "    </tr>\n",
       "    <tr>\n",
       "      <th>917</th>\n",
       "      <td>/Users/jaewone/Downloads/dddd/train/uncomforta...</td>\n",
       "      <td>uncomfortable</td>\n",
       "      <td>iFLYTEK</td>\n",
       "      <td></td>\n",
       "      <td></td>\n",
       "      <td></td>\n",
       "    </tr>\n",
       "  </tbody>\n",
       "</table>\n",
       "</div>"
      ],
      "text/plain": [
       "                                                  file          state  \\\n",
       "915  /Users/jaewone/Downloads/dddd/train/uncomforta...  uncomfortable   \n",
       "916  /Users/jaewone/Downloads/dddd/train/uncomforta...  uncomfortable   \n",
       "917  /Users/jaewone/Downloads/dddd/train/uncomforta...  uncomfortable   \n",
       "\n",
       "      source gender age detail  \n",
       "915  iFLYTEK                    \n",
       "916  iFLYTEK                    \n",
       "917  iFLYTEK                    "
      ]
     },
     "execution_count": 23,
     "metadata": {},
     "output_type": "execute_result"
    }
   ],
   "source": [
    "# Create dataframe\n",
    "\n",
    "df = pd.DataFrame(list(zip(file_list, state_list)), columns=['file', 'state'])\n",
    "\n",
    "df['source'] = 'iFLYTEK'\n",
    "df['gender'] = df['age'] = df['detail'] = ''\n",
    "df.tail(3)"
   ]
  },
  {
   "cell_type": "code",
   "execution_count": 24,
   "metadata": {},
   "outputs": [],
   "source": [
    "# move file to data folder\n",
    "def move_all_file_in_folder(from_path, to_path, extension=None):\n",
    "  for (path, dirs, files) in os.walk(from_path):\n",
    "    for dir in dirs:\n",
    "      move_all_file_in_folder(os.path.join(from_path, dir), to_path, extension)\n",
    "    for file in files:\n",
    "      if extension:\n",
    "        s = file.rsplit('.', 1)\n",
    "        if len(s) == 1 or f'.{s[1]}' not in extension:\n",
    "          continue\n",
    "      move(os.path.join(path, file), os.path.join(to_path, file))\n",
    "\n",
    "move_all_file_in_folder(origin_file_path, data_path, extension=['.wav'])"
   ]
  },
  {
   "cell_type": "code",
   "execution_count": 25,
   "metadata": {},
   "outputs": [
    {
     "name": "stderr",
     "output_type": "stream",
     "text": [
      "/var/folders/10/9_p98m6j42n84y4wmf_k0krc0000gn/T/ipykernel_91261/2828891562.py:2: FutureWarning: The default value of regex will change from True to False in a future version.\n",
      "  df['file'] = df['file'].str.replace(origin_file_path, '').str.replace(\n"
     ]
    },
    {
     "data": {
      "text/html": [
       "<div>\n",
       "<style scoped>\n",
       "    .dataframe tbody tr th:only-of-type {\n",
       "        vertical-align: middle;\n",
       "    }\n",
       "\n",
       "    .dataframe tbody tr th {\n",
       "        vertical-align: top;\n",
       "    }\n",
       "\n",
       "    .dataframe thead th {\n",
       "        text-align: right;\n",
       "    }\n",
       "</style>\n",
       "<table border=\"1\" class=\"dataframe\">\n",
       "  <thead>\n",
       "    <tr style=\"text-align: right;\">\n",
       "      <th></th>\n",
       "      <th>file</th>\n",
       "      <th>state</th>\n",
       "      <th>source</th>\n",
       "      <th>gender</th>\n",
       "      <th>age</th>\n",
       "      <th>detail</th>\n",
       "    </tr>\n",
       "  </thead>\n",
       "  <tbody>\n",
       "    <tr>\n",
       "      <th>915</th>\n",
       "      <td>uncomfortable_109.wav</td>\n",
       "      <td>uncomfortable</td>\n",
       "      <td>iFLYTEK</td>\n",
       "      <td></td>\n",
       "      <td></td>\n",
       "      <td></td>\n",
       "    </tr>\n",
       "    <tr>\n",
       "      <th>916</th>\n",
       "      <td>uncomfortable_135.wav</td>\n",
       "      <td>uncomfortable</td>\n",
       "      <td>iFLYTEK</td>\n",
       "      <td></td>\n",
       "      <td></td>\n",
       "      <td></td>\n",
       "    </tr>\n",
       "    <tr>\n",
       "      <th>917</th>\n",
       "      <td>uncomfortable_121.wav</td>\n",
       "      <td>uncomfortable</td>\n",
       "      <td>iFLYTEK</td>\n",
       "      <td></td>\n",
       "      <td></td>\n",
       "      <td></td>\n",
       "    </tr>\n",
       "  </tbody>\n",
       "</table>\n",
       "</div>"
      ],
      "text/plain": [
       "                      file          state   source gender age detail\n",
       "915  uncomfortable_109.wav  uncomfortable  iFLYTEK                  \n",
       "916  uncomfortable_135.wav  uncomfortable  iFLYTEK                  \n",
       "917  uncomfortable_121.wav  uncomfortable  iFLYTEK                  "
      ]
     },
     "execution_count": 25,
     "metadata": {},
     "output_type": "execute_result"
    }
   ],
   "source": [
    "# Update file path\n",
    "df['file'] = df['file'].str.replace(origin_file_path, '').str.replace(\n",
    "    '|'.join([f'/{label}/' for label in label_list]), '')\n",
    "\n",
    "df.tail(3)"
   ]
  },
  {
   "cell_type": "code",
   "execution_count": 26,
   "metadata": {},
   "outputs": [
    {
     "data": {
      "text/html": [
       "<div>\n",
       "<style scoped>\n",
       "    .dataframe tbody tr th:only-of-type {\n",
       "        vertical-align: middle;\n",
       "    }\n",
       "\n",
       "    .dataframe tbody tr th {\n",
       "        vertical-align: top;\n",
       "    }\n",
       "\n",
       "    .dataframe thead th {\n",
       "        text-align: right;\n",
       "    }\n",
       "</style>\n",
       "<table border=\"1\" class=\"dataframe\">\n",
       "  <thead>\n",
       "    <tr style=\"text-align: right;\">\n",
       "      <th></th>\n",
       "      <th>state</th>\n",
       "      <th>gender</th>\n",
       "      <th>age</th>\n",
       "      <th>source</th>\n",
       "      <th>file</th>\n",
       "      <th>detail</th>\n",
       "      <th>duration</th>\n",
       "    </tr>\n",
       "  </thead>\n",
       "  <tbody>\n",
       "    <tr>\n",
       "      <th>3685</th>\n",
       "      <td>uncomfortable</td>\n",
       "      <td></td>\n",
       "      <td></td>\n",
       "      <td>iFLYTEK</td>\n",
       "      <td>uncomfortable_109.wav</td>\n",
       "      <td></td>\n",
       "      <td>NaN</td>\n",
       "    </tr>\n",
       "    <tr>\n",
       "      <th>3686</th>\n",
       "      <td>uncomfortable</td>\n",
       "      <td></td>\n",
       "      <td></td>\n",
       "      <td>iFLYTEK</td>\n",
       "      <td>uncomfortable_135.wav</td>\n",
       "      <td></td>\n",
       "      <td>NaN</td>\n",
       "    </tr>\n",
       "    <tr>\n",
       "      <th>3687</th>\n",
       "      <td>uncomfortable</td>\n",
       "      <td></td>\n",
       "      <td></td>\n",
       "      <td>iFLYTEK</td>\n",
       "      <td>uncomfortable_121.wav</td>\n",
       "      <td></td>\n",
       "      <td>NaN</td>\n",
       "    </tr>\n",
       "  </tbody>\n",
       "</table>\n",
       "</div>"
      ],
      "text/plain": [
       "              state gender age   source                   file detail  \\\n",
       "3685  uncomfortable             iFLYTEK  uncomfortable_109.wav          \n",
       "3686  uncomfortable             iFLYTEK  uncomfortable_135.wav          \n",
       "3687  uncomfortable             iFLYTEK  uncomfortable_121.wav          \n",
       "\n",
       "      duration  \n",
       "3685       NaN  \n",
       "3686       NaN  \n",
       "3687       NaN  "
      ]
     },
     "execution_count": 26,
     "metadata": {},
     "output_type": "execute_result"
    }
   ],
   "source": [
    "# Append to csv\n",
    "origin_df = pd.read_csv(csv_path, index_col=0).fillna('')\n",
    "origin_df = pd.concat([origin_df, df])\n",
    "origin_df = origin_df.reset_index(drop=True)\n",
    "\n",
    "# Update csv\n",
    "origin_df.to_csv(csv_path)\n",
    "origin_df.tail(3)"
   ]
  },
  {
   "cell_type": "code",
   "execution_count": 27,
   "metadata": {},
   "outputs": [
    {
     "name": "stdout",
     "output_type": "stream",
     "text": [
      "state 에 따른 파일의 개수와 비율\n",
      "hug        state exists in 17.43% of   160 files.\n",
      "hungry     state exists in 17.43% of   160 files.\n",
      "awake      state exists in 17.43% of   160 files.\n",
      "uncomfortable state exists in 17.43% of   160 files.\n",
      "sleepy     state exists in 15.69% of   144 files.\n",
      "diaper     state exists in 14.60% of   134 files.\n"
     ]
    },
    {
     "data": {
      "image/png": "[encoded data removed]",
      "text/plain": [
       "<Figure size 1440x432 with 1 Axes>"
      ]
     },
     "metadata": {
      "needs_background": "light"
     },
     "output_type": "display_data"
    }
   ],
   "source": [
    "def print_category_info(df: pd.DataFrame, category: str, sub=None):\n",
    "    print(f\"{category} 에 따른 파일의 개수와 비율\")\n",
    "    value_counts = df[category].value_counts()\n",
    "    keys = value_counts.index.tolist()\n",
    "    counts = value_counts.values.tolist()\n",
    "    rates = list(df[category].value_counts(normalize=True).values)\n",
    "\n",
    "    for i in range(len(keys)):\n",
    "        print(f\"{keys[i]:10s} state exists in {rates[i]*100:05.2f}% of {counts[i]:5d} files.\")\n",
    "\n",
    "    fig, ax = plt.subplots(figsize=(20, 6))\n",
    "    sns.countplot(y=category, \n",
    "                data=df,\n",
    "                order=keys,\n",
    "                hue=sub,\n",
    "                dodge=False)\n",
    "\n",
    "print_category_info(df, 'state')"
   ]
  }
 ],
 "metadata": {
  "kernelspec": {
   "display_name": "Python 3",
   "language": "python",
   "name": "python3"
  },
  "language_info": {
   "codemirror_mode": {
    "name": "ipython",
    "version": 3
   },
   "file_extension": ".py",
   "mimetype": "text/x-python",
   "name": "python",
   "nbconvert_exporter": "python",
   "pygments_lexer": "ipython3",
   "version": "3.9.0"
  },
  "orig_nbformat": 4
 },
 "nbformat": 4,
 "nbformat_minor": 2
}
