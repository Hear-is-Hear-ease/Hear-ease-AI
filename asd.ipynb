{
 "cells": [
  {
   "cell_type": "code",
   "execution_count": 3,
   "metadata": {},
   "outputs": [],
   "source": [
    "from scipy import signal\n",
    "import os\n",
    "import pandas as pd\n",
    "import numpy as np"
   ]
  },
  {
   "cell_type": "code",
   "execution_count": 5,
   "metadata": {},
   "outputs": [],
   "source": [
    "df = pd.read_csv('info.csv', index_col=0)"
   ]
  },
  {
   "cell_type": "code",
   "execution_count": 18,
   "metadata": {},
   "outputs": [
    {
     "name": "stdout",
     "output_type": "stream",
     "text": [
      "uncomfortable and uncomfortable 유사도: 11542\n",
      "uncomfortable and diaper 유사도: 21883\n",
      "uncomfortable and uncomfortable 유사도: 1800\n",
      "uncomfortable and uncomfortable 유사도: 29500\n",
      "uncomfortable and diaper 유사도: -26972\n",
      "uncomfortable and hug 유사도: 26574\n",
      "uncomfortable and sleepy 유사도: -8999\n",
      "diaper and uncomfortable 유사도: -14743\n",
      "diaper and diaper 유사도: 24508\n",
      "diaper and uncomfortable 유사도: -13984\n",
      "diaper and uncomfortable 유사도: -28814\n",
      "diaper and diaper 유사도: -21718\n",
      "diaper and hug 유사도: -13725\n",
      "diaper and sleepy 유사도: -12659\n",
      "uncomfortable and uncomfortable 유사도: 25047\n",
      "uncomfortable and diaper 유사도: 29580\n",
      "uncomfortable and uncomfortable 유사도: -18971\n",
      "uncomfortable and uncomfortable 유사도: -4055\n",
      "uncomfortable and diaper 유사도: 21423\n",
      "uncomfortable and hug 유사도: 22055\n",
      "uncomfortable and sleepy 유사도: 24689\n",
      "uncomfortable and uncomfortable 유사도: -16875\n",
      "uncomfortable and diaper 유사도: -16272\n",
      "uncomfortable and uncomfortable 유사도: -11523\n",
      "uncomfortable and uncomfortable 유사도: -20061\n",
      "uncomfortable and diaper 유사도: -28187\n",
      "uncomfortable and hug 유사도: 14803\n",
      "uncomfortable and sleepy 유사도: -18846\n",
      "diaper and uncomfortable 유사도: -17065\n",
      "diaper and diaper 유사도: -20317\n",
      "diaper and uncomfortable 유사도: -24594\n",
      "diaper and uncomfortable 유사도: -6388\n",
      "diaper and diaper 유사도: 19178\n",
      "diaper and hug 유사도: -26212\n",
      "diaper and sleepy 유사도: -22638\n",
      "hug and uncomfortable 유사도: 3087\n",
      "hug and diaper 유사도: 2642\n",
      "hug and uncomfortable 유사도: 19920\n",
      "hug and uncomfortable 유사도: -10231\n",
      "hug and diaper 유사도: 16935\n",
      "hug and hug 유사도: 6945\n",
      "hug and sleepy 유사도: 3109\n",
      "sleepy and uncomfortable 유사도: 8682\n",
      "sleepy and diaper 유사도: 28918\n",
      "sleepy and uncomfortable 유사도: -30595\n",
      "sleepy and uncomfortable 유사도: 28297\n",
      "sleepy and diaper 유사도: 2624\n",
      "sleepy and hug 유사도: 210\n",
      "sleepy and sleepy 유사도: 14904\n"
     ]
    }
   ],
   "source": [
    "import scipy.signal\n",
    "import scipy.io.wavfile as wav\n",
    "\n",
    "\n",
    "def compute_audio_similarity(file1, file2):\n",
    "    # 두 음성 파일 읽기\n",
    "    rate1, data1 = wav.read(file1)\n",
    "    rate2, data2 = wav.read(file2)\n",
    "\n",
    "    # 두 음성 데이터의 길이를 맞추기 위해 짧은 쪽에 맞춥니다.\n",
    "    min_length = min(len(data1), len(data2))\n",
    "    data1 = data1[:min_length]\n",
    "    data2 = data2[:min_length]\n",
    "\n",
    "    # 상호 상관관계를 계산하여 유사도를 측정합니다.\n",
    "    correlation = scipy.signal.correlate(data1, data2, mode='same')\n",
    "    correlation = correlation[(len(data1)-len(data2)-1)                              :len(correlation)-((len(data1)-len(data2)-1))]\n",
    "\n",
    "    # 상관관계의 최대값을 찾습니다.\n",
    "    max_correlation = max(correlation)\n",
    "\n",
    "    return max_correlation\n",
    "\n",
    "\n",
    "label_list = ['uncomfortable', 'diaper', 'uncomfortable',\n",
    "              'uncomfortable', 'diaper', 'hug', 'sleepy']\n",
    "\n",
    "file_list = [\n",
    "    '/Users/jaewone/developer/tensorflow/baby-cry-classification/data/396.wav',\n",
    "    '/Users/jaewone/developer/tensorflow/baby-cry-classification/data/142.wav',\n",
    "    '/Users/jaewone/developer/tensorflow/baby-cry-classification/data/338.wav',\n",
    "    '/Users/jaewone/developer/tensorflow/baby-cry-classification/data/380.wav',\n",
    "    '/Users/jaewone/developer/tensorflow/baby-cry-classification/data/210.wav',\n",
    "    '/Users/jaewone/developer/tensorflow/baby-cry-classification/data/139.wav',\n",
    "    '/Users/jaewone/developer/tensorflow/baby-cry-classification/data/181.wav',\n",
    "]\n",
    "\n",
    "# print(f'{label_list[0]} and {label_list[1]} 유사도: {compute_audio_similarity(file_list[0], file_list[1])}')\n",
    "# print(f'{label_list[0]} and {label_list[2]} 유사도: {compute_audio_similarity(file_list[0], file_list[2])}')\n",
    "# print(f'{label_list[1]} and {label_list[4]} 유사도: {compute_audio_similarity(file_list[1], file_list[4])}')\n",
    "\n",
    "for i in range(len(label_list)):\n",
    "    for j in range(len(label_list)):\n",
    "        print(f'{label_list[i]} and {label_list[j]} 유사도: {compute_audio_similarity(file_list[i], file_list[j])}')\n"
   ]
  }
 ],
 "metadata": {
  "kernelspec": {
   "display_name": "Python 3",
   "language": "python",
   "name": "python3"
  },
  "language_info": {
   "codemirror_mode": {
    "name": "ipython",
    "version": 3
   },
   "file_extension": ".py",
   "mimetype": "text/x-python",
   "name": "python",
   "nbconvert_exporter": "python",
   "pygments_lexer": "ipython3",
   "version": "3.9.0"
  },
  "orig_nbformat": 4
 },
 "nbformat": 4,
 "nbformat_minor": 2
}
